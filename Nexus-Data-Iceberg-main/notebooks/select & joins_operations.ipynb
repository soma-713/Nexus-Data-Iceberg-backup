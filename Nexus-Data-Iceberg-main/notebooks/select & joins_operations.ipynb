{
 "cells": [
  {
   "cell_type": "code",
   "execution_count": 88,
   "id": "b44ef164-c611-4e47-9032-022ef72d3148",
   "metadata": {},
   "outputs": [],
   "source": [
    "from pyspark.sql import SparkSession\n",
    "spark = SparkSession.builder.appName(\"records\").getOrCreate()\n"
   ]
  },
  {
   "cell_type": "code",
   "execution_count": 89,
   "id": "0e5abcf7-1a89-4261-bd2b-ef6231d217ad",
   "metadata": {},
   "outputs": [
    {
     "name": "stdout",
     "output_type": "stream",
     "text": [
      "+---------+\n",
      "|namespace|\n",
      "+---------+\n",
      "|      nyc|\n",
      "+---------+\n",
      "\n"
     ]
    }
   ],
   "source": [
    "# Get list of databases\n",
    "databases = spark.sql(\"SHOW DATABASES\")\n",
    "databases.show()\n"
   ]
  },
  {
   "cell_type": "code",
   "execution_count": 90,
   "id": "56a9a726-bdcd-4c89-bae5-ee8a81df43b5",
   "metadata": {},
   "outputs": [
    {
     "name": "stdout",
     "output_type": "stream",
     "text": [
      "+---------+--------------------+-----------+\n",
      "|namespace|           tableName|isTemporary|\n",
      "+---------+--------------------+-----------+\n",
      "|      nyc|           taxis_100|      false|\n",
      "|      nyc|     taxis_100M_time|      false|\n",
      "|      nyc|taxis_1000_50COLUMNS|      false|\n",
      "|      nyc|            taxis_1B|      false|\n",
      "|      nyc|taxis_100_50COLUM...|      false|\n",
      "|      nyc|taxis_100000_50CO...|      false|\n",
      "|      nyc|            taxis_1L|      false|\n",
      "|      nyc|          taxis_1000|      false|\n",
      "|      nyc|            taxis_10|      false|\n",
      "|      nyc|   taxis_1L_5COLUMNS|      false|\n",
      "|      nyc|         taxis_10000|      false|\n",
      "|      nyc|            taxis_1M|      false|\n",
      "|      nyc|          taxis_1L_5|      false|\n",
      "|      nyc|          taxis_10_M|      false|\n",
      "|      nyc|taxis_1000_50COLU...|      false|\n",
      "|      nyc|  taxis_10_50COLUMNS|      false|\n",
      "|      nyc|           taxis_10K|      false|\n",
      "|      nyc|            taxis_1K|      false|\n",
      "|      nyc|           taxis_10L|      false|\n",
      "|      nyc|        taxis_5_100M|      false|\n",
      "+---------+--------------------+-----------+\n",
      "only showing top 20 rows\n",
      "\n"
     ]
    }
   ],
   "source": [
    "# Get list of tables in the 'nyc' database\n",
    "tables = spark.sql(\"SHOW TABLES IN nyc\")\n",
    "tables.show()\n"
   ]
  },
  {
   "cell_type": "code",
   "execution_count": null,
   "id": "200042a2-42d7-49c9-a005-1a495a30ca1e",
   "metadata": {},
   "outputs": [],
   "source": []
  },
  {
   "cell_type": "code",
   "execution_count": 95,
   "id": "b2e0948e-c25d-49d2-98b0-88d8c4feeb26",
   "metadata": {},
   "outputs": [
    {
     "name": "stdout",
     "output_type": "stream",
     "text": [
      "+--------+\n",
      "|count(1)|\n",
      "+--------+\n",
      "|    2000|\n",
      "+--------+\n",
      "\n",
      "Time taken for the query: 0.012794017791748047 seconds\n"
     ]
    }
   ],
   "source": [
    "import time\n",
    "\n",
    "# Start the timer\n",
    "start_time = time.time()\n",
    "\n",
    "# Execute the SQL query\n",
    "df = spark.sql(\"SELECT COUNT(*) FROM nyc.taxis_1000_50_product\")\n",
    "\n",
    "# Stop the timer\n",
    "end_time = time.time()\n",
    "\n",
    "# Show the result\n",
    "df.show()\n",
    "\n",
    "# Print the time taken for the query\n",
    "print(f\"Time taken for the query: {end_time - start_time} seconds\")\n"
   ]
  },
  {
   "cell_type": "code",
   "execution_count": 19,
   "id": "d275327d-5e0c-4b4f-ac87-7223cb68a1b0",
   "metadata": {},
   "outputs": [
    {
     "name": "stdout",
     "output_type": "stream",
     "text": [
      "     column_name distinct_types\n",
      "0    extra_col_0              1\n",
      "1    extra_col_1              1\n",
      "2    extra_col_2              1\n",
      "3    extra_col_3              1\n",
      "4    extra_col_4              1\n",
      "5    extra_col_5              1\n",
      "6    extra_col_6              1\n",
      "7    extra_col_7              1\n",
      "8    extra_col_8              1\n",
      "9    extra_col_9              1\n",
      "10  extra_col_10              1\n",
      "11  extra_col_11              1\n",
      "12  extra_col_12              1\n",
      "13  extra_col_13              1\n",
      "14  extra_col_14              1\n",
      "15  extra_col_15              1\n",
      "16  extra_col_16              1\n",
      "17  extra_col_17              1\n",
      "18  extra_col_18              1\n",
      "19  extra_col_19              1\n",
      "20  extra_col_20              1\n",
      "21  extra_col_21              1\n",
      "22  extra_col_22              1\n",
      "23  extra_col_23              1\n",
      "24  extra_col_24              1\n",
      "25  extra_col_25              1\n",
      "26  extra_col_26              1\n",
      "27  extra_col_27              1\n",
      "28  extra_col_28              1\n",
      "29  extra_col_29              1\n",
      "30  extra_col_30              1\n",
      "31  extra_col_31              1\n",
      "32  extra_col_32              1\n",
      "33  extra_col_33              1\n",
      "34  extra_col_34              1\n",
      "35  extra_col_35              1\n",
      "36  extra_col_36              1\n",
      "37  extra_col_37              1\n",
      "38  extra_col_38              1\n",
      "39  extra_col_39              1\n",
      "40  extra_col_40              1\n",
      "41  extra_col_41              1\n",
      "42  extra_col_42              1\n",
      "43  extra_col_43              1\n",
      "44  extra_col_44              1\n",
      "45  extra_col_45              1\n",
      "46  extra_col_46              1\n",
      "47  extra_col_47              1\n",
      "48  extra_col_48              1\n",
      "49  extra_col_49              1\n"
     ]
    }
   ],
   "source": [
    "import pandas as pd\n",
    "\n",
    "# Assuming you have the result of a query stored in a Spark DataFrame `df`\n",
    "df = spark.sql(\"SELECT * FROM nyc.taxis_10000_50COLUMNS\")\n",
    "\n",
    "# Convert the Spark DataFrame to Pandas\n",
    "df_pandas = df.toPandas()\n",
    "\n",
    "# Function to get distinct types of values in a column\n",
    "def get_distinct_types(column):\n",
    "    return column.apply(type).nunique()\n",
    "\n",
    "# Create an empty DataFrame to store results\n",
    "distinct_types_df = pd.DataFrame(columns=['column_name', 'distinct_types'])\n",
    "\n",
    "# List to hold the rows\n",
    "rows = []\n",
    "\n",
    "# Iterate through each column and get the count of distinct types\n",
    "for column in df_pandas.columns:\n",
    "    rows.append({\n",
    "        'column_name': column,\n",
    "        'distinct_types': get_distinct_types(df_pandas[column])\n",
    "    })\n",
    "\n",
    "# Create a new DataFrame using pd.concat\n",
    "distinct_types_df = pd.concat([distinct_types_df, pd.DataFrame(rows)], ignore_index=True)\n",
    "\n",
    "# Show the result\n",
    "print(distinct_types_df)\n"
   ]
  },
  {
   "cell_type": "code",
   "execution_count": 18,
   "id": "70057ebc-bb3a-436a-b646-4dae73840854",
   "metadata": {},
   "outputs": [
    {
     "name": "stdout",
     "output_type": "stream",
     "text": [
      "+---------------------------+\n",
      "|count(DISTINCT extra_col_0)|\n",
      "+---------------------------+\n",
      "|                      10000|\n",
      "+---------------------------+\n",
      "\n"
     ]
    }
   ],
   "source": [
    "# df = spark.sql(\"SELECT COUNT(distinct(extra_col_0)) FROM nyc.taxis_10000_50COLUMNS\")\n",
    "# df.show()"
   ]
  },
  {
   "cell_type": "code",
   "execution_count": 23,
   "id": "254d2a16-5e7c-4465-b35e-e92ed33a2f40",
   "metadata": {},
   "outputs": [],
   "source": [
    "# df_pandas.to_csv('C:\\\\Users\\\\DataEngg\\\\Downloads\\\\Nexus-Data-Iceberg-main\\\\data_10000.csv', index=False)\n"
   ]
  },
  {
   "cell_type": "code",
   "execution_count": 33,
   "id": "1f0a36fa-8e7d-40b4-9aba-677ea93ea21a",
   "metadata": {},
   "outputs": [],
   "source": [
    "# Convert the Spark DataFrame to Pandas\n",
    "df_pandas = df.toPandas()\n",
    "\n",
    "# Save the Pandas DataFrame to a CSV file\n",
    "df_pandas.to_csv('C:\\\\Users\\\\DataEngg\\\\Downloads\\\\Nexus-Data-Iceberg-main\\\\data_10000.csv', index=False)  # Update the path as needed\n"
   ]
  },
  {
   "cell_type": "code",
   "execution_count": 94,
   "id": "466ea0db-23de-4941-93e8-9d5e9dbae683",
   "metadata": {},
   "outputs": [
    {
     "name": "stdout",
     "output_type": "stream",
     "text": [
      "+-----------+-----------+-----------+-----------+-----------+-----------+-----------+-----------+-----------+-----------+------------+------------+------------+------------+------------+------------+------------+------------+------------+------------+------------+------------+------------+------------+------------+------------+------------+------------+------------+------------+------------+------------+------------+------------+------------+------------+------------+------------+------------+------------+------------+------------+------------+------------+------------+------------+------------+------------+------------+------------+\n",
      "|extra_col_0|extra_col_1|extra_col_2|extra_col_3|extra_col_4|extra_col_5|extra_col_6|extra_col_7|extra_col_8|extra_col_9|extra_col_10|extra_col_11|extra_col_12|extra_col_13|extra_col_14|extra_col_15|extra_col_16|extra_col_17|extra_col_18|extra_col_19|extra_col_20|extra_col_21|extra_col_22|extra_col_23|extra_col_24|extra_col_25|extra_col_26|extra_col_27|extra_col_28|extra_col_29|extra_col_30|extra_col_31|extra_col_32|extra_col_33|extra_col_34|extra_col_35|extra_col_36|extra_col_37|extra_col_38|extra_col_39|extra_col_40|extra_col_41|extra_col_42|extra_col_43|extra_col_44|extra_col_45|extra_col_46|extra_col_47|extra_col_48|extra_col_49|\n",
      "+-----------+-----------+-----------+-----------+-----------+-----------+-----------+-----------+-----------+-----------+------------+------------+------------+------------+------------+------------+------------+------------+------------+------------+------------+------------+------------+------------+------------+------------+------------+------------+------------+------------+------------+------------+------------+------------+------------+------------+------------+------------+------------+------------+------------+------------+------------+------------+------------+------------+------------+------------+------------+------------+\n",
      "| IAAQUJSTXF|       6145|         CV| 2021-03-01| GFYECLZRSY|       5912|        CAR| 2022-07-01| TDXNPKKKXX|       4741|          CV|  2021-05-01|  USEVJZNVCO|        8258|          TW|  2025-02-01|  AGAEZIJLZZ|        7529|         CAR|  2020-02-01|  DYVNIFJLBV|        8542|          CV|  2022-03-01|  NLVPKWWNRC|        1292|         CAR|  2020-07-01|  YUZNFRDMFP|        3270|          CV|  2024-10-01|  SXQUQXSKER|        4223|          CV|  2023-10-01|  SPSLDVEZAX|         559|          TW|  2020-10-01|  HNFQEGDZQX|        6753|         CAR|  2023-01-01|  GQSGZDOBQR|        5594|         CAR|  2025-02-01|  VVFRXXUIEW|        6771|\n",
      "| KOSZJDYQVT|       8988|         CV| 2023-09-01| AZAYQQTSAA|       9549|         CV| 2021-11-01| XEAAXSIDZJ|       3433|          TW|  2020-10-01|  QIQFVITTTL|        8977|         CAR|  2023-11-01|  HLGFFVDMSU|        2276|         CAR|  2022-08-01|  JBFSWPLKCB|         219|         CAR|  2022-03-01|  AKCSYPHFSB|         738|          CV|  2021-10-01|  QIQWFELMYB|        6465|          TW|  2024-04-01|  UEZRVKZQLE|        8018|         CAR|  2024-08-01|  EZPOAYFKUK|        6768|         CAR|  2024-12-01|  PUYVQFFWIQ|        9544|          TW|  2024-03-01|  PSKFZOGYEU|        9089|         CAR|  2024-08-01|  TIKICJNXJC|        8856|\n",
      "| QWMEGZKEAG|       2593|         TW| 2024-01-01| ZYRCHLTIKZ|       1354|        CAR| 2021-10-01| LXAUJNSHVE|       8951|          TW|  2021-01-01|  KQDCYYFZMC|        1620|          CV|  2023-03-01|  TNEQXONWVK|        9622|          CV|  2021-06-01|  VEGZYAZACZ|        9377|          TW|  2024-08-01|  ZAQIHSIDJF|        1199|          TW|  2023-10-01|  NTNCLNWUPI|        1047|         CAR|  2025-01-01|  MDSPYNEFOL|         682|         CAR|  2023-02-01|  AQZNCPSXEE|        3808|          TW|  2024-03-01|  GVCULRBGGJ|        1221|          CV|  2023-05-01|  LNYBOYRYAP|        4323|         CAR|  2022-05-01|  MOFIKQYQWV|        6568|\n",
      "| GOKQGRVSZB|       1017|         TW| 2024-04-01| ECQRRKQVGH|       2890|         CV| 2022-08-01| FIGDYKPLBI|       7852|          TW|  2024-01-01|  MEKKCPHMCF|        5967|          CV|  2022-08-01|  CXDXMGVDKE|        1997|          CV|  2020-10-01|  OMTFRICMUI|        2893|          TW|  2024-10-01|  HXKWKNEZGB|        3212|         CAR|  2024-08-01|  MPFVESKXYW|        4647|         CAR|  2023-08-01|  ZBPUTPWVHN|        2293|         CAR|  2022-01-01|  ABBILGAMIC|        3481|          TW|  2024-07-01|  HNOIQFZERY|        9856|          TW|  2024-02-01|  RAWRIHZLSS|         206|          CV|  2021-06-01|  FXOJFGWGEE|         252|\n",
      "| IXWUFBPQNN|       4465|         CV| 2020-08-01| LUNHVTXBVM|       3878|        CAR| 2021-05-01| CSNUXBXMTP|       5830|          CV|  2024-05-01|  ZSXUIUXXEU|        4129|          TW|  2021-03-01|  LAKAHTKCXX|        7131|         CAR|  2024-07-01|  QOZCLPNGPO|        2719|         CAR|  2023-08-01|  FLPXIIYIMM|        3109|          TW|  2024-11-01|  LLTSDRYNHT|        1884|          CV|  2024-06-01|  SVFEJQMLNH|        3494|          CV|  2023-07-01|  UBHYEVZXBZ|        3214|          CV|  2023-08-01|  VNEAQZJRAJ|        4775|          CV|  2023-03-01|  NZLLQPCBLM|        9111|         CAR|  2024-10-01|  VYNYUNRQPV|        9816|\n",
      "| QKWENHKQWD|       8961|         TW| 2022-02-01| TUVWECIQAS|       9665|         TW| 2023-03-01| OPPLCBJYRT|       9214|          CV|  2023-05-01|  FAEQXIJZIO|        7640|          CV|  2024-04-01|  LJGBKQFRXJ|        9256|          TW|  2021-08-01|  QDAPHCSSBU|        1875|          TW|  2023-08-01|  IGXAUHYZNX|        2854|          CV|  2023-04-01|  WIMFOQVWQA|        4788|         CAR|  2023-03-01|  IFHVQLYYNV|        8416|         CAR|  2021-09-01|  PGNWMKDOEA|        6495|          CV|  2021-08-01|  ESJHTUTDCC|        9861|          CV|  2021-11-01|  WHBBPASSZD|        6735|         CAR|  2024-12-01|  XVGSJIXBDC|        7959|\n",
      "| VTSZUSYISN|       7449|        CAR| 2021-09-01| VSHPSSDBJL|       3962|         CV| 2021-05-01| BYGQFGIIWB|       9514|          TW|  2022-12-01|  TRZUNTMVHD|        8918|          TW|  2020-01-01|  BFETPMXPBM|        5085|          TW|  2022-08-01|  XVVVIYFJZN|        7737|          CV|  2021-01-01|  YGIPJXAVGP|        9464|          CV|  2022-04-01|  UAXTDBEFLD|         921|          CV|  2023-08-01|  QSSIYHDWOL|        8375|         CAR|  2021-04-01|  PYQIYHXSIT|        4197|         CAR|  2021-04-01|  ZOBZNBSWDV|        2087|         CAR|  2020-05-01|  JTUJGVGENE|        4223|         CAR|  2022-02-01|  QVXHEDTBCT|        1088|\n",
      "| WUJTZIOSKS|       1916|         TW| 2023-03-01| MLWIFFEEOE|       5645|         TW| 2024-04-01| YIDDOHCXYF|       5954|          CV|  2024-01-01|  JBAVJGJKCE|        3238|          CV|  2023-06-01|  BICBJUJYLS|         160|         CAR|  2020-04-01|  ZKJECTMXVG|        2382|          CV|  2023-08-01|  MJXDXQQRHC|        9801|          CV|  2021-11-01|  CNOZCTSMQC|        4464|          TW|  2020-06-01|  AVGOOGEJKQ|        3601|          TW|  2021-07-01|  TMYAPSPFDL|        5284|          TW|  2021-11-01|  OUNOJWADRB|        7368|          TW|  2020-03-01|  PVZCZBLYOD|        5903|         CAR|  2022-04-01|  YXQPATHLQH|        1389|\n",
      "| RBRXILPJCD|       3049|        CAR| 2021-01-01| HEFIABBGZD|       1705|        CAR| 2023-10-01| UMAZWIGPCB|       6412|          TW|  2024-06-01|  MLODVSHDMC|        8863|         CAR|  2024-10-01|  FHFCLPXFDZ|        4946|          CV|  2024-03-01|  FTFIFINXOL|        2620|         CAR|  2020-03-01|  ZHQSKAELVF|        1135|         CAR|  2021-12-01|  CJWPINNHDK|        6939|          CV|  2023-04-01|  SZMVSNTBUW|        8436|          TW|  2020-06-01|  LQYPKYFCEV|        1143|          CV|  2021-09-01|  BJPSEQIGWE|        1378|          CV|  2023-02-01|  ZLHEHICZTG|        9380|          CV|  2023-02-01|  YUEQZLNWJV|        4187|\n",
      "| GYRRKYSYEH|       2777|         TW| 2022-01-01| DNPQRKYZFX|       9905|         CV| 2024-04-01| YNBRFEFXZD|       7897|          CV|  2023-09-01|  LCIAZPGPCW|        3592|          CV|  2023-12-01|  GJNGHLRWCU|        6441|          TW|  2025-02-01|  GNBICGIUTW|        7255|          CV|  2023-04-01|  BBGYSNXAZT|        9076|          TW|  2024-05-01|  PGLMKBRGHL|        3647|         CAR|  2023-06-01|  NKHCYUGMAD|        6371|          CV|  2021-11-01|  LXAFRRRBWQ|        4847|          CV|  2024-06-01|  LAYWJFZRKG|        5867|          CV|  2022-03-01|  OLLZPXUWLZ|         291|         CAR|  2021-03-01|  XBYHQTVCFG|        3919|\n",
      "| AHPMVEFTZN|       1616|        CAR| 2024-01-01| INGHFCGFYU|       4588|        CAR| 2023-05-01| CPLAJGTOQC|       4015|         CAR|  2020-06-01|  OXDRFYYOND|        7100|          TW|  2022-10-01|  PEXELCLJBO|        5878|         CAR|  2020-09-01|  VUAEQDNPNR|         475|         CAR|  2024-08-01|  DIQBUSEKFA|        1054|          CV|  2022-09-01|  UWOFGECVSK|        2591|          CV|  2024-03-01|  PGMBPOOROG|        8918|          TW|  2022-05-01|  YUNXBXPZKW|         943|          TW|  2021-01-01|  HMQFELXDJO|        9462|         CAR|  2020-09-01|  SETZSWKJZU|        7919|          CV|  2020-07-01|  VSSFQNJHRM|         692|\n",
      "| HWBNCXCNBJ|       8084|         TW| 2022-06-01| VYOACQRTHU|       9719|         CV| 2024-01-01| OXNGLBKGCI|       6503|          CV|  2023-11-01|  CDIXVWODOL|        3606|          CV|  2022-01-01|  YYZJHSLNGZ|        9736|          CV|  2025-02-01|  BQZQPJAARP|        3266|          CV|  2024-08-01|  GTZLPUQXUR|        3603|         CAR|  2021-09-01|  GYZCYJFOZO|        7402|          TW|  2022-05-01|  IAWMVFNUVW|        2472|         CAR|  2024-01-01|  GKJAIBCFQI|        8902|          TW|  2020-05-01|  VLVMRXTOET|        3788|         CAR|  2020-09-01|  WCYYPAZEHV|        1788|         CAR|  2023-12-01|  QBMATYOCSE|        4115|\n",
      "| RKNLGHTOBV|       8846|         CV| 2023-04-01| CFXFTDWYEK|       5108|         TW| 2020-08-01| RZRYZRMJZW|       2896|          TW|  2025-02-01|  SFFSQOUDSK|        8946|          TW|  2020-12-01|  KBRQPNDDHH|        4371|          TW|  2023-10-01|  WKFMGBYEGE|         383|         CAR|  2021-06-01|  CJXBAATHDV|        8482|         CAR|  2021-06-01|  QESVDZWNIF|        2270|          CV|  2023-08-01|  TWUAOBPQXO|        7068|          TW|  2024-12-01|  JNOLCVPDYU|        8792|          TW|  2021-08-01|  JRTVLAXNOM|        8325|          TW|  2022-04-01|  RWMEIYNJZB|        3876|          TW|  2021-01-01|  WBBTMVCHCA|         727|\n",
      "| BCTVBUHBVG|       2859|         CV| 2024-03-01| TBZXTYVIFV|       8076|        CAR| 2023-08-01| GUGVBMRUNU|       2829|          TW|  2023-03-01|  HGQVHXQRUD|         163|          CV|  2023-11-01|  FMOABOJEWI|        5311|          CV|  2024-04-01|  FNEGJYCIRE|        2017|          CV|  2022-12-01|  PRHAEMOYSA|        2000|         CAR|  2020-08-01|  HHCULSDLVO|        5444|          TW|  2020-12-01|  KPFQOXBHJN|        9110|          TW|  2021-07-01|  JMYBSIHFPC|        5394|          CV|  2023-04-01|  WNKHRFEGGU|        4890|          TW|  2024-06-01|  OPWGMVWIWP|        6869|          TW|  2024-09-01|  EQJSAIOBCZ|        8230|\n",
      "| GDQQNHBZKD|       7810|         TW| 2022-10-01| VGOMMVOCMF|       4383|         CV| 2021-10-01| MVAWMKHUEH|        497|         CAR|  2021-01-01|  HFQWZILJWY|        3940|          TW|  2020-10-01|  XHYXDSRUJX|        1022|          CV|  2024-03-01|  MXBEAAMCUJ|        5646|          CV|  2024-01-01|  EZRXAPCDBV|        7377|          CV|  2022-10-01|  VZZYYNBZGS|        6400|          TW|  2024-03-01|  COAYFCGOBM|        8337|          TW|  2023-12-01|  FRBLACUGTF|        1788|         CAR|  2022-10-01|  ALUBDEPMAK|        5521|          TW|  2021-01-01|  RCBOPJNKGD|        5386|         CAR|  2023-04-01|  MGUTVKFLLZ|        9968|\n",
      "| UGGVACZPPQ|       7828|         TW| 2021-12-01| RWEZHZGCOF|       4268|         TW| 2022-05-01| NHDBDDWMIT|        866|          CV|  2020-08-01|  IWDQYYXQWJ|        3743|         CAR|  2023-08-01|  BQOTDXJMPU|        3435|         CAR|  2024-01-01|  HRFJKQYWUN|        5838|          CV|  2021-10-01|  HMIIXOKMPL|        2729|          TW|  2021-04-01|  CRJFDMELQV|        7763|          TW|  2023-10-01|  ULIJDLBGQZ|        9241|          TW|  2021-09-01|  FCPYDPPKFE|        5892|          TW|  2022-04-01|  FRNLQNBIYA|        2249|          CV|  2020-06-01|  IFMLAZAUTC|        7319|          CV|  2024-10-01|  MUPZTNLUXL|        6194|\n",
      "| WMGSPMUYDE|       3247|         CV| 2022-07-01| ICREGJKCJF|       7897|        CAR| 2024-02-01| QCXGUJRRUX|       8825|         CAR|  2021-12-01|  HTTKNJZUPQ|        4054|          CV|  2022-02-01|  DCVGRXQHDF|         612|         CAR|  2023-01-01|  WPYJUSYBUL|        6273|         CAR|  2024-06-01|  UJQQSWBMGI|        7360|          TW|  2024-06-01|  ZNQSXPVDCD|        1834|          TW|  2022-10-01|  XMPDAFRLFT|        3339|          CV|  2024-05-01|  ABKIWFFXSH|        6284|          CV|  2022-01-01|  AOCGPUTTNW|        5184|          CV|  2023-08-01|  HJFMUSRFPC|        4861|          TW|  2024-11-01|  ZZZULCXIIW|        2164|\n",
      "| YPYKMYUCZL|       4909|         CV| 2022-02-01| RKETFBMKJA|       2714|         TW| 2021-01-01| YMNFFGZXSY|       7880|          CV|  2022-03-01|  JUTGLZQZCB|        2144|          TW|  2022-01-01|  VIATGQTEUX|        8153|          CV|  2020-09-01|  VFTJGGGWSA|        1121|          CV|  2020-12-01|  QKHYCQUPFI|        4852|          TW|  2024-08-01|  RSGPQGKTRG|        7754|          TW|  2024-09-01|  WBNKYZTRXG|        6411|          TW|  2021-05-01|  IIFPBXAOGR|        5399|          TW|  2022-01-01|  YIHORLXAZJ|        8512|         CAR|  2024-08-01|  CCLJRNQOOS|        2034|          CV|  2020-12-01|  VYOAJDBJWL|        5744|\n",
      "| ODHMFCVKJO|       1809|         TW| 2021-06-01| SUDKQDOXEF|       8981|         TW| 2024-12-01| IFELSWZKXL|       6341|         CAR|  2021-02-01|  ULIJDCJMZK|        7926|         CAR|  2020-03-01|  YRTSTWIFTP|        2989|          TW|  2023-01-01|  QTCSHDPMIA|        8305|          CV|  2024-05-01|  SVJHGGDUJL|        4194|         CAR|  2021-11-01|  XHFSAKQCBF|        4879|          TW|  2025-01-01|  ALYTZMBTSZ|        9235|         CAR|  2024-04-01|  NUCBCODQTB|        9828|          TW|  2022-01-01|  TJVIBIRTEX|        4345|          TW|  2022-02-01|  CURRDEGYRO|        3178|         CAR|  2024-07-01|  CZXNHFVDZQ|        6230|\n",
      "| NQZXXVPGNQ|       7421|         CV| 2024-10-01| GEZBMURKTG|       2341|         CV| 2021-11-01| IVYWVWHUGE|       9557|         CAR|  2022-08-01|  WRDSWOACZV|        6440|         CAR|  2022-05-01|  CHLWGALVNX|          50|          TW|  2024-04-01|  SSMNJLKQUP|        6340|          TW|  2023-02-01|  NOEFSQXZCW|          64|          CV|  2024-01-01|  TEIVDDQGXE|        3205|          CV|  2020-11-01|  LQTPHYCKWN|         963|         CAR|  2020-09-01|  DXOXJKXFKJ|         378|          CV|  2020-12-01|  HCFLTXEFUP|        2087|         CAR|  2023-12-01|  ZZJJGCNTCJ|        5878|          TW|  2023-05-01|  OYZODDVSRU|        9065|\n",
      "+-----------+-----------+-----------+-----------+-----------+-----------+-----------+-----------+-----------+-----------+------------+------------+------------+------------+------------+------------+------------+------------+------------+------------+------------+------------+------------+------------+------------+------------+------------+------------+------------+------------+------------+------------+------------+------------+------------+------------+------------+------------+------------+------------+------------+------------+------------+------------+------------+------------+------------+------------+------------+------------+\n",
      "only showing top 20 rows\n",
      "\n"
     ]
    }
   ],
   "source": [
    "df = spark.sql(\"SELECT * FROM nyc.taxis_1000_50_product\")\n",
    "df.show()"
   ]
  },
  {
   "cell_type": "code",
   "execution_count": 36,
   "id": "97e002e6-e382-4205-ad70-43d1b6f79c6c",
   "metadata": {},
   "outputs": [],
   "source": [
    "df.write.option(\"header\", \"true\").csv('file:///C:/Users/DataEngg/Downloads/Nexus-Data-Iceberg-main/data_10000.csv')\n"
   ]
  },
  {
   "cell_type": "code",
   "execution_count": 29,
   "id": "f39b0da2-b69e-4e96-a6a0-c5c4784b8808",
   "metadata": {},
   "outputs": [],
   "source": [
    "# # Specify the path to your S3 bucket (make sure the bucket exists)\n",
    "# s3_path = \"s3://prateek-iceberg-tables/iceberg_warehouse/data_10000.csv\"\n",
    "\n",
    "# # Save the DataFrame to S3 in CSV format\n",
    "# df.write.csv(s3_path, header=True)\n"
   ]
  },
  {
   "cell_type": "code",
   "execution_count": 93,
   "id": "4a494aed-795f-414d-a2a3-4be5c52da1b5",
   "metadata": {},
   "outputs": [
    {
     "name": "stdout",
     "output_type": "stream",
     "text": [
      "+----------------------------+---------+\n",
      "|date_format(extra_col_3, MM)|sum_col_1|\n",
      "+----------------------------+---------+\n",
      "|01                          |394969   |\n",
      "|02                          |432854   |\n",
      "|03                          |430002   |\n",
      "|04                          |455975   |\n",
      "|05                          |426552   |\n",
      "|06                          |362719   |\n",
      "|07                          |365252   |\n",
      "|08                          |342378   |\n",
      "|09                          |426008   |\n",
      "|10                          |459800   |\n",
      "|11                          |398141   |\n",
      "|12                          |466761   |\n",
      "+----------------------------+---------+\n",
      "\n",
      "Time taken for the query: 0.022954225540161133 seconds\n"
     ]
    }
   ],
   "source": [
    "import time\n",
    "\n",
    "# Start the timer\n",
    "start_time = time.time()\n",
    "\n",
    "# Define the complex SQL query for 'nyc.taxis_10000_50COLUMNS'\n",
    "query = \"\"\"\n",
    "SELECT\n",
    "DATE_FORMAT(extra_col_3, 'MM'), SUM(extra_col_1) AS sum_col_1  \n",
    "FROM nyc.taxis_1K_50COLUMNS\n",
    "GROUP BY DATE_FORMAT(extra_col_3, 'MM')\n",
    "ORDER BY DATE_FORMAT(extra_col_3, 'MM')\n",
    "\"\"\"\n",
    "\n",
    "# Execute the SQL query\n",
    "df = spark.sql(query)\n",
    "\n",
    "# Stop the timer\n",
    "end_time = time.time()\n",
    "\n",
    "# Show the result\n",
    "df.show(truncate=False)\n",
    "\n",
    "# Print the time taken for the query\n",
    "print(f\"Time taken for the query: {end_time - start_time} seconds\")\n"
   ]
  },
  {
   "cell_type": "code",
   "execution_count": null,
   "id": "20015ed5-f006-44fe-bd93-23262d112cfe",
   "metadata": {},
   "outputs": [],
   "source": []
  },
  {
   "cell_type": "code",
   "execution_count": 96,
   "id": "f27dac3a-7a5a-4c42-a97d-2972fb21b531",
   "metadata": {},
   "outputs": [],
   "source": [
    "# #sample aggregated select query to get count in \n",
    "\n",
    "# import time\n",
    "\n",
    "# # Start the timer\n",
    "# start_time = time.time()\n",
    "\n",
    "# # Define the complex SQL query for 'nyc.taxis_10000_50COLUMNS'\n",
    "# query = \"\"\"\n",
    "# SELECT\n",
    "#     extra_col_0,  -- Example: Grouping by 'extra_col_0'\n",
    "#     COUNT(*) AS total_records,  -- Count the number of records in each group\n",
    "#     SUM(extra_col_1) AS sum_col_1,  -- Sum of values in 'extra_col_1'\n",
    "#     MAX(extra_col_3) AS max_col_3,  -- Maximum value in 'extra_col_3'\n",
    "#     MIN(extra_col_4) AS min_col_4  -- Minimum value in 'extra_col_4'\n",
    "# FROM\n",
    "#     nyc.taxis_1000_50COLUMNS\n",
    "# GROUP BY\n",
    "#     extra_col_0  -- Grouping by 'extra_col_0'\n",
    "# ORDER BY\n",
    "#     total_records DESC  -- Ordering the result by the total number of records in descending order\n",
    "# LIMIT 100;  -- Limiting the result to the top 100 rows\n",
    "# \"\"\"\n",
    "\n",
    "# # Execute the SQL query\n",
    "# df = spark.sql(query)\n",
    "\n",
    "# # Stop the timer\n",
    "# end_time = time.time()\n",
    "\n",
    "# # Show the result\n",
    "# df.show(truncate=False)\n",
    "\n",
    "# # Print the time taken for the query\n",
    "# print(f\"Time taken for the query: {end_time - start_time} seconds\")\n"
   ]
  },
  {
   "cell_type": "code",
   "execution_count": 86,
   "id": "3eb28d99-cc78-45f6-961c-fc9cb172321e",
   "metadata": {},
   "outputs": [
    {
     "name": "stderr",
     "output_type": "stream",
     "text": [
      "[Stage 146:======================================================>(66 + 1) / 67]\r"
     ]
    },
    {
     "name": "stdout",
     "output_type": "stream",
     "text": [
      "+-----------+-------------+---------+----------+----------+\n",
      "|extra_col_0|total_records|sum_col_1|max_col_3 |min_col_4 |\n",
      "+-----------+-------------+---------+----------+----------+\n",
      "|RCIJEGKQQO |2            |3444     |2020-03-29|NXWCIYAFLF|\n",
      "|SMUDUCNHCT |2            |16336    |2022-10-11|CQMJGSKEZZ|\n",
      "|EUIOKRIGYF |2            |9926     |2022-03-07|BRMOUOELYE|\n",
      "|RDWYAFOQUW |2            |12513    |2021-12-31|GZZRGUFYVI|\n",
      "|UGAGJBJLIB |2            |6489     |2019-09-26|AIBYEXPLRZ|\n",
      "|KGNDQROJZX |2            |12822    |2019-06-04|CAHSZYJWYP|\n",
      "|GOOOVIDFGP |2            |14710    |2021-02-26|GYOPMFYNLV|\n",
      "|RETMZYNKUO |2            |10944    |2020-11-17|EFPIIMLRCR|\n",
      "|AMDDDTEZPF |2            |9843     |2020-03-18|AMKDMLVQVV|\n",
      "|VHXDXXSWNE |2            |5331     |2020-07-17|FQTKMUQOAC|\n",
      "|HTISVAKSHI |2            |1261     |2020-01-26|FMOYZOUVOY|\n",
      "|EVDENFQWBQ |2            |4469     |2019-12-11|QYSBWCVDAX|\n",
      "|PTBXGFHCBV |2            |10863    |2024-04-03|PLJVRZFGYS|\n",
      "|ONONAPKYZK |2            |16500    |2021-08-18|KPMAKSRUGF|\n",
      "|YRTDFLPYJG |2            |11245    |2022-11-25|DCBHJOKFBB|\n",
      "|CDPPMMHQRK |2            |9798     |2020-01-03|CDYVFFYGTB|\n",
      "|FXDTOMAIBI |2            |6541     |2017-10-07|TTQUZGYLVD|\n",
      "|HBHVYJGRFY |2            |7971     |2022-12-06|CYHWNQRUSH|\n",
      "|PBIASHQEUW |2            |17516    |2021-09-27|KEVVVWQKZW|\n",
      "|OZMJDVSWWD |2            |7647     |2024-08-16|URZZSGLEHU|\n",
      "+-----------+-------------+---------+----------+----------+\n",
      "only showing top 20 rows\n",
      "\n",
      "Time taken for the query: 603.3699321746826 seconds\n"
     ]
    },
    {
     "name": "stderr",
     "output_type": "stream",
     "text": [
      "                                                                                \r"
     ]
    }
   ],
   "source": [
    "import time\n",
    "\n",
    "# Start the timer\n",
    "start_time = time.time()\n",
    "\n",
    "# Define the complex SQL query for 'nyc.taxis_10M_50COLUMNS'\n",
    "query = \"\"\"\n",
    "SELECT\n",
    "    extra_col_0,\n",
    "    COUNT(*) AS total_records,\n",
    "    SUM(extra_col_1) AS sum_col_1,\n",
    "    MAX(extra_col_3) AS max_col_3,\n",
    "    MIN(extra_col_4) AS min_col_4\n",
    "FROM\n",
    "    nyc.taxis_100M_50\n",
    "GROUP BY\n",
    "    extra_col_0\n",
    "ORDER BY\n",
    "    total_records DESC\n",
    "LIMIT 100;\n",
    "\"\"\"\n",
    "\n",
    "# Execute the SQL query\n",
    "df = spark.sql(query)\n",
    "\n",
    "# Force computation of the result (avoid serving from cache)\n",
    "df.count()\n",
    "\n",
    "# Stop the timer\n",
    "end_time = time.time()\n",
    "\n",
    "# Show the result\n",
    "df.show(truncate=False)\n",
    "\n",
    "# Print the time taken for the query\n",
    "print(f\"Time taken for the query: {end_time - start_time} seconds\")\n"
   ]
  },
  {
   "cell_type": "code",
   "execution_count": 87,
   "id": "bf31939a-76ee-40ce-af20-5b060d5e8f7f",
   "metadata": {},
   "outputs": [
    {
     "name": "stderr",
     "output_type": "stream",
     "text": [
      "[Stage 151:>                                                        (0 + 1) / 1]\r"
     ]
    },
    {
     "name": "stdout",
     "output_type": "stream",
     "text": [
      "+-----------+-----------+-------------+---------------+-------------+\n",
      "|extra_col_0|extra_col_1|extra_col_1_b|extra_col_2    |extra_col_2_b|\n",
      "+-----------+-----------+-------------+---------------+-------------+\n",
      "|AAPXCANGJC |2607       |NULL         |KWXFMTFSUFGQDRC|NULL         |\n",
      "|ACLYVVNHAM |3574       |NULL         |KOUXEDRNYIFNLMA|NULL         |\n",
      "|ACMEHLUEHE |8526       |NULL         |FVBLYYCVPEVZJOH|NULL         |\n",
      "|ADUUGUCIKL |6903       |NULL         |SSKMTUWVWWLQNDY|NULL         |\n",
      "|AEOUKLHQTM |5679       |NULL         |WVBQSPSXCQVGURS|NULL         |\n",
      "|AERPSIJJJK |208        |NULL         |WWAUPACXKIYSFUR|NULL         |\n",
      "|AFEBQHPGLS |9307       |NULL         |UWPRLTUVPYISDRM|NULL         |\n",
      "|AGBIVJGVEX |5032       |NULL         |BWAFAKSIGPFOCLC|NULL         |\n",
      "|AGRMKBQETQ |8163       |NULL         |ANLYSOGFEMXXPPK|NULL         |\n",
      "|AGSYDJYBSB |136        |NULL         |QRJABQIQGBZKKYI|NULL         |\n",
      "|AHNHHPDVSU |3412       |NULL         |ETYPJLDYZVEUETQ|NULL         |\n",
      "|AINJPMQFIJ |1711       |NULL         |IIDXRSSRUJKLVGY|NULL         |\n",
      "|AIPVQRJQOR |132        |NULL         |LKCDMSZZKOMTLGJ|NULL         |\n",
      "|AMHXFWXNQC |7945       |NULL         |SCGHFQNTJWYHNOB|NULL         |\n",
      "|AOFMLVGAGD |786        |NULL         |LEMILKNQXVLXZQD|NULL         |\n",
      "|AOIPVXXXND |4686       |NULL         |QVIKWSBATJIOXFY|NULL         |\n",
      "|AOJAKXMTBU |4011       |NULL         |OCCTDNPMZLLKKWL|NULL         |\n",
      "|APKJBAGNXP |5852       |NULL         |ZJYRUAKTXAWUKMX|NULL         |\n",
      "|AQIUISKSHJ |3284       |NULL         |LOBOONGHULZMELS|NULL         |\n",
      "|AQWWZKAIBJ |1950       |NULL         |UHYUSWEXLPPIGHN|NULL         |\n",
      "+-----------+-----------+-------------+---------------+-------------+\n",
      "only showing top 20 rows\n",
      "\n",
      "Total time taken for the query execution (including join operation): 73.63867974281311 seconds\n"
     ]
    },
    {
     "name": "stderr",
     "output_type": "stream",
     "text": [
      "                                                                                \r"
     ]
    }
   ],
   "source": [
    "import time\n",
    "\n",
    "# Start the timer (this will capture the total time for the query execution, including the join operation)\n",
    "start_time = time.time()\n",
    "\n",
    "# Define the SQL query for performing the JOIN operation on 'extra_col_0'\n",
    "query = \"\"\"\n",
    "SELECT\n",
    "    a.extra_col_0,  -- extra_col_0 from the first table (nyc.taxis_1000_50COLUMNS)\n",
    "    a.extra_col_1,  -- Example of another column from the first table\n",
    "    b.extra_col_1 AS extra_col_1_b,  -- Example of another column from the second table\n",
    "    a.extra_col_2,  -- Example column from the first table\n",
    "    b.extra_col_2 AS extra_col_2_b   -- Example column from the second table\n",
    "FROM\n",
    "    nyc.taxis_100M_50 a\n",
    "LEFT JOIN\n",
    "    nyc.taxis_10M_50COLUMNS b\n",
    "ON\n",
    "    a.extra_col_0 = b.extra_col_0  -- Join condition on extra_col_0\n",
    "\"\"\"\n",
    "\n",
    "# Execute the SQL query and trigger the action (this will start the query execution)\n",
    "df = spark.sql(query)\n",
    "\n",
    "# Show the result (this forces Spark to execute the query and perform the join)\n",
    "df.show(truncate=False)\n",
    "\n",
    "# Stop the timer after the query execution is done\n",
    "end_time = time.time()\n",
    "\n",
    "# Calculate the total time taken for the query execution, including the join\n",
    "total_time = end_time - start_time\n",
    "\n",
    "# Print the total time taken for the query execution (including join)\n",
    "print(f\"Total time taken for the query execution (including join operation): {total_time} seconds\")\n"
   ]
  },
  {
   "cell_type": "code",
   "execution_count": null,
   "id": "98a2f878-06ed-47a1-b928-f8f807ed1e26",
   "metadata": {},
   "outputs": [],
   "source": []
  }
 ],
 "metadata": {
  "kernelspec": {
   "display_name": "Python 3 (ipykernel)",
   "language": "python",
   "name": "python3"
  },
  "language_info": {
   "codemirror_mode": {
    "name": "ipython",
    "version": 3
   },
   "file_extension": ".py",
   "mimetype": "text/x-python",
   "name": "python",
   "nbconvert_exporter": "python",
   "pygments_lexer": "ipython3",
   "version": "3.9.18"
  }
 },
 "nbformat": 4,
 "nbformat_minor": 5
}
