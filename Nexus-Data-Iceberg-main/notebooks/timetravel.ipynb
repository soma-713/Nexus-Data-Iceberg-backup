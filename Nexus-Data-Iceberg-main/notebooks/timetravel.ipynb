{
 "cells": [
  {
   "cell_type": "code",
   "execution_count": 1,
   "id": "1e6e2678-968b-431e-ab64-d630831fb708",
   "metadata": {},
   "outputs": [
    {
     "name": "stderr",
     "output_type": "stream",
     "text": [
      "25/02/28 07:53:18 WARN SparkSession: Using an existing Spark session; only runtime SQL configurations will take effect.\n"
     ]
    }
   ],
   "source": [
    "from pyspark.sql import SparkSession\n",
    "spark = SparkSession.builder.appName(\"records\").getOrCreate()\n"
   ]
  },
  {
   "cell_type": "code",
   "execution_count": 20,
   "id": "68267355-eb0b-473c-881d-b0df2fdcda54",
   "metadata": {},
   "outputs": [
    {
     "name": "stdout",
     "output_type": "stream",
     "text": [
      "+---------+\n",
      "|namespace|\n",
      "+---------+\n",
      "|      nyc|\n",
      "+---------+\n",
      "\n"
     ]
    }
   ],
   "source": [
    "spark.sql(\"SHOW DATABASES IN demo\").show()\n"
   ]
  },
  {
   "cell_type": "code",
   "execution_count": 3,
   "id": "4a601481-0d91-42a3-bb28-d08f592d678b",
   "metadata": {},
   "outputs": [
    {
     "name": "stdout",
     "output_type": "stream",
     "text": [
      "+---------+--------------------+-----------+\n",
      "|namespace|           tableName|isTemporary|\n",
      "+---------+--------------------+-----------+\n",
      "|      nyc|           taxis_100|      false|\n",
      "|      nyc|     taxis_100M_time|      false|\n",
      "|      nyc|taxis_1000_50COLUMNS|      false|\n",
      "|      nyc|            taxis_1B|      false|\n",
      "|      nyc|taxis_100_50COLUM...|      false|\n",
      "|      nyc|taxis_100000_50CO...|      false|\n",
      "|      nyc|            taxis_1L|      false|\n",
      "|      nyc|          taxis_1000|      false|\n",
      "|      nyc|            taxis_10|      false|\n",
      "|      nyc|   taxis_1L_5COLUMNS|      false|\n",
      "|      nyc|         taxis_10000|      false|\n",
      "|      nyc|            taxis_1M|      false|\n",
      "|      nyc|          taxis_1L_5|      false|\n",
      "|      nyc|          taxis_10_M|      false|\n",
      "|      nyc|taxis_1000_50COLU...|      false|\n",
      "|      nyc|  taxis_10_50COLUMNS|      false|\n",
      "|      nyc|           taxis_10K|      false|\n",
      "|      nyc|            taxis_1K|      false|\n",
      "|      nyc|           taxis_10L|      false|\n",
      "|      nyc|        taxis_5_100M|      false|\n",
      "+---------+--------------------+-----------+\n",
      "only showing top 20 rows\n",
      "\n"
     ]
    }
   ],
   "source": [
    "# Get list of tables in the 'nyc' database\n",
    "tables = spark.sql(\"SHOW TABLES IN nyc\")\n",
    "tables.show()\n"
   ]
  },
  {
   "cell_type": "code",
   "execution_count": 25,
   "id": "669539d9-8b34-4db4-b347-bd564747836c",
   "metadata": {},
   "outputs": [],
   "source": [
    "spark.conf.set(\"spark.sql.catalog.demo\", \"org.apache.iceberg.spark.SparkCatalog\")\n",
    "spark.conf.set(\"spark.sql.catalog.demo.type\", \"hadoop\")  # or \"hadoop\" for local file system\n"
   ]
  },
  {
   "cell_type": "code",
   "execution_count": 26,
   "id": "c8df76da-2fa4-43b8-b443-1bf8bcaa4060",
   "metadata": {},
   "outputs": [
    {
     "name": "stdout",
     "output_type": "stream",
     "text": [
      "+------------+---------+-------+\n",
      "|    col_name|data_type|comment|\n",
      "+------------+---------+-------+\n",
      "| extra_col_0|   string|   NULL|\n",
      "| extra_col_1|      int|   NULL|\n",
      "| extra_col_2|   string|   NULL|\n",
      "| extra_col_3|     date|   NULL|\n",
      "| extra_col_4|   string|   NULL|\n",
      "| extra_col_5|      int|   NULL|\n",
      "| extra_col_6|   string|   NULL|\n",
      "| extra_col_7|     date|   NULL|\n",
      "| extra_col_8|   string|   NULL|\n",
      "| extra_col_9|      int|   NULL|\n",
      "|extra_col_10|   string|   NULL|\n",
      "|extra_col_11|     date|   NULL|\n",
      "|extra_col_12|   string|   NULL|\n",
      "|extra_col_13|      int|   NULL|\n",
      "|extra_col_14|   string|   NULL|\n",
      "|extra_col_15|     date|   NULL|\n",
      "|extra_col_16|   string|   NULL|\n",
      "|extra_col_17|      int|   NULL|\n",
      "|extra_col_18|   string|   NULL|\n",
      "|extra_col_19|     date|   NULL|\n",
      "+------------+---------+-------+\n",
      "only showing top 20 rows\n",
      "\n"
     ]
    }
   ],
   "source": [
    "df=spark.sql(\"DESCRIBE demo.nyc.taxis_10000_50COLUMNS\")\n",
    "df.show()"
   ]
  },
  {
   "cell_type": "code",
   "execution_count": 30,
   "id": "44dda09c-f50c-49d5-aaf3-2cb7c7aea43a",
   "metadata": {},
   "outputs": [
    {
     "name": "stdout",
     "output_type": "stream",
     "text": [
      "+--------------------+-------------------+-------------------+-------------------+\n",
      "|     made_current_at|        snapshot_id|          parent_id|is_current_ancestor|\n",
      "+--------------------+-------------------+-------------------+-------------------+\n",
      "|2025-02-27 06:59:...|7430131516402498764|               NULL|               true|\n",
      "|2025-02-27 07:00:...|2768008278032157245|7430131516402498764|               true|\n",
      "|2025-02-27 07:01:...|5954078949605399424|2768008278032157245|               true|\n",
      "+--------------------+-------------------+-------------------+-------------------+\n",
      "\n"
     ]
    }
   ],
   "source": [
    "df=spark.sql(\"SELECT * FROM demo.nyc.taxis_10000_50COLUMNS.history\")\n",
    "df.show()"
   ]
  },
  {
   "cell_type": "code",
   "execution_count": 31,
   "id": "9af896b9-f2be-43e2-b190-debb2b36bbdd",
   "metadata": {},
   "outputs": [
    {
     "name": "stdout",
     "output_type": "stream",
     "text": [
      "+-------------------+--------------------+\n",
      "|        snapshot_id|     made_current_at|\n",
      "+-------------------+--------------------+\n",
      "|5954078949605399424|2025-02-27 07:01:...|\n",
      "|2768008278032157245|2025-02-27 07:00:...|\n",
      "|7430131516402498764|2025-02-27 06:59:...|\n",
      "+-------------------+--------------------+\n",
      "\n"
     ]
    }
   ],
   "source": [
    "df = spark.sql(\"SELECT snapshot_id, made_current_at FROM demo.nyc.taxis_10000_50COLUMNS.history ORDER BY made_current_at DESC\")\n",
    "\n",
    "df.show()"
   ]
  },
  {
   "cell_type": "code",
   "execution_count": 39,
   "id": "0be7864a-349f-4f88-a097-1eacfc1c7f28",
   "metadata": {},
   "outputs": [
    {
     "name": "stdout",
     "output_type": "stream",
     "text": [
      "+--------------------+-------------------+-------------------+---------+--------------------+--------------------+\n",
      "|        committed_at|        snapshot_id|          parent_id|operation|       manifest_list|             summary|\n",
      "+--------------------+-------------------+-------------------+---------+--------------------+--------------------+\n",
      "|2025-02-27 06:59:...|7430131516402498764|               NULL|   append|s3://warehouse/ny...|{spark.app.id -> ...|\n",
      "|2025-02-27 07:00:...|2768008278032157245|7430131516402498764|   append|s3://warehouse/ny...|{spark.app.id -> ...|\n",
      "|2025-02-27 07:01:...|5954078949605399424|2768008278032157245|overwrite|s3://warehouse/ny...|{spark.app.id -> ...|\n",
      "+--------------------+-------------------+-------------------+---------+--------------------+--------------------+\n",
      "\n"
     ]
    }
   ],
   "source": [
    "df=spark.sql(\"SELECT * FROM demo.nyc.taxis_10000_50COLUMNS.snapshots\")\n",
    "df.show()"
   ]
  },
  {
   "cell_type": "code",
   "execution_count": 43,
   "id": "79c16f7d-57f9-44bc-b60e-7756d12f4caf",
   "metadata": {},
   "outputs": [
    {
     "name": "stdout",
     "output_type": "stream",
     "text": [
      "+-----------+-----------+-----------+-----------+-----------+-----------+-----------+-----------+-----------+-----------+------------+------------+------------+------------+------------+------------+------------+------------+------------+------------+------------+------------+------------+------------+------------+------------+------------+------------+------------+------------+------------+------------+------------+------------+------------+------------+------------+------------+------------+------------+------------+------------+------------+------------+------------+------------+------------+------------+------------+------------+\n",
      "|extra_col_0|extra_col_1|extra_col_2|extra_col_3|extra_col_4|extra_col_5|extra_col_6|extra_col_7|extra_col_8|extra_col_9|extra_col_10|extra_col_11|extra_col_12|extra_col_13|extra_col_14|extra_col_15|extra_col_16|extra_col_17|extra_col_18|extra_col_19|extra_col_20|extra_col_21|extra_col_22|extra_col_23|extra_col_24|extra_col_25|extra_col_26|extra_col_27|extra_col_28|extra_col_29|extra_col_30|extra_col_31|extra_col_32|extra_col_33|extra_col_34|extra_col_35|extra_col_36|extra_col_37|extra_col_38|extra_col_39|extra_col_40|extra_col_41|extra_col_42|extra_col_43|extra_col_44|extra_col_45|extra_col_46|extra_col_47|extra_col_48|extra_col_49|\n",
      "+-----------+-----------+-----------+-----------+-----------+-----------+-----------+-----------+-----------+-----------+------------+------------+------------+------------+------------+------------+------------+------------+------------+------------+------------+------------+------------+------------+------------+------------+------------+------------+------------+------------+------------+------------+------------+------------+------------+------------+------------+------------+------------+------------+------------+------------+------------+------------+------------+------------+------------+------------+------------+------------+\n",
      "+-----------+-----------+-----------+-----------+-----------+-----------+-----------+-----------+-----------+-----------+------------+------------+------------+------------+------------+------------+------------+------------+------------+------------+------------+------------+------------+------------+------------+------------+------------+------------+------------+------------+------------+------------+------------+------------+------------+------------+------------+------------+------------+------------+------------+------------+------------+------------+------------+------------+------------+------------+------------+------------+\n",
      "\n"
     ]
    },
    {
     "name": "stderr",
     "output_type": "stream",
     "text": [
      "25/02/28 08:47:07 WARN SparkStringUtils: Truncated the string representation of a plan since it was too large. This behavior can be adjusted by setting 'spark.sql.debug.maxToStringFields'.\n"
     ]
    }
   ],
   "source": [
    "df = spark.sql(\"SELECT * FROM demo.nyc.taxis_10000_50COLUMNS FOR SYSTEM_VERSION AS OF 7430131516402498764\")\n",
    "df.show()\n"
   ]
  },
  {
   "cell_type": "code",
   "execution_count": 44,
   "id": "d8005417-2d61-4dab-b374-0dad7390e4d3",
   "metadata": {},
   "outputs": [
    {
     "name": "stderr",
     "output_type": "stream",
     "text": [
      "[Stage 6:>                                                          (0 + 1) / 1]\r"
     ]
    },
    {
     "name": "stdout",
     "output_type": "stream",
     "text": [
      "+-----------+-----------+---------------+-----------+-----------+-----------+---------------+-----------+-----------+-----------+---------------+------------+------------+------------+---------------+------------+------------+------------+---------------+------------+------------+------------+---------------+------------+------------+------------+---------------+------------+------------+------------+---------------+------------+------------+------------+---------------+------------+------------+------------+---------------+------------+------------+------------+---------------+------------+------------+------------+---------------+------------+------------+------------+\n",
      "|extra_col_0|extra_col_1|    extra_col_2|extra_col_3|extra_col_4|extra_col_5|    extra_col_6|extra_col_7|extra_col_8|extra_col_9|   extra_col_10|extra_col_11|extra_col_12|extra_col_13|   extra_col_14|extra_col_15|extra_col_16|extra_col_17|   extra_col_18|extra_col_19|extra_col_20|extra_col_21|   extra_col_22|extra_col_23|extra_col_24|extra_col_25|   extra_col_26|extra_col_27|extra_col_28|extra_col_29|   extra_col_30|extra_col_31|extra_col_32|extra_col_33|   extra_col_34|extra_col_35|extra_col_36|extra_col_37|   extra_col_38|extra_col_39|extra_col_40|extra_col_41|   extra_col_42|extra_col_43|extra_col_44|extra_col_45|   extra_col_46|extra_col_47|extra_col_48|extra_col_49|\n",
      "+-----------+-----------+---------------+-----------+-----------+-----------+---------------+-----------+-----------+-----------+---------------+------------+------------+------------+---------------+------------+------------+------------+---------------+------------+------------+------------+---------------+------------+------------+------------+---------------+------------+------------+------------+---------------+------------+------------+------------+---------------+------------+------------+------------+---------------+------------+------------+------------+---------------+------------+------------+------------+---------------+------------+------------+------------+\n",
      "| YMVXCDUOQU|       7766|DEZSAUXMMFSKYLP| 2022-07-01| KRLTXJSLIH|       5067|WTIQABHRJVYVSAX| 2016-02-01| OGSYBMWWNL|       6369|EDHXNLVWXJTOAUM|  2024-04-28|  VPOYEJOESV|        5574|TMTSEVHHBEHPNTM|  2019-08-10|  QNVJXSHKPI|        3451|TBTOOOZWSLCSRSH|  2021-12-11|  ZWWJZDPZDB|        7296|LDPPPUTLRIAEWWN|  2024-08-02|  CMXLHXTRQW|        3934|OQFLUXRMZTNKVVR|  2018-04-14|  LFLLEACOUH|        3246|VFIXTIWJNDOORIL|  2018-05-14|  DXVSECZJDX|        8230|GDMHTGJINUZMIDQ|  2022-06-15|  SZLDLZVZCA|        7613|QOJPGUAPJUIMAJC|  2024-04-11|  AMZBAHZIJW|        6704|GQMNOBEESIUQHID|  2020-02-25|  XIUYMLUCXK|        6287|VZPJZLZUGUCTQFJ|  2016-10-08|  TDEZBGLXOX|        1323|\n",
      "| DDLSWHCZXX|       1565|GFBSFKKXKJWZMXD| 2018-06-15| ZCABVJTSLH|       5454|AKASXNJKRYYMVSN| 2018-05-14| BZBAWOFGHK|       5833|ROGRHLSPPYFWZXW|  2024-06-25|  HSJYFXVIDQ|        9047|XBLDJRVNAJSWUIT|  2022-05-24|  SWDZJVIHDZ|        2839|HWCDGDJSFTPJZTD|  2023-03-15|  IUJIDXMURR|        4527|OJKQMPPXYFHJOED|  2019-09-13|  QNXVBJDYAD|        4828|JGHYYAUWEONBNLF|  2018-08-19|  EVKFQYAFER|        5427|GJQQVDYUKUSUNUK|  2022-04-10|  GLCCYXKIZB|        7343|OSOUVKFNGSGNJWS|  2016-05-05|  GLWIAVIGWB|        2747|YNLAGHMYGKLDGJC|  2023-10-23|  HBPJWZZHAM|        3829|TCRAGYAFCQBLBAV|  2019-06-01|  UTAWFESIQJ|        2683|IETYMRYDUJMVRPV|  2016-09-07|  ZMZYTKYTDE|        3512|\n",
      "| VBMPUSOESN|       4760|ZPLZSXPILPQECCV| 2022-07-22| QAKZMOZOHV|       2310|XQVYSJPLXHCIWUC| 2018-12-26| JPUHSDTFDR|         78|NSXHUAANPBPAAOT|  2022-09-20|  AAAIQLLJFG|        3572|HYMVRDVVEIRTWYI|  2017-04-01|  VWLBUBKIGG|        4949|BLDEQQCTXQFKLMA|  2017-12-30|  PEQLVEDNUA|        4887|GJLHYMQCOXRHLWT|  2016-04-27|  XXXLKDUEXH|        4711|HCDHOOAQATMGTRP|  2019-06-04|  CERUQNIWDR|        2512|EEFYEIHNKXKLQCS|  2022-06-15|  LCEUCZINDV|         299|XMYCEPHGEOWVYBT|  2015-07-04|  SSMNJCAJJA|        8286|SEHSJOGEMDXPEAC|  2019-12-28|  YXBPBZFUYR|        3221|AGYBHRMRJFFXGYC|  2021-11-01|  PHXAZYAQDP|        2726|YKJDASXWLZOZPSX|  2021-08-09|  TZBOUIDQLN|        8445|\n",
      "| KBYHFPPMSA|       9745|GDYQNNPLHOHWZIH| 2022-03-31| UITNTJSBJA|       9955|FJSAINHWGRCYEYP| 2022-09-28| GAWAFHGUOZ|       1534|ZAAJGXNDERIQDBH|  2018-08-06|  PPRATEDVBR|        3641|PNFWCXXALEFVUZW|  2016-06-05|  UBMHUYVYRY|        3773|CVESWOHPDQPSTEL|  2024-08-11|  FKRMTVHQKM|        1599|PMGXDHFJVINZQWU|  2021-07-11|  BIFNCSNEKC|        2336|ZVOHIMFRIUGQTJR|  2016-10-29|  PXZBRTWTFS|        2562|HWPSMPXXZVFUUWF|  2020-10-05|  SGYBOTKCUU|        7367|CDNKCRLSHTRQTME|  2015-03-06|  WQVIULUTGH|        6024|PHXLDFPIBQHOPPF|  2024-05-07|  EAXYROQUXZ|        9892|ANEWPEUBLIKFLVF|  2016-10-26|  HFANEOMHCU|        8183|BINFDBUEXPQGKYN|  2018-01-11|  POGIPPDQVC|        6593|\n",
      "| DMTGWGFXUZ|        577|VVXLLMKYAHXGQVQ| 2021-03-04| YAPOPKQMDQ|       8472|UDAQNCXRPGLLYKN| 2024-05-26| CQFPKTQFIJ|       7217|VKHOGPSAROIMITP|  2021-04-01|  JZVXHVMCRW|        6024|SWZODMROURNSPDF|  2022-02-08|  KNLEFTWXYP|        1323|XBECWZWNLLZAVSQ|  2022-02-11|  STHUUQJCJC|        8522|ROFKNUMVXAIFDJL|  2018-02-11|  RARCLQVBMG|        1239|GHMAIDGLODTBYDK|  2024-04-24|  MMYHYMZBOL|         646|OWFFOAOKVQCSDLT|  2023-11-23|  PMHSVXWXEX|        6349|FJYIQTKKOMCFECU|  2016-05-04|  PFFUAPZUYC|        3096|RVETLGQOAZDBSJU|  2024-05-06|  ERGCQJVUDG|        6438|VOXULVKEMFYYHGU|  2017-06-29|  WSKVPWYMQO|        9785|RIQVBPVRRCGULCW|  2020-09-02|  OCBZCJOAOV|        9886|\n",
      "| SUSKHNZRDJ|       3146|YXEVVNUFGEATXRK| 2016-06-29| DIRGNDMAHM|       8203|GNSXPZOWXPYAYZP| 2021-05-13| UAKNNMAVTS|       2930|AFAGGHAVINYLHJR|  2023-08-14|  AXJTBEPQGG|        5213|UYKHGYLTAGYHSTF|  2017-05-23|  LQOMLVGMSW|        9881|XFPPVUOZAESTMBO|  2024-05-27|  ESGVQPOWCZ|        6873|XRCLZPTGQSTHLZJ|  2020-12-02|  KIYCFVHBWE|        6324|IVOSIVJDZIUSJBT|  2016-04-13|  HNQOVNHAMM|        9022|EVVCQXQQJDDNZWZ|  2015-03-15|  UMFDTDZVAM|        2998|MLEDWMJKTDKSQUH|  2022-01-02|  KWYINKBVKU|        8853|QQRDEGNXSEEIMWN|  2024-12-02|  MLVTCJVAQH|        9000|UIWDPQWFJOIKFOJ|  2019-10-03|  ADVWDLXRQO|          61|MFOYIFKDHIAYYSR|  2018-07-04|  ATFVYDUBGU|        4825|\n",
      "| MWQJBDONZM|       7020|DMXYVEOZRRPEBDS| 2023-09-01| PWXUEDSTAJ|        285|EBNDGELNXEINKUQ| 2016-08-13| JBLCUFSWQE|       7958|UVGDUDLBAINKDOQ|  2023-01-21|  NWZZGDSRTK|        9454|JOPKTZVOHCQAMSP|  2016-02-06|  EHAMMIZPZV|        8181|QVZPBNGBZXDMWEJ|  2019-10-28|  OPHBKXOACJ|        9615|YYAKONDORLCSOSY|  2018-02-12|  URONFZAJRD|        5562|LLYBOZAJSVVGLYL|  2018-05-14|  GDBTTXNLNA|        6350|XENKWKCWRIDFGHR|  2022-09-23|  RGVLMMBMLY|         644|VXGMBNIRXYKXIIX|  2018-07-18|  ERVDDLGHOO|        5559|GBMUZCSSPOZPBTZ|  2021-03-30|  ZUWECSKQBD|        9781|PBAYXSWJDRHNBFW|  2023-08-14|  DOFIVXBEOT|        5859|UYIPMBNTFJJSNZA|  2015-08-22|  XUFRJQULFC|        2347|\n",
      "| RWHTFNDZHY|       5564|WXLYZJLZSGDIQDW| 2021-09-15| UIKCKDWBWQ|       5902|UQMAAKWCMIVIEHF| 2025-02-06| YWIJFFIGUG|       1898|QPJIYWLIAENETFN|  2023-09-20|  ASYEBUURTS|        9081|ELKTTEEFVIGBJZR|  2021-12-15|  PUWDYXWLUQ|        1148|YVCYDDYXMHKYRTI|  2023-07-21|  XDFOEWKPTB|        6795|QBXKNVJFWZKEDVK|  2016-12-24|  SIHWMXLDFX|        1109|MJGXSPMLPAUNAZT|  2018-03-29|  BLARAHWLLQ|        6734|PKPRLMBTDIAJGPG|  2015-05-02|  MPTHLYTFAD|        9096|EUPKGISLXLKQEMJ|  2018-01-16|  NYXFCOQFGA|        8801|TGIXXFQJHBTTGMU|  2022-10-09|  MSHXIZSDEP|        1866|MALWHXZNYIWGMUH|  2023-02-21|  FPWTAWKVES|        7999|YGMUMSPBFINXGLT|  2016-09-07|  YYDWUDHRIX|        6871|\n",
      "| PCISXOMCEJ|       6372|ETIAMPNPYZVIDRW| 2022-05-25| KHQNLTQSKA|        231|BUPISMRBQMUGPID| 2023-12-19| WRKYPDWGEP|       3942|VDUQKFHZYVQICNC|  2020-11-30|  YAAMGKVJRE|        7375|EVFEQNXOLMRRCYE|  2018-11-22|  VBQWFEHWZG|        3611|MITNQJRQESDYONX|  2017-01-16|  HKFHDOCCMW|        6520|SIILVUDBMBUTWWG|  2019-09-17|  TFSQSNVWBU|        2559|GUGYFRKQRMUUWQH|  2016-01-28|  YNEJSJDBEN|        7343|IZTKZWFDLKWZOGL|  2023-09-06|  OBMXOHZRQN|         349|RGBNTXMPXCKIVPO|  2020-08-19|  HEWQWDEABQ|          20|UQXZKEXITFIIHJK|  2015-03-14|  CQHZZOOWJF|        7455|AHWIZINOYVXETVP|  2022-01-30|  ZVUYCCAMKH|        7560|JFAEONHHPTLFSHI|  2016-03-04|  SINMYMFWLY|        9615|\n",
      "| RPLMDKNJRM|       1425|ANUDJWRMAXWDNKK| 2022-06-30| TTHUCBGWTN|       8180|NACAHQRSHGFTYIJ| 2016-10-01| MLDDODXHUM|       8702|TFEKJBFCGDRJJGJ|  2025-01-22|  ZYDMGDNPSC|        2754|MFAFREVCEIHYWSD|  2020-06-06|  OCQPBWACTC|        7403|QSQXIIWCKPHLQQH|  2020-02-05|  YVIRZNBVPH|        1920|BILPYIOOMEHXHYV|  2019-07-11|  SIKILRXTBH|        6996|FUHXRYLYIHKWZOF|  2022-10-27|  GZVBHRCCLB|        3045|INALNBHNKRIRPWU|  2016-01-25|  FABIOOJFJT|        8394|EXWNVISRNXICBOL|  2022-12-03|  FNMRKWSPMA|        5172|WMCIGNBWWHMRAGX|  2022-08-18|  OUIISSVBBN|        1052|PJZHWEKXNYPEEVB|  2023-12-12|  QZQBOJMYWM|         543|QSGNSOQPWCORNEJ|  2015-10-21|  CXYUAMCTNI|        2957|\n",
      "| YARWXNCCYM|       9873|NNRWPZZJISVWCPN| 2021-12-14| AGDJKIEHUD|       9214|JQINXFAFPTIZBLE| 2020-02-27| YSBIZWVLDK|       9846|CAVJBFXVPTGTFYL|  2019-01-30|  OUKUCFIGRH|        5779|ZULHYMJXITXMTKY|  2024-07-24|  NPCTODKYTQ|        8262|BSWGCIJKMMDCYYV|  2017-11-17|  TSZJHMOOTW|        2311|DJQYWKNLKWDXAKV|  2021-01-18|  DWOKHKPUXJ|        1273|CJMZIQVMSFBVCEM|  2020-05-17|  PXPWYRHHRL|        2441|JLHUHKTECRFPKMA|  2018-02-06|  RHVMZOGJKR|        8725|ZAKZFJYMDOEAUDW|  2019-07-24|  DLCWXLENJQ|        7743|FVJDSLWKSADINOX|  2019-11-09|  LTGPQTSZSD|        5851|DIIXCKKOLMVQLSJ|  2017-01-17|  RCZDPHUDJX|        5036|FFKUGQVTEURQIGW|  2017-05-25|  XSWQPDVFOB|        7682|\n",
      "| FSKZGWUFHM|       1813|HDTAJGIDOCNICNS| 2017-04-24| TBKBNHJSDL|       9490|KQFGWAXAZNMPDBG| 2015-10-02| FLOXEPDBNJ|       4378|DLCMFGTUCPNAGGC|  2015-03-15|  UKYDPACCNO|         854|NOYMWOMIABBOAUF|  2017-02-21|  PWIJTWHROW|        8632|OKRQBXCCWXBEHIL|  2021-10-31|  FGBQOFIDBP|        2163|LUJUKMKFZCUSQCB|  2018-06-14|  HAHARXYXYS|        9967|KDZJFUWFNEHUHCY|  2020-06-08|  YTBGZWNHXA|          70|CNGAXCVJBFZTBHN|  2020-11-19|  YSZPGARKNJ|        6788|OHLYICMXKHJOUXM|  2021-04-23|  VTOJPTAWLQ|        4109|FSUKOTDTILQBHYT|  2016-04-02|  WWGAKWYKRH|        7657|PGKFKYOMODTXMPE|  2017-09-03|  OQOEUACCXY|        9677|HKIMQMLFIPJCYOQ|  2017-04-08|  REHUXPMYUM|        7634|\n",
      "| COABEVPXZO|       6551|FMNFXDKMACTFEYK| 2018-12-10| UTNOXFYGZM|       5501|HMJOCTREMRYYALF| 2023-01-09| KKPQYXBERQ|       3424|JIKMIDCESIAGHRN|  2020-07-10|  MWGVRHFZIW|        1241|RVOGDGYQNEKACJV|  2024-12-20|  XEGAIAKMMZ|         249|LJQJIBAMNUUXZAG|  2016-10-05|  UDHGLAYCSS|        1907|FBRDJQKTRIDGSIU|  2016-06-02|  GUFAVTCUNO|        9019|AOGMEZBTSDTLYKD|  2019-09-15|  XIVXQCTVNT|        8895|HIFFRHAFXGELCNA|  2023-12-01|  MNRPKXQXCK|        5465|IFNVLTDQBXNGOGI|  2019-01-11|  OALHCYHYUY|         614|IVMHZQPUKRVRDOI|  2022-02-09|  ZLPPPTQBFG|        2994|QPHAYWXULPXSHMV|  2022-10-27|  LMIQKQZCJY|        3623|MFGRHFYMFVGVLQL|  2020-12-09|  QDZWOGANGO|        6568|\n",
      "| FROCSSKGBX|       3110|BJCOUNVGPTHJGAM| 2019-01-27| QVACREPDJQ|       7677|YNURRRGHVBNQPBI| 2017-01-04| KSFSIUONQI|         20|XSATAMRVDTOXRLL|  2015-12-09|  YNVCHBQLNH|        1956|BIHGLHJRZOLWLQV|  2015-02-28|  PXDXHPQRZC|        6911|LVDICLDPDZQPVED|  2020-11-17|  QFZVKZYMGW|        4874|CUWKXOMFNJHJNME|  2015-06-04|  RGOPINEZXQ|        4099|PSFFVLCCSPXBBWX|  2021-12-18|  GCFQCHQWRA|        1229|XXOCJSIRFPTUAZD|  2023-07-29|  HZSEGECZWD|        6791|TGIULLQRBAKYZIS|  2018-12-06|  UGTFQCGJUB|        2442|DLOEVONYKTKHVJX|  2023-09-16|  HJSBMXGUUF|        9309|SAEIYVNKYOQQWFO|  2017-06-21|  NEHFVLKIUW|        5729|RGTFWDMCJHUYPJJ|  2022-08-12|  AOBTWSKHHQ|        8773|\n",
      "| DDCTYCOWXH|       8153|OEJLFMVVBKFEPZT| 2015-11-11| BKNQRTXJER|       9546|GANWRAOCBXVWVSV| 2017-10-16| USDDJQEKWA|       2173|NMGUUJIGUGOIYSL|  2024-07-04|  UDJNABJNKN|        9356|OMGSXFCYPRXLASU|  2024-08-22|  BWLSRYBVGU|        7772|GTAIILTUZWWXOXQ|  2015-04-22|  WPJSWGMVXH|        7357|OMRDPZUBKJOEIAB|  2016-09-02|  CDAUIMAAJR|        4548|EOMSCCAVVKRQFPU|  2023-01-05|  TIEGNSCCWO|        7019|KHPPVRORJDLTGZP|  2019-02-01|  YLTTUMDXLS|        5720|WIHGCEMIDYWQOCH|  2017-08-10|  RTGYMXXJTF|        9003|EXJCSRFTGHMGWMI|  2020-03-25|  HCOXOABIIO|        8396|FOEKGFKKMODTRSP|  2021-07-04|  WUOAHJGXNO|        5290|KHWYTMDYSFSKRJS|  2019-04-29|  PRHOUPHMKR|         502|\n",
      "| VGPCZGGFCB|         96|SRSIBQMPGWLTTRW| 2023-05-27| HNSIQZDNYR|       7218|JJEXQAHSYBAATCJ| 2019-12-08| RTTATJHJID|       7557|JGMIQNJGQAAYAGT|  2021-04-20|  REIITVGTKJ|        6447|GAOFMIQHDSJWRFM|  2021-06-28|  TEQMOJOLDV|        2985|GIJKJMBWKBYIAIQ|  2016-03-03|  QQRXWNNIAW|        8364|TNEFUACNABGMEBM|  2019-03-05|  NHEGTJYDRL|        5689|CLRFCHDKVSPUAUS|  2023-06-29|  IJECKCQALX|        7449|KILIXHEXTQJVAQI|  2023-06-29|  SMTYLNRWZS|         467|FXDWKUDXGBKCZKB|  2015-08-03|  HRFZGUFCTF|        9531|EVPWCKEXKCAOEDW|  2019-06-26|  QUOGGHUPAF|        2932|LBIPRIXFMFAFGQN|  2023-02-27|  XLZYRWZTOV|         133|UVILEWWKOIEEHMM|  2022-05-14|  JUTVNKPTGV|         664|\n",
      "| SWRBQQQRHI|       9651|HWUVTUKBOKJYNIJ| 2019-10-03| UAKJEVXREJ|       6825|QUCRRGKDECDHOYU| 2025-01-31| CQOQMADWOF|       3714|LEAUTADGCJMLLRS|  2022-03-27|  ZUUUUUWVUD|        5863|WMGLLITWXEIRDSD|  2019-11-02|  LGIJGFTFLN|        7291|MVSPXIKJBYJYQDS|  2017-10-25|  PJEWXWTUNL|        4574|HIPTIJTEYCKSITL|  2018-07-24|  FJZRBLBMJA|        5070|GQZPCWRIBDBPNTO|  2020-02-07|  FWCVROVYEE|        4391|CSFNBTIDOQTUTRN|  2019-06-24|  VYBLCIPBXH|        1119|IGSOZQCNAIDAKLP|  2024-01-09|  CHMKTLOIHW|        1444|DDNIFPDIVQRECYB|  2022-07-25|  PMABSHMWYI|        2405|VTQJBSGQNKUNQRS|  2023-10-20|  BGYSGRFUFD|        1175|ABECPELQFYQUSIR|  2018-02-02|  FRRXTXPYYU|        7388|\n",
      "| EBVMDOVFEY|       1161|VACKBJSAMBMCHWW| 2017-10-16| KYQOICTYCI|       2522|JIDYDVDTTSRZAIL| 2025-02-01| LLIRHAGJYE|       7644|LHPHOTVNUOGZXDP|  2020-09-03|  NFROQEGVWD|        4679|QROSAVOFNUULKFE|  2019-03-15|  HAYCWGNWCH|        5276|QBXQXLSWNECHMAS|  2023-11-04|  IOLTYVHZUY|        9410|CUTMNIFQRBCGIYC|  2015-03-13|  LGCNYXWXBC|         864|QYLJJJYLQLSCPXO|  2017-06-28|  TYZMPYRORJ|        7329|AXBICFBIYBLBIHF|  2021-04-23|  MIDZVMSOZJ|        2220|IEOHCUGJXYMWLCJ|  2017-05-23|  KNBQCDWHWU|        1891|LCGVPWXMLPBLPFW|  2018-10-05|  YNYJNMDWRQ|        9748|GVLLCEWDFTBVEPV|  2018-07-12|  OTBTGPNFET|        5299|XZWSREYCIMWWUZF|  2018-07-15|  PGWPVTRZCK|         782|\n",
      "| QUMVZRBCMZ|       9114|GZSAHUYWZNHLNZC| 2024-03-10| UAHXMKGJKI|       3320|JBTJIRVLZYFUPWD| 2021-12-02| KMTULFOMZZ|       4812|WFEIYLLVZIRIUUU|  2022-06-27|  GZJNVVFJPQ|        9044|REYKTRLFVXWVINT|  2019-03-31|  TDBLFBTRMW|        8992|QSZWJFENBWOWORK|  2017-05-16|  VUJCUNOHYP|        9912|FJLSFBCAQHJHDVF|  2021-05-08|  LGDACBTOER|        8222|YOXTWXCSFILRZLP|  2018-08-10|  KQTOPQFXOB|        1345|IVMRCVOAPDQECWR|  2024-12-18|  FXPOKIOJDG|        6510|DZDBUTHYATXJRQU|  2022-06-19|  GRTBIHLZGB|        3597|OFDIPZOGSHVCWVZ|  2020-06-23|  BDXHYKNOVY|        7343|HNIEWLEEXEPUCFU|  2023-05-17|  VAEIGROJCT|        6979|FDEBORTTUBQNVRF|  2020-02-08|  RPYRNUFXHK|        5174|\n",
      "| POUATHPMKK|       7211|TITQNUSPNCTACCX| 2020-09-17| TDORDDUJAB|       3511|UBRLAHDQYEZDLBF| 2016-05-07| TESNJQWBKY|       4477|KLCBCQTPVLXWPAW|  2016-05-06|  UNYUJKRJKQ|         820|LIACISDJMUXIALU|  2024-11-26|  ERBBLHNGGM|         612|EABRWQAJHIXNCJM|  2018-02-25|  DBIEVZKJYV|        2357|LFTCMHDSMTKVYUK|  2021-01-20|  KPKNUQKQPE|          39|DHBFLGNSBTGGVGI|  2019-02-14|  CHLBGUTEIF|        8116|XKNHCTMFWPLIFAJ|  2017-03-20|  IBTUVRLTRQ|        9597|GTFTROMKIVVKSEV|  2016-04-13|  LUQOCMXNPH|        6611|IVQOZGOAJLIKBYO|  2021-11-23|  GZTHXTKBSP|        4222|LAIOHBNCCORDXHZ|  2020-06-30|  BJVMWZWALR|        5481|WROVAXGKIUJQPAP|  2017-10-20|  VRJSHZSGYS|        8092|\n",
      "+-----------+-----------+---------------+-----------+-----------+-----------+---------------+-----------+-----------+-----------+---------------+------------+------------+------------+---------------+------------+------------+------------+---------------+------------+------------+------------+---------------+------------+------------+------------+---------------+------------+------------+------------+---------------+------------+------------+------------+---------------+------------+------------+------------+---------------+------------+------------+------------+---------------+------------+------------+------------+---------------+------------+------------+------------+\n",
      "only showing top 20 rows\n",
      "\n"
     ]
    },
    {
     "name": "stderr",
     "output_type": "stream",
     "text": [
      "                                                                                \r"
     ]
    }
   ],
   "source": [
    "df = spark.sql(\"SELECT * FROM demo.nyc.taxis_10000_50COLUMNS FOR SYSTEM_VERSION AS OF 2768008278032157245\")\n",
    "df.show()"
   ]
  },
  {
   "cell_type": "code",
   "execution_count": 45,
   "id": "313e3bc6-7d5b-4bed-bb05-c730e464b8b6",
   "metadata": {},
   "outputs": [
    {
     "name": "stdout",
     "output_type": "stream",
     "text": [
      "+-----------+-----------+---------------+-----------+-----------+-----------+---------------+-----------+-----------+-----------+---------------+------------+------------+------------+---------------+------------+------------+------------+---------------+------------+------------+------------+---------------+------------+------------+------------+---------------+------------+------------+------------+---------------+------------+------------+------------+---------------+------------+------------+------------+---------------+------------+------------+------------+---------------+------------+------------+------------+---------------+------------+------------+------------+\n",
      "|extra_col_0|extra_col_1|    extra_col_2|extra_col_3|extra_col_4|extra_col_5|    extra_col_6|extra_col_7|extra_col_8|extra_col_9|   extra_col_10|extra_col_11|extra_col_12|extra_col_13|   extra_col_14|extra_col_15|extra_col_16|extra_col_17|   extra_col_18|extra_col_19|extra_col_20|extra_col_21|   extra_col_22|extra_col_23|extra_col_24|extra_col_25|   extra_col_26|extra_col_27|extra_col_28|extra_col_29|   extra_col_30|extra_col_31|extra_col_32|extra_col_33|   extra_col_34|extra_col_35|extra_col_36|extra_col_37|   extra_col_38|extra_col_39|extra_col_40|extra_col_41|   extra_col_42|extra_col_43|extra_col_44|extra_col_45|   extra_col_46|extra_col_47|extra_col_48|extra_col_49|\n",
      "+-----------+-----------+---------------+-----------+-----------+-----------+---------------+-----------+-----------+-----------+---------------+------------+------------+------------+---------------+------------+------------+------------+---------------+------------+------------+------------+---------------+------------+------------+------------+---------------+------------+------------+------------+---------------+------------+------------+------------+---------------+------------+------------+------------+---------------+------------+------------+------------+---------------+------------+------------+------------+---------------+------------+------------+------------+\n",
      "| YMVXCDUOQU|       7766|DEZSAUXMMFSKYLP| 2022-07-01| KRLTXJSLIH|       5067|WTIQABHRJVYVSAX| 2016-02-01| OGSYBMWWNL|       6369|EDHXNLVWXJTOAUM|  2024-04-28|  VPOYEJOESV|        5574|TMTSEVHHBEHPNTM|  2019-08-10|  QNVJXSHKPI|        3451|TBTOOOZWSLCSRSH|  2021-12-11|  ZWWJZDPZDB|        7296|LDPPPUTLRIAEWWN|  2024-08-02|  CMXLHXTRQW|        3934|OQFLUXRMZTNKVVR|  2018-04-14|  LFLLEACOUH|        3246|VFIXTIWJNDOORIL|  2018-05-14|  DXVSECZJDX|        8230|GDMHTGJINUZMIDQ|  2022-06-15|  SZLDLZVZCA|        7613|QOJPGUAPJUIMAJC|  2024-04-11|  AMZBAHZIJW|        6704|GQMNOBEESIUQHID|  2020-02-25|  XIUYMLUCXK|        6287|VZPJZLZUGUCTQFJ|  2016-10-08|  TDEZBGLXOX|        1323|\n",
      "| DDLSWHCZXX|       1565|GFBSFKKXKJWZMXD| 2018-06-15| ZCABVJTSLH|       5454|AKASXNJKRYYMVSN| 2018-05-14| BZBAWOFGHK|       5833|ROGRHLSPPYFWZXW|  2024-06-25|  HSJYFXVIDQ|        9047|XBLDJRVNAJSWUIT|  2022-05-24|  SWDZJVIHDZ|        2839|HWCDGDJSFTPJZTD|  2023-03-15|  IUJIDXMURR|        4527|OJKQMPPXYFHJOED|  2019-09-13|  QNXVBJDYAD|        4828|JGHYYAUWEONBNLF|  2018-08-19|  EVKFQYAFER|        5427|GJQQVDYUKUSUNUK|  2022-04-10|  GLCCYXKIZB|        7343|OSOUVKFNGSGNJWS|  2016-05-05|  GLWIAVIGWB|        2747|YNLAGHMYGKLDGJC|  2023-10-23|  HBPJWZZHAM|        3829|TCRAGYAFCQBLBAV|  2019-06-01|  UTAWFESIQJ|        2683|IETYMRYDUJMVRPV|  2016-09-07|  ZMZYTKYTDE|        3512|\n",
      "| VBMPUSOESN|       4760|ZPLZSXPILPQECCV| 2022-07-22| QAKZMOZOHV|       2310|XQVYSJPLXHCIWUC| 2018-12-26| JPUHSDTFDR|         78|NSXHUAANPBPAAOT|  2022-09-20|  AAAIQLLJFG|        3572|HYMVRDVVEIRTWYI|  2017-04-01|  VWLBUBKIGG|        4949|BLDEQQCTXQFKLMA|  2017-12-30|  PEQLVEDNUA|        4887|GJLHYMQCOXRHLWT|  2016-04-27|  XXXLKDUEXH|        4711|HCDHOOAQATMGTRP|  2019-06-04|  CERUQNIWDR|        2512|EEFYEIHNKXKLQCS|  2022-06-15|  LCEUCZINDV|         299|XMYCEPHGEOWVYBT|  2015-07-04|  SSMNJCAJJA|        8286|SEHSJOGEMDXPEAC|  2019-12-28|  YXBPBZFUYR|        3221|AGYBHRMRJFFXGYC|  2021-11-01|  PHXAZYAQDP|        2726|YKJDASXWLZOZPSX|  2021-08-09|  TZBOUIDQLN|        8445|\n",
      "| KBYHFPPMSA|       9745|GDYQNNPLHOHWZIH| 2022-03-31| UITNTJSBJA|       9955|FJSAINHWGRCYEYP| 2022-09-28| GAWAFHGUOZ|       1534|ZAAJGXNDERIQDBH|  2018-08-06|  PPRATEDVBR|        3641|PNFWCXXALEFVUZW|  2016-06-05|  UBMHUYVYRY|        3773|CVESWOHPDQPSTEL|  2024-08-11|  FKRMTVHQKM|        1599|PMGXDHFJVINZQWU|  2021-07-11|  BIFNCSNEKC|        2336|ZVOHIMFRIUGQTJR|  2016-10-29|  PXZBRTWTFS|        2562|HWPSMPXXZVFUUWF|  2020-10-05|  SGYBOTKCUU|        7367|CDNKCRLSHTRQTME|  2015-03-06|  WQVIULUTGH|        6024|PHXLDFPIBQHOPPF|  2024-05-07|  EAXYROQUXZ|        9892|ANEWPEUBLIKFLVF|  2016-10-26|  HFANEOMHCU|        8183|BINFDBUEXPQGKYN|  2018-01-11|  POGIPPDQVC|        6593|\n",
      "| DMTGWGFXUZ|        577|VVXLLMKYAHXGQVQ| 2021-03-04| YAPOPKQMDQ|       8472|UDAQNCXRPGLLYKN| 2024-05-26| CQFPKTQFIJ|       7217|VKHOGPSAROIMITP|  2021-04-01|  JZVXHVMCRW|        6024|SWZODMROURNSPDF|  2022-02-08|  KNLEFTWXYP|        1323|XBECWZWNLLZAVSQ|  2022-02-11|  STHUUQJCJC|        8522|ROFKNUMVXAIFDJL|  2018-02-11|  RARCLQVBMG|        1239|GHMAIDGLODTBYDK|  2024-04-24|  MMYHYMZBOL|         646|OWFFOAOKVQCSDLT|  2023-11-23|  PMHSVXWXEX|        6349|FJYIQTKKOMCFECU|  2016-05-04|  PFFUAPZUYC|        3096|RVETLGQOAZDBSJU|  2024-05-06|  ERGCQJVUDG|        6438|VOXULVKEMFYYHGU|  2017-06-29|  WSKVPWYMQO|        9785|RIQVBPVRRCGULCW|  2020-09-02|  OCBZCJOAOV|        9886|\n",
      "| SUSKHNZRDJ|       3146|YXEVVNUFGEATXRK| 2016-06-29| DIRGNDMAHM|       8203|GNSXPZOWXPYAYZP| 2021-05-13| UAKNNMAVTS|       2930|AFAGGHAVINYLHJR|  2023-08-14|  AXJTBEPQGG|        5213|UYKHGYLTAGYHSTF|  2017-05-23|  LQOMLVGMSW|        9881|XFPPVUOZAESTMBO|  2024-05-27|  ESGVQPOWCZ|        6873|XRCLZPTGQSTHLZJ|  2020-12-02|  KIYCFVHBWE|        6324|IVOSIVJDZIUSJBT|  2016-04-13|  HNQOVNHAMM|        9022|EVVCQXQQJDDNZWZ|  2015-03-15|  UMFDTDZVAM|        2998|MLEDWMJKTDKSQUH|  2022-01-02|  KWYINKBVKU|        8853|QQRDEGNXSEEIMWN|  2024-12-02|  MLVTCJVAQH|        9000|UIWDPQWFJOIKFOJ|  2019-10-03|  ADVWDLXRQO|          61|MFOYIFKDHIAYYSR|  2018-07-04|  ATFVYDUBGU|        4825|\n",
      "| MWQJBDONZM|       7020|DMXYVEOZRRPEBDS| 2023-09-01| PWXUEDSTAJ|        285|EBNDGELNXEINKUQ| 2016-08-13| JBLCUFSWQE|       7958|UVGDUDLBAINKDOQ|  2023-01-21|  NWZZGDSRTK|        9454|JOPKTZVOHCQAMSP|  2016-02-06|  EHAMMIZPZV|        8181|QVZPBNGBZXDMWEJ|  2019-10-28|  OPHBKXOACJ|        9615|YYAKONDORLCSOSY|  2018-02-12|  URONFZAJRD|        5562|LLYBOZAJSVVGLYL|  2018-05-14|  GDBTTXNLNA|        6350|XENKWKCWRIDFGHR|  2022-09-23|  RGVLMMBMLY|         644|VXGMBNIRXYKXIIX|  2018-07-18|  ERVDDLGHOO|        5559|GBMUZCSSPOZPBTZ|  2021-03-30|  ZUWECSKQBD|        9781|PBAYXSWJDRHNBFW|  2023-08-14|  DOFIVXBEOT|        5859|UYIPMBNTFJJSNZA|  2015-08-22|  XUFRJQULFC|        2347|\n",
      "| RWHTFNDZHY|       5564|WXLYZJLZSGDIQDW| 2021-09-15| UIKCKDWBWQ|       5902|UQMAAKWCMIVIEHF| 2025-02-06| YWIJFFIGUG|       1898|QPJIYWLIAENETFN|  2023-09-20|  ASYEBUURTS|        9081|ELKTTEEFVIGBJZR|  2021-12-15|  PUWDYXWLUQ|        1148|YVCYDDYXMHKYRTI|  2023-07-21|  XDFOEWKPTB|        6795|QBXKNVJFWZKEDVK|  2016-12-24|  SIHWMXLDFX|        1109|MJGXSPMLPAUNAZT|  2018-03-29|  BLARAHWLLQ|        6734|PKPRLMBTDIAJGPG|  2015-05-02|  MPTHLYTFAD|        9096|EUPKGISLXLKQEMJ|  2018-01-16|  NYXFCOQFGA|        8801|TGIXXFQJHBTTGMU|  2022-10-09|  MSHXIZSDEP|        1866|MALWHXZNYIWGMUH|  2023-02-21|  FPWTAWKVES|        7999|YGMUMSPBFINXGLT|  2016-09-07|  YYDWUDHRIX|        6871|\n",
      "| PCISXOMCEJ|       6372|ETIAMPNPYZVIDRW| 2022-05-25| KHQNLTQSKA|        231|BUPISMRBQMUGPID| 2023-12-19| WRKYPDWGEP|       3942|VDUQKFHZYVQICNC|  2020-11-30|  YAAMGKVJRE|        7375|EVFEQNXOLMRRCYE|  2018-11-22|  VBQWFEHWZG|        3611|MITNQJRQESDYONX|  2017-01-16|  HKFHDOCCMW|        6520|SIILVUDBMBUTWWG|  2019-09-17|  TFSQSNVWBU|        2559|GUGYFRKQRMUUWQH|  2016-01-28|  YNEJSJDBEN|        7343|IZTKZWFDLKWZOGL|  2023-09-06|  OBMXOHZRQN|         349|RGBNTXMPXCKIVPO|  2020-08-19|  HEWQWDEABQ|          20|UQXZKEXITFIIHJK|  2015-03-14|  CQHZZOOWJF|        7455|AHWIZINOYVXETVP|  2022-01-30|  ZVUYCCAMKH|        7560|JFAEONHHPTLFSHI|  2016-03-04|  SINMYMFWLY|        9615|\n",
      "| RPLMDKNJRM|       1425|ANUDJWRMAXWDNKK| 2022-06-30| TTHUCBGWTN|       8180|NACAHQRSHGFTYIJ| 2016-10-01| MLDDODXHUM|       8702|TFEKJBFCGDRJJGJ|  2025-01-22|  ZYDMGDNPSC|        2754|MFAFREVCEIHYWSD|  2020-06-06|  OCQPBWACTC|        7403|QSQXIIWCKPHLQQH|  2020-02-05|  YVIRZNBVPH|        1920|BILPYIOOMEHXHYV|  2019-07-11|  SIKILRXTBH|        6996|FUHXRYLYIHKWZOF|  2022-10-27|  GZVBHRCCLB|        3045|INALNBHNKRIRPWU|  2016-01-25|  FABIOOJFJT|        8394|EXWNVISRNXICBOL|  2022-12-03|  FNMRKWSPMA|        5172|WMCIGNBWWHMRAGX|  2022-08-18|  OUIISSVBBN|        1052|PJZHWEKXNYPEEVB|  2023-12-12|  QZQBOJMYWM|         543|QSGNSOQPWCORNEJ|  2015-10-21|  CXYUAMCTNI|        2957|\n",
      "| YARWXNCCYM|       9873|NNRWPZZJISVWCPN| 2021-12-14| AGDJKIEHUD|       9214|JQINXFAFPTIZBLE| 2020-02-27| YSBIZWVLDK|       9846|CAVJBFXVPTGTFYL|  2019-01-30|  OUKUCFIGRH|        5779|ZULHYMJXITXMTKY|  2024-07-24|  NPCTODKYTQ|        8262|BSWGCIJKMMDCYYV|  2017-11-17|  TSZJHMOOTW|        2311|DJQYWKNLKWDXAKV|  2021-01-18|  DWOKHKPUXJ|        1273|CJMZIQVMSFBVCEM|  2020-05-17|  PXPWYRHHRL|        2441|JLHUHKTECRFPKMA|  2018-02-06|  RHVMZOGJKR|        8725|ZAKZFJYMDOEAUDW|  2019-07-24|  DLCWXLENJQ|        7743|FVJDSLWKSADINOX|  2019-11-09|  LTGPQTSZSD|        5851|DIIXCKKOLMVQLSJ|  2017-01-17|  RCZDPHUDJX|        5036|FFKUGQVTEURQIGW|  2017-05-25|  XSWQPDVFOB|        7682|\n",
      "| FSKZGWUFHM|       1813|HDTAJGIDOCNICNS| 2017-04-24| TBKBNHJSDL|       9490|KQFGWAXAZNMPDBG| 2015-10-02| FLOXEPDBNJ|       4378|DLCMFGTUCPNAGGC|  2015-03-15|  UKYDPACCNO|         854|NOYMWOMIABBOAUF|  2017-02-21|  PWIJTWHROW|        8632|OKRQBXCCWXBEHIL|  2021-10-31|  FGBQOFIDBP|        2163|LUJUKMKFZCUSQCB|  2018-06-14|  HAHARXYXYS|        9967|KDZJFUWFNEHUHCY|  2020-06-08|  YTBGZWNHXA|          70|CNGAXCVJBFZTBHN|  2020-11-19|  YSZPGARKNJ|        6788|OHLYICMXKHJOUXM|  2021-04-23|  VTOJPTAWLQ|        4109|FSUKOTDTILQBHYT|  2016-04-02|  WWGAKWYKRH|        7657|PGKFKYOMODTXMPE|  2017-09-03|  OQOEUACCXY|        9677|HKIMQMLFIPJCYOQ|  2017-04-08|  REHUXPMYUM|        7634|\n",
      "| COABEVPXZO|       6551|FMNFXDKMACTFEYK| 2018-12-10| UTNOXFYGZM|       5501|HMJOCTREMRYYALF| 2023-01-09| KKPQYXBERQ|       3424|JIKMIDCESIAGHRN|  2020-07-10|  MWGVRHFZIW|        1241|RVOGDGYQNEKACJV|  2024-12-20|  XEGAIAKMMZ|         249|LJQJIBAMNUUXZAG|  2016-10-05|  UDHGLAYCSS|        1907|FBRDJQKTRIDGSIU|  2016-06-02|  GUFAVTCUNO|        9019|AOGMEZBTSDTLYKD|  2019-09-15|  XIVXQCTVNT|        8895|HIFFRHAFXGELCNA|  2023-12-01|  MNRPKXQXCK|        5465|IFNVLTDQBXNGOGI|  2019-01-11|  OALHCYHYUY|         614|IVMHZQPUKRVRDOI|  2022-02-09|  ZLPPPTQBFG|        2994|QPHAYWXULPXSHMV|  2022-10-27|  LMIQKQZCJY|        3623|MFGRHFYMFVGVLQL|  2020-12-09|  QDZWOGANGO|        6568|\n",
      "| FROCSSKGBX|       3110|BJCOUNVGPTHJGAM| 2019-01-27| QVACREPDJQ|       7677|YNURRRGHVBNQPBI| 2017-01-04| KSFSIUONQI|         20|XSATAMRVDTOXRLL|  2015-12-09|  YNVCHBQLNH|        1956|BIHGLHJRZOLWLQV|  2015-02-28|  PXDXHPQRZC|        6911|LVDICLDPDZQPVED|  2020-11-17|  QFZVKZYMGW|        4874|CUWKXOMFNJHJNME|  2015-06-04|  RGOPINEZXQ|        4099|PSFFVLCCSPXBBWX|  2021-12-18|  GCFQCHQWRA|        1229|XXOCJSIRFPTUAZD|  2023-07-29|  HZSEGECZWD|        6791|TGIULLQRBAKYZIS|  2018-12-06|  UGTFQCGJUB|        2442|DLOEVONYKTKHVJX|  2023-09-16|  HJSBMXGUUF|        9309|SAEIYVNKYOQQWFO|  2017-06-21|  NEHFVLKIUW|        5729|RGTFWDMCJHUYPJJ|  2022-08-12|  AOBTWSKHHQ|        8773|\n",
      "| DDCTYCOWXH|       8153|OEJLFMVVBKFEPZT| 2015-11-11| BKNQRTXJER|       9546|GANWRAOCBXVWVSV| 2017-10-16| USDDJQEKWA|       2173|NMGUUJIGUGOIYSL|  2024-07-04|  UDJNABJNKN|        9356|OMGSXFCYPRXLASU|  2024-08-22|  BWLSRYBVGU|        7772|GTAIILTUZWWXOXQ|  2015-04-22|  WPJSWGMVXH|        7357|OMRDPZUBKJOEIAB|  2016-09-02|  CDAUIMAAJR|        4548|EOMSCCAVVKRQFPU|  2023-01-05|  TIEGNSCCWO|        7019|KHPPVRORJDLTGZP|  2019-02-01|  YLTTUMDXLS|        5720|WIHGCEMIDYWQOCH|  2017-08-10|  RTGYMXXJTF|        9003|EXJCSRFTGHMGWMI|  2020-03-25|  HCOXOABIIO|        8396|FOEKGFKKMODTRSP|  2021-07-04|  WUOAHJGXNO|        5290|KHWYTMDYSFSKRJS|  2019-04-29|  PRHOUPHMKR|         502|\n",
      "| VGPCZGGFCB|         96|SRSIBQMPGWLTTRW| 2023-05-27| HNSIQZDNYR|       7218|JJEXQAHSYBAATCJ| 2019-12-08| RTTATJHJID|       7557|JGMIQNJGQAAYAGT|  2021-04-20|  REIITVGTKJ|        6447|GAOFMIQHDSJWRFM|  2021-06-28|  TEQMOJOLDV|        2985|GIJKJMBWKBYIAIQ|  2016-03-03|  QQRXWNNIAW|        8364|TNEFUACNABGMEBM|  2019-03-05|  NHEGTJYDRL|        5689|CLRFCHDKVSPUAUS|  2023-06-29|  IJECKCQALX|        7449|KILIXHEXTQJVAQI|  2023-06-29|  SMTYLNRWZS|         467|FXDWKUDXGBKCZKB|  2015-08-03|  HRFZGUFCTF|        9531|EVPWCKEXKCAOEDW|  2019-06-26|  QUOGGHUPAF|        2932|LBIPRIXFMFAFGQN|  2023-02-27|  XLZYRWZTOV|         133|UVILEWWKOIEEHMM|  2022-05-14|  JUTVNKPTGV|         664|\n",
      "| SWRBQQQRHI|       9651|HWUVTUKBOKJYNIJ| 2019-10-03| UAKJEVXREJ|       6825|QUCRRGKDECDHOYU| 2025-01-31| CQOQMADWOF|       3714|LEAUTADGCJMLLRS|  2022-03-27|  ZUUUUUWVUD|        5863|WMGLLITWXEIRDSD|  2019-11-02|  LGIJGFTFLN|        7291|MVSPXIKJBYJYQDS|  2017-10-25|  PJEWXWTUNL|        4574|HIPTIJTEYCKSITL|  2018-07-24|  FJZRBLBMJA|        5070|GQZPCWRIBDBPNTO|  2020-02-07|  FWCVROVYEE|        4391|CSFNBTIDOQTUTRN|  2019-06-24|  VYBLCIPBXH|        1119|IGSOZQCNAIDAKLP|  2024-01-09|  CHMKTLOIHW|        1444|DDNIFPDIVQRECYB|  2022-07-25|  PMABSHMWYI|        2405|VTQJBSGQNKUNQRS|  2023-10-20|  BGYSGRFUFD|        1175|ABECPELQFYQUSIR|  2018-02-02|  FRRXTXPYYU|        7388|\n",
      "| EBVMDOVFEY|       1161|VACKBJSAMBMCHWW| 2017-10-16| KYQOICTYCI|       2522|JIDYDVDTTSRZAIL| 2025-02-01| LLIRHAGJYE|       7644|LHPHOTVNUOGZXDP|  2020-09-03|  NFROQEGVWD|        4679|QROSAVOFNUULKFE|  2019-03-15|  HAYCWGNWCH|        5276|QBXQXLSWNECHMAS|  2023-11-04|  IOLTYVHZUY|        9410|CUTMNIFQRBCGIYC|  2015-03-13|  LGCNYXWXBC|         864|QYLJJJYLQLSCPXO|  2017-06-28|  TYZMPYRORJ|        7329|AXBICFBIYBLBIHF|  2021-04-23|  MIDZVMSOZJ|        2220|IEOHCUGJXYMWLCJ|  2017-05-23|  KNBQCDWHWU|        1891|LCGVPWXMLPBLPFW|  2018-10-05|  YNYJNMDWRQ|        9748|GVLLCEWDFTBVEPV|  2018-07-12|  OTBTGPNFET|        5299|XZWSREYCIMWWUZF|  2018-07-15|  PGWPVTRZCK|         782|\n",
      "| QUMVZRBCMZ|       9114|GZSAHUYWZNHLNZC| 2024-03-10| UAHXMKGJKI|       3320|JBTJIRVLZYFUPWD| 2021-12-02| KMTULFOMZZ|       4812|WFEIYLLVZIRIUUU|  2022-06-27|  GZJNVVFJPQ|        9044|REYKTRLFVXWVINT|  2019-03-31|  TDBLFBTRMW|        8992|QSZWJFENBWOWORK|  2017-05-16|  VUJCUNOHYP|        9912|FJLSFBCAQHJHDVF|  2021-05-08|  LGDACBTOER|        8222|YOXTWXCSFILRZLP|  2018-08-10|  KQTOPQFXOB|        1345|IVMRCVOAPDQECWR|  2024-12-18|  FXPOKIOJDG|        6510|DZDBUTHYATXJRQU|  2022-06-19|  GRTBIHLZGB|        3597|OFDIPZOGSHVCWVZ|  2020-06-23|  BDXHYKNOVY|        7343|HNIEWLEEXEPUCFU|  2023-05-17|  VAEIGROJCT|        6979|FDEBORTTUBQNVRF|  2020-02-08|  RPYRNUFXHK|        5174|\n",
      "| POUATHPMKK|       7211|TITQNUSPNCTACCX| 2020-09-17| TDORDDUJAB|       3511|UBRLAHDQYEZDLBF| 2016-05-07| TESNJQWBKY|       4477|KLCBCQTPVLXWPAW|  2016-05-06|  UNYUJKRJKQ|         820|LIACISDJMUXIALU|  2024-11-26|  ERBBLHNGGM|         612|EABRWQAJHIXNCJM|  2018-02-25|  DBIEVZKJYV|        2357|LFTCMHDSMTKVYUK|  2021-01-20|  KPKNUQKQPE|          39|DHBFLGNSBTGGVGI|  2019-02-14|  CHLBGUTEIF|        8116|XKNHCTMFWPLIFAJ|  2017-03-20|  IBTUVRLTRQ|        9597|GTFTROMKIVVKSEV|  2016-04-13|  LUQOCMXNPH|        6611|IVQOZGOAJLIKBYO|  2021-11-23|  GZTHXTKBSP|        4222|LAIOHBNCCORDXHZ|  2020-06-30|  BJVMWZWALR|        5481|WROVAXGKIUJQPAP|  2017-10-20|  VRJSHZSGYS|        8092|\n",
      "+-----------+-----------+---------------+-----------+-----------+-----------+---------------+-----------+-----------+-----------+---------------+------------+------------+------------+---------------+------------+------------+------------+---------------+------------+------------+------------+---------------+------------+------------+------------+---------------+------------+------------+------------+---------------+------------+------------+------------+---------------+------------+------------+------------+---------------+------------+------------+------------+---------------+------------+------------+------------+---------------+------------+------------+------------+\n",
      "only showing top 20 rows\n",
      "\n"
     ]
    }
   ],
   "source": [
    "df = spark.sql(\"SELECT * FROM demo.nyc.taxis_10000_50COLUMNS FOR SYSTEM_VERSION AS OF 5954078949605399424\")\n",
    "df.show()"
   ]
  },
  {
   "cell_type": "code",
   "execution_count": 47,
   "id": "65a178ba-0aa9-4ae7-a528-da3a0e9a2490",
   "metadata": {},
   "outputs": [
    {
     "name": "stdout",
     "output_type": "stream",
     "text": [
      "+-----------+---------------------+---------------------+\n",
      "|extra_col_0|extra_col_1_version_1|extra_col_1_version_2|\n",
      "+-----------+---------------------+---------------------+\n",
      "| ESFQDGITAC|                 4245|                 4255|\n",
      "| GHCTPFZNLI|                 6931|                 6941|\n",
      "| YGLRSOETYW|                 4121|                 4131|\n",
      "| XYGCFDSEDM|                 7519|                 7529|\n",
      "| FHLWFPWQKX|                 9012|                 9022|\n",
      "| ESSXORMSXT|                 4580|                 4590|\n",
      "| KQAIBHIHGM|                 6835|                 6845|\n",
      "| OVSTTFJHTM|                   43|                   53|\n",
      "| NHPBPGTHNU|                 2231|                 2241|\n",
      "| QLSKCGZDGW|                  476|                  486|\n",
      "| ZMVNSOMSNW|                 8268|                 8278|\n",
      "| KEIGVIHNCJ|                 2858|                 2868|\n",
      "| DRBEYKPRRW|                 1188|                 1198|\n",
      "| MPVZTEDJYR|                 1774|                 1784|\n",
      "| JLLOFWKIMO|                  341|                  351|\n",
      "| FXZEQBGRPF|                 1904|                 1914|\n",
      "| JUUEPKUQOY|                  215|                  225|\n",
      "| PKJHWLYKEC|                 6686|                 6696|\n",
      "| WIHYHNMRXG|                 6574|                 6584|\n",
      "| TBPCELUWGP|                 6998|                 7008|\n",
      "+-----------+---------------------+---------------------+\n",
      "only showing top 20 rows\n",
      "\n"
     ]
    }
   ],
   "source": [
    "df = spark.sql(\"\"\"\n",
    "SELECT \n",
    "    t1.extra_col_0, \n",
    "    t1.extra_col_1 AS extra_col_1_version_1, \n",
    "    t2.extra_col_1 AS extra_col_1_version_2\n",
    "FROM \n",
    "    demo.nyc.taxis_10000_50COLUMNS FOR SYSTEM_VERSION AS OF 2768008278032157245 t1\n",
    "JOIN \n",
    "    demo.nyc.taxis_10000_50COLUMNS FOR SYSTEM_VERSION AS OF 5954078949605399424 t2\n",
    "ON \n",
    "    t1.extra_col_0 = t2.extra_col_0\n",
    "WHERE \n",
    "    t1.extra_col_1 != t2.extra_col_1\n",
    "\"\"\")\n",
    "df.show()\n"
   ]
  },
  {
   "cell_type": "code",
   "execution_count": null,
   "id": "32cac569-db32-4e88-94f7-9c9f1915b06d",
   "metadata": {},
   "outputs": [],
   "source": []
  }
 ],
 "metadata": {
  "kernelspec": {
   "display_name": "Python 3 (ipykernel)",
   "language": "python",
   "name": "python3"
  },
  "language_info": {
   "codemirror_mode": {
    "name": "ipython",
    "version": 3
   },
   "file_extension": ".py",
   "mimetype": "text/x-python",
   "name": "python",
   "nbconvert_exporter": "python",
   "pygments_lexer": "ipython3",
   "version": "3.9.18"
  }
 },
 "nbformat": 4,
 "nbformat_minor": 5
}
