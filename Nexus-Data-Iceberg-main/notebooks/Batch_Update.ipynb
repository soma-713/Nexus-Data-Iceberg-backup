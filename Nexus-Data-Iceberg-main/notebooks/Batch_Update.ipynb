{
 "cells": [
  {
   "cell_type": "code",
   "execution_count": 10,
   "id": "5c666001-f359-458f-85e8-86098eb6c6bd",
   "metadata": {},
   "outputs": [
    {
     "ename": "ConnectionRefusedError",
     "evalue": "[Errno 111] Connection refused",
     "output_type": "error",
     "traceback": [
      "\u001b[0;31m---------------------------------------------------------------------------\u001b[0m",
      "\u001b[0;31mConnectionRefusedError\u001b[0m                    Traceback (most recent call last)",
      "Cell \u001b[0;32mIn[10], line 2\u001b[0m\n\u001b[1;32m      1\u001b[0m \u001b[38;5;28;01mfrom\u001b[39;00m \u001b[38;5;21;01mpyspark\u001b[39;00m\u001b[38;5;21;01m.\u001b[39;00m\u001b[38;5;21;01msql\u001b[39;00m \u001b[38;5;28;01mimport\u001b[39;00m SparkSession\n\u001b[0;32m----> 2\u001b[0m spark \u001b[38;5;241m=\u001b[39m \u001b[43mSparkSession\u001b[49m\u001b[38;5;241;43m.\u001b[39;49m\u001b[43mbuilder\u001b[49m\u001b[38;5;241;43m.\u001b[39;49m\u001b[43mappName\u001b[49m\u001b[43m(\u001b[49m\u001b[38;5;124;43m\"\u001b[39;49m\u001b[38;5;124;43mrecords\u001b[39;49m\u001b[38;5;124;43m\"\u001b[39;49m\u001b[43m)\u001b[49m\u001b[38;5;241;43m.\u001b[39;49m\u001b[43mgetOrCreate\u001b[49m\u001b[43m(\u001b[49m\u001b[43m)\u001b[49m\n",
      "File \u001b[0;32m/opt/spark/python/pyspark/sql/session.py:503\u001b[0m, in \u001b[0;36mSparkSession.Builder.getOrCreate\u001b[0;34m(self)\u001b[0m\n\u001b[1;32m    500\u001b[0m     session \u001b[38;5;241m=\u001b[39m SparkSession(sc, options\u001b[38;5;241m=\u001b[39m\u001b[38;5;28mself\u001b[39m\u001b[38;5;241m.\u001b[39m_options)\n\u001b[1;32m    501\u001b[0m \u001b[38;5;28;01melse\u001b[39;00m:\n\u001b[1;32m    502\u001b[0m     \u001b[38;5;28mgetattr\u001b[39m(\n\u001b[0;32m--> 503\u001b[0m         \u001b[38;5;28;43mgetattr\u001b[39;49m\u001b[43m(\u001b[49m\u001b[43msession\u001b[49m\u001b[38;5;241;43m.\u001b[39;49m\u001b[43m_jvm\u001b[49m\u001b[43m,\u001b[49m\u001b[43m \u001b[49m\u001b[38;5;124;43m\"\u001b[39;49m\u001b[38;5;124;43mSparkSession$\u001b[39;49m\u001b[38;5;124;43m\"\u001b[39;49m\u001b[43m)\u001b[49m, \u001b[38;5;124m\"\u001b[39m\u001b[38;5;124mMODULE$\u001b[39m\u001b[38;5;124m\"\u001b[39m\n\u001b[1;32m    504\u001b[0m     )\u001b[38;5;241m.\u001b[39mapplyModifiableSettings(session\u001b[38;5;241m.\u001b[39m_jsparkSession, \u001b[38;5;28mself\u001b[39m\u001b[38;5;241m.\u001b[39m_options)\n\u001b[1;32m    505\u001b[0m \u001b[38;5;28;01mreturn\u001b[39;00m session\n",
      "File \u001b[0;32m/opt/spark/python/lib/py4j-0.10.9.7-src.zip/py4j/java_gateway.py:1712\u001b[0m, in \u001b[0;36mJVMView.__getattr__\u001b[0;34m(self, name)\u001b[0m\n\u001b[1;32m   1709\u001b[0m \u001b[38;5;28;01mif\u001b[39;00m name \u001b[38;5;241m==\u001b[39m UserHelpAutoCompletion\u001b[38;5;241m.\u001b[39mKEY:\n\u001b[1;32m   1710\u001b[0m     \u001b[38;5;28;01mreturn\u001b[39;00m UserHelpAutoCompletion()\n\u001b[0;32m-> 1712\u001b[0m answer \u001b[38;5;241m=\u001b[39m \u001b[38;5;28;43mself\u001b[39;49m\u001b[38;5;241;43m.\u001b[39;49m\u001b[43m_gateway_client\u001b[49m\u001b[38;5;241;43m.\u001b[39;49m\u001b[43msend_command\u001b[49m\u001b[43m(\u001b[49m\n\u001b[1;32m   1713\u001b[0m \u001b[43m    \u001b[49m\u001b[43mproto\u001b[49m\u001b[38;5;241;43m.\u001b[39;49m\u001b[43mREFLECTION_COMMAND_NAME\u001b[49m\u001b[43m \u001b[49m\u001b[38;5;241;43m+\u001b[39;49m\n\u001b[1;32m   1714\u001b[0m \u001b[43m    \u001b[49m\u001b[43mproto\u001b[49m\u001b[38;5;241;43m.\u001b[39;49m\u001b[43mREFL_GET_UNKNOWN_SUB_COMMAND_NAME\u001b[49m\u001b[43m \u001b[49m\u001b[38;5;241;43m+\u001b[39;49m\u001b[43m \u001b[49m\u001b[43mname\u001b[49m\u001b[43m \u001b[49m\u001b[38;5;241;43m+\u001b[39;49m\u001b[43m \u001b[49m\u001b[38;5;124;43m\"\u001b[39;49m\u001b[38;5;130;43;01m\\n\u001b[39;49;00m\u001b[38;5;124;43m\"\u001b[39;49m\u001b[43m \u001b[49m\u001b[38;5;241;43m+\u001b[39;49m\u001b[43m \u001b[49m\u001b[38;5;28;43mself\u001b[39;49m\u001b[38;5;241;43m.\u001b[39;49m\u001b[43m_id\u001b[49m\u001b[43m \u001b[49m\u001b[38;5;241;43m+\u001b[39;49m\n\u001b[1;32m   1715\u001b[0m \u001b[43m    \u001b[49m\u001b[38;5;124;43m\"\u001b[39;49m\u001b[38;5;130;43;01m\\n\u001b[39;49;00m\u001b[38;5;124;43m\"\u001b[39;49m\u001b[43m \u001b[49m\u001b[38;5;241;43m+\u001b[39;49m\u001b[43m \u001b[49m\u001b[43mproto\u001b[49m\u001b[38;5;241;43m.\u001b[39;49m\u001b[43mEND_COMMAND_PART\u001b[49m\u001b[43m)\u001b[49m\n\u001b[1;32m   1716\u001b[0m \u001b[38;5;28;01mif\u001b[39;00m answer \u001b[38;5;241m==\u001b[39m proto\u001b[38;5;241m.\u001b[39mSUCCESS_PACKAGE:\n\u001b[1;32m   1717\u001b[0m     \u001b[38;5;28;01mreturn\u001b[39;00m JavaPackage(name, \u001b[38;5;28mself\u001b[39m\u001b[38;5;241m.\u001b[39m_gateway_client, jvm_id\u001b[38;5;241m=\u001b[39m\u001b[38;5;28mself\u001b[39m\u001b[38;5;241m.\u001b[39m_id)\n",
      "File \u001b[0;32m/opt/spark/python/lib/py4j-0.10.9.7-src.zip/py4j/java_gateway.py:1036\u001b[0m, in \u001b[0;36mGatewayClient.send_command\u001b[0;34m(self, command, retry, binary)\u001b[0m\n\u001b[1;32m   1015\u001b[0m \u001b[38;5;28;01mdef\u001b[39;00m \u001b[38;5;21msend_command\u001b[39m(\u001b[38;5;28mself\u001b[39m, command, retry\u001b[38;5;241m=\u001b[39m\u001b[38;5;28;01mTrue\u001b[39;00m, binary\u001b[38;5;241m=\u001b[39m\u001b[38;5;28;01mFalse\u001b[39;00m):\n\u001b[1;32m   1016\u001b[0m \u001b[38;5;250m    \u001b[39m\u001b[38;5;124;03m\"\"\"Sends a command to the JVM. This method is not intended to be\u001b[39;00m\n\u001b[1;32m   1017\u001b[0m \u001b[38;5;124;03m       called directly by Py4J users. It is usually called by\u001b[39;00m\n\u001b[1;32m   1018\u001b[0m \u001b[38;5;124;03m       :class:`JavaMember` instances.\u001b[39;00m\n\u001b[0;32m   (...)\u001b[0m\n\u001b[1;32m   1034\u001b[0m \u001b[38;5;124;03m     if `binary` is `True`.\u001b[39;00m\n\u001b[1;32m   1035\u001b[0m \u001b[38;5;124;03m    \"\"\"\u001b[39;00m\n\u001b[0;32m-> 1036\u001b[0m     connection \u001b[38;5;241m=\u001b[39m \u001b[38;5;28;43mself\u001b[39;49m\u001b[38;5;241;43m.\u001b[39;49m\u001b[43m_get_connection\u001b[49m\u001b[43m(\u001b[49m\u001b[43m)\u001b[49m\n\u001b[1;32m   1037\u001b[0m     \u001b[38;5;28;01mtry\u001b[39;00m:\n\u001b[1;32m   1038\u001b[0m         response \u001b[38;5;241m=\u001b[39m connection\u001b[38;5;241m.\u001b[39msend_command(command)\n",
      "File \u001b[0;32m/opt/spark/python/lib/py4j-0.10.9.7-src.zip/py4j/clientserver.py:284\u001b[0m, in \u001b[0;36mJavaClient._get_connection\u001b[0;34m(self)\u001b[0m\n\u001b[1;32m    281\u001b[0m     \u001b[38;5;28;01mpass\u001b[39;00m\n\u001b[1;32m    283\u001b[0m \u001b[38;5;28;01mif\u001b[39;00m connection \u001b[38;5;129;01mis\u001b[39;00m \u001b[38;5;28;01mNone\u001b[39;00m \u001b[38;5;129;01mor\u001b[39;00m connection\u001b[38;5;241m.\u001b[39msocket \u001b[38;5;129;01mis\u001b[39;00m \u001b[38;5;28;01mNone\u001b[39;00m:\n\u001b[0;32m--> 284\u001b[0m     connection \u001b[38;5;241m=\u001b[39m \u001b[38;5;28;43mself\u001b[39;49m\u001b[38;5;241;43m.\u001b[39;49m\u001b[43m_create_new_connection\u001b[49m\u001b[43m(\u001b[49m\u001b[43m)\u001b[49m\n\u001b[1;32m    285\u001b[0m \u001b[38;5;28;01mreturn\u001b[39;00m connection\n",
      "File \u001b[0;32m/opt/spark/python/lib/py4j-0.10.9.7-src.zip/py4j/clientserver.py:291\u001b[0m, in \u001b[0;36mJavaClient._create_new_connection\u001b[0;34m(self)\u001b[0m\n\u001b[1;32m    287\u001b[0m \u001b[38;5;28;01mdef\u001b[39;00m \u001b[38;5;21m_create_new_connection\u001b[39m(\u001b[38;5;28mself\u001b[39m):\n\u001b[1;32m    288\u001b[0m     connection \u001b[38;5;241m=\u001b[39m ClientServerConnection(\n\u001b[1;32m    289\u001b[0m         \u001b[38;5;28mself\u001b[39m\u001b[38;5;241m.\u001b[39mjava_parameters, \u001b[38;5;28mself\u001b[39m\u001b[38;5;241m.\u001b[39mpython_parameters,\n\u001b[1;32m    290\u001b[0m         \u001b[38;5;28mself\u001b[39m\u001b[38;5;241m.\u001b[39mgateway_property, \u001b[38;5;28mself\u001b[39m)\n\u001b[0;32m--> 291\u001b[0m     \u001b[43mconnection\u001b[49m\u001b[38;5;241;43m.\u001b[39;49m\u001b[43mconnect_to_java_server\u001b[49m\u001b[43m(\u001b[49m\u001b[43m)\u001b[49m\n\u001b[1;32m    292\u001b[0m     \u001b[38;5;28mself\u001b[39m\u001b[38;5;241m.\u001b[39mset_thread_connection(connection)\n\u001b[1;32m    293\u001b[0m     \u001b[38;5;28;01mreturn\u001b[39;00m connection\n",
      "File \u001b[0;32m/opt/spark/python/lib/py4j-0.10.9.7-src.zip/py4j/clientserver.py:438\u001b[0m, in \u001b[0;36mClientServerConnection.connect_to_java_server\u001b[0;34m(self)\u001b[0m\n\u001b[1;32m    435\u001b[0m \u001b[38;5;28;01mif\u001b[39;00m \u001b[38;5;28mself\u001b[39m\u001b[38;5;241m.\u001b[39mssl_context:\n\u001b[1;32m    436\u001b[0m     \u001b[38;5;28mself\u001b[39m\u001b[38;5;241m.\u001b[39msocket \u001b[38;5;241m=\u001b[39m \u001b[38;5;28mself\u001b[39m\u001b[38;5;241m.\u001b[39mssl_context\u001b[38;5;241m.\u001b[39mwrap_socket(\n\u001b[1;32m    437\u001b[0m         \u001b[38;5;28mself\u001b[39m\u001b[38;5;241m.\u001b[39msocket, server_hostname\u001b[38;5;241m=\u001b[39m\u001b[38;5;28mself\u001b[39m\u001b[38;5;241m.\u001b[39mjava_address)\n\u001b[0;32m--> 438\u001b[0m \u001b[38;5;28;43mself\u001b[39;49m\u001b[38;5;241;43m.\u001b[39;49m\u001b[43msocket\u001b[49m\u001b[38;5;241;43m.\u001b[39;49m\u001b[43mconnect\u001b[49m\u001b[43m(\u001b[49m\u001b[43m(\u001b[49m\u001b[38;5;28;43mself\u001b[39;49m\u001b[38;5;241;43m.\u001b[39;49m\u001b[43mjava_address\u001b[49m\u001b[43m,\u001b[49m\u001b[43m \u001b[49m\u001b[38;5;28;43mself\u001b[39;49m\u001b[38;5;241;43m.\u001b[39;49m\u001b[43mjava_port\u001b[49m\u001b[43m)\u001b[49m\u001b[43m)\u001b[49m\n\u001b[1;32m    439\u001b[0m \u001b[38;5;28mself\u001b[39m\u001b[38;5;241m.\u001b[39mstream \u001b[38;5;241m=\u001b[39m \u001b[38;5;28mself\u001b[39m\u001b[38;5;241m.\u001b[39msocket\u001b[38;5;241m.\u001b[39mmakefile(\u001b[38;5;124m\"\u001b[39m\u001b[38;5;124mrb\u001b[39m\u001b[38;5;124m\"\u001b[39m)\n\u001b[1;32m    440\u001b[0m \u001b[38;5;28mself\u001b[39m\u001b[38;5;241m.\u001b[39mis_connected \u001b[38;5;241m=\u001b[39m \u001b[38;5;28;01mTrue\u001b[39;00m\n",
      "\u001b[0;31mConnectionRefusedError\u001b[0m: [Errno 111] Connection refused"
     ]
    }
   ],
   "source": [
    "from pyspark.sql import SparkSession\n",
    "spark = SparkSession.builder.appName(\"records\").getOrCreate()\n"
   ]
  },
  {
   "cell_type": "code",
   "execution_count": 8,
   "id": "6dbd9ab9-0855-4930-913b-ba42ea557419",
   "metadata": {},
   "outputs": [
    {
     "name": "stdout",
     "output_type": "stream",
     "text": [
      "Total rows in table: 10004500\n"
     ]
    },
    {
     "name": "stdin",
     "output_type": "stream",
     "text": [
      "Enter update percentage (e.g., 1 for 1%):  1\n"
     ]
    },
    {
     "name": "stdout",
     "output_type": "stream",
     "text": [
      "Updating 100045 rows (~1.0%) in 201 batches...\n",
      "Processing batch 1/201...\n"
     ]
    },
    {
     "name": "stderr",
     "output_type": "stream",
     "text": [
      "25/03/04 09:17:09 WARN RowBasedKeyValueBatch: Calling spill() on RowBasedKeyValueBatch. Will not spill but return 0.\n",
      "25/03/04 09:17:09 WARN RowBasedKeyValueBatch: Calling spill() on RowBasedKeyValueBatch. Will not spill but return 0.\n",
      "25/03/04 09:17:09 WARN RowBasedKeyValueBatch: Calling spill() on RowBasedKeyValueBatch. Will not spill but return 0.\n",
      "25/03/04 09:17:09 WARN RowBasedKeyValueBatch: Calling spill() on RowBasedKeyValueBatch. Will not spill but return 0.\n",
      "25/03/04 09:17:11 WARN RowBasedKeyValueBatch: Calling spill() on RowBasedKeyValueBatch. Will not spill but return 0.\n",
      "25/03/04 09:17:11 WARN RowBasedKeyValueBatch: Calling spill() on RowBasedKeyValueBatch. Will not spill but return 0.\n",
      "25/03/04 09:17:11 WARN RowBasedKeyValueBatch: Calling spill() on RowBasedKeyValueBatch. Will not spill but return 0.\n",
      "25/03/04 09:17:11 WARN RowBasedKeyValueBatch: Calling spill() on RowBasedKeyValueBatch. Will not spill but return 0.\n",
      "                                                                                \r"
     ]
    },
    {
     "name": "stdout",
     "output_type": "stream",
     "text": [
      "Batch 1/201 updated.\n",
      "Processing batch 2/201...\n"
     ]
    },
    {
     "name": "stderr",
     "output_type": "stream",
     "text": [
      "25/03/04 09:20:37 WARN RowBasedKeyValueBatch: Calling spill() on RowBasedKeyValueBatch. Will not spill but return 0.\n",
      "25/03/04 09:20:37 WARN RowBasedKeyValueBatch: Calling spill() on RowBasedKeyValueBatch. Will not spill but return 0.\n",
      "25/03/04 09:20:37 WARN RowBasedKeyValueBatch: Calling spill() on RowBasedKeyValueBatch. Will not spill but return 0.\n",
      "25/03/04 09:20:37 WARN RowBasedKeyValueBatch: Calling spill() on RowBasedKeyValueBatch. Will not spill but return 0.\n",
      "25/03/04 09:20:39 WARN RowBasedKeyValueBatch: Calling spill() on RowBasedKeyValueBatch. Will not spill but return 0.\n",
      "25/03/04 09:20:39 WARN RowBasedKeyValueBatch: Calling spill() on RowBasedKeyValueBatch. Will not spill but return 0.\n",
      "25/03/04 09:20:39 WARN RowBasedKeyValueBatch: Calling spill() on RowBasedKeyValueBatch. Will not spill but return 0.\n",
      "25/03/04 09:20:39 WARN RowBasedKeyValueBatch: Calling spill() on RowBasedKeyValueBatch. Will not spill but return 0.\n",
      "                                                                                \r"
     ]
    },
    {
     "name": "stdout",
     "output_type": "stream",
     "text": [
      "Batch 2/201 updated.\n",
      "Processing batch 3/201...\n"
     ]
    },
    {
     "name": "stderr",
     "output_type": "stream",
     "text": [
      "25/03/04 09:23:39 WARN RowBasedKeyValueBatch: Calling spill() on RowBasedKeyValueBatch. Will not spill but return 0.\n",
      "25/03/04 09:23:39 WARN RowBasedKeyValueBatch: Calling spill() on RowBasedKeyValueBatch. Will not spill but return 0.\n",
      "25/03/04 09:23:39 WARN RowBasedKeyValueBatch: Calling spill() on RowBasedKeyValueBatch. Will not spill but return 0.\n",
      "25/03/04 09:23:40 WARN RowBasedKeyValueBatch: Calling spill() on RowBasedKeyValueBatch. Will not spill but return 0.\n",
      "25/03/04 09:23:41 WARN RowBasedKeyValueBatch: Calling spill() on RowBasedKeyValueBatch. Will not spill but return 0.\n",
      "25/03/04 09:23:41 WARN RowBasedKeyValueBatch: Calling spill() on RowBasedKeyValueBatch. Will not spill but return 0.\n",
      "25/03/04 09:23:41 WARN RowBasedKeyValueBatch: Calling spill() on RowBasedKeyValueBatch. Will not spill but return 0.\n",
      "25/03/04 09:23:41 WARN RowBasedKeyValueBatch: Calling spill() on RowBasedKeyValueBatch. Will not spill but return 0.\n",
      "                                                                                \r"
     ]
    },
    {
     "name": "stdout",
     "output_type": "stream",
     "text": [
      "Batch 3/201 updated.\n",
      "Processing batch 4/201...\n"
     ]
    },
    {
     "name": "stderr",
     "output_type": "stream",
     "text": [
      "25/03/04 09:26:45 WARN RowBasedKeyValueBatch: Calling spill() on RowBasedKeyValueBatch. Will not spill but return 0.\n",
      "25/03/04 09:26:45 WARN RowBasedKeyValueBatch: Calling spill() on RowBasedKeyValueBatch. Will not spill but return 0.\n",
      "25/03/04 09:26:45 WARN RowBasedKeyValueBatch: Calling spill() on RowBasedKeyValueBatch. Will not spill but return 0.\n",
      "25/03/04 09:26:45 WARN RowBasedKeyValueBatch: Calling spill() on RowBasedKeyValueBatch. Will not spill but return 0.\n",
      "25/03/04 09:26:46 WARN RowBasedKeyValueBatch: Calling spill() on RowBasedKeyValueBatch. Will not spill but return 0.\n",
      "25/03/04 09:26:46 WARN RowBasedKeyValueBatch: Calling spill() on RowBasedKeyValueBatch. Will not spill but return 0.\n",
      "25/03/04 09:26:46 WARN RowBasedKeyValueBatch: Calling spill() on RowBasedKeyValueBatch. Will not spill but return 0.\n",
      "25/03/04 09:26:46 WARN RowBasedKeyValueBatch: Calling spill() on RowBasedKeyValueBatch. Will not spill but return 0.\n",
      "                                                                                \r"
     ]
    },
    {
     "name": "stdout",
     "output_type": "stream",
     "text": [
      "Batch 4/201 updated.\n",
      "Processing batch 5/201...\n"
     ]
    },
    {
     "name": "stderr",
     "output_type": "stream",
     "text": [
      "25/03/04 09:30:04 WARN RowBasedKeyValueBatch: Calling spill() on RowBasedKeyValueBatch. Will not spill but return 0.\n",
      "25/03/04 09:30:04 WARN RowBasedKeyValueBatch: Calling spill() on RowBasedKeyValueBatch. Will not spill but return 0.\n",
      "25/03/04 09:30:04 WARN RowBasedKeyValueBatch: Calling spill() on RowBasedKeyValueBatch. Will not spill but return 0.\n",
      "25/03/04 09:30:05 WARN RowBasedKeyValueBatch: Calling spill() on RowBasedKeyValueBatch. Will not spill but return 0.\n",
      "25/03/04 09:30:06 WARN RowBasedKeyValueBatch: Calling spill() on RowBasedKeyValueBatch. Will not spill but return 0.\n",
      "25/03/04 09:30:06 WARN RowBasedKeyValueBatch: Calling spill() on RowBasedKeyValueBatch. Will not spill but return 0.\n",
      "25/03/04 09:30:06 WARN RowBasedKeyValueBatch: Calling spill() on RowBasedKeyValueBatch. Will not spill but return 0.\n",
      "25/03/04 09:30:06 WARN RowBasedKeyValueBatch: Calling spill() on RowBasedKeyValueBatch. Will not spill but return 0.\n",
      "                                                                                \r"
     ]
    },
    {
     "name": "stdout",
     "output_type": "stream",
     "text": [
      "Batch 5/201 updated.\n",
      "Processing batch 6/201...\n"
     ]
    },
    {
     "name": "stderr",
     "output_type": "stream",
     "text": [
      "25/03/04 09:32:51 WARN RowBasedKeyValueBatch: Calling spill() on RowBasedKeyValueBatch. Will not spill but return 0.\n",
      "25/03/04 09:32:51 WARN RowBasedKeyValueBatch: Calling spill() on RowBasedKeyValueBatch. Will not spill but return 0.\n",
      "25/03/04 09:32:51 WARN RowBasedKeyValueBatch: Calling spill() on RowBasedKeyValueBatch. Will not spill but return 0.\n",
      "25/03/04 09:32:52 WARN RowBasedKeyValueBatch: Calling spill() on RowBasedKeyValueBatch. Will not spill but return 0.\n",
      "25/03/04 09:32:52 WARN RowBasedKeyValueBatch: Calling spill() on RowBasedKeyValueBatch. Will not spill but return 0.\n",
      "25/03/04 09:32:52 WARN RowBasedKeyValueBatch: Calling spill() on RowBasedKeyValueBatch. Will not spill but return 0.\n",
      "                                                                                \r"
     ]
    },
    {
     "name": "stdout",
     "output_type": "stream",
     "text": [
      "Batch 6/201 updated.\n",
      "Processing batch 7/201...\n"
     ]
    },
    {
     "name": "stderr",
     "output_type": "stream",
     "text": [
      "25/03/04 09:36:03 WARN RowBasedKeyValueBatch: Calling spill() on RowBasedKeyValueBatch. Will not spill but return 0.\n",
      "25/03/04 09:36:03 WARN RowBasedKeyValueBatch: Calling spill() on RowBasedKeyValueBatch. Will not spill but return 0.\n",
      "25/03/04 09:36:03 WARN RowBasedKeyValueBatch: Calling spill() on RowBasedKeyValueBatch. Will not spill but return 0.\n",
      "25/03/04 09:36:03 WARN RowBasedKeyValueBatch: Calling spill() on RowBasedKeyValueBatch. Will not spill but return 0.\n",
      "25/03/04 09:36:04 WARN RowBasedKeyValueBatch: Calling spill() on RowBasedKeyValueBatch. Will not spill but return 0.\n",
      "25/03/04 09:36:04 WARN RowBasedKeyValueBatch: Calling spill() on RowBasedKeyValueBatch. Will not spill but return 0.\n",
      "25/03/04 09:36:04 WARN RowBasedKeyValueBatch: Calling spill() on RowBasedKeyValueBatch. Will not spill but return 0.\n",
      "25/03/04 09:36:05 WARN RowBasedKeyValueBatch: Calling spill() on RowBasedKeyValueBatch. Will not spill but return 0.\n",
      "                                                                                \r"
     ]
    },
    {
     "name": "stdout",
     "output_type": "stream",
     "text": [
      "Batch 7/201 updated.\n",
      "Processing batch 8/201...\n"
     ]
    },
    {
     "name": "stderr",
     "output_type": "stream",
     "text": [
      "25/03/04 09:39:07 WARN RowBasedKeyValueBatch: Calling spill() on RowBasedKeyValueBatch. Will not spill but return 0.\n",
      "25/03/04 09:39:07 WARN RowBasedKeyValueBatch: Calling spill() on RowBasedKeyValueBatch. Will not spill but return 0.\n",
      "25/03/04 09:39:07 WARN RowBasedKeyValueBatch: Calling spill() on RowBasedKeyValueBatch. Will not spill but return 0.\n",
      "25/03/04 09:39:07 WARN RowBasedKeyValueBatch: Calling spill() on RowBasedKeyValueBatch. Will not spill but return 0.\n",
      "25/03/04 09:39:09 WARN RowBasedKeyValueBatch: Calling spill() on RowBasedKeyValueBatch. Will not spill but return 0.\n",
      "25/03/04 09:39:09 WARN RowBasedKeyValueBatch: Calling spill() on RowBasedKeyValueBatch. Will not spill but return 0.\n",
      "25/03/04 09:39:09 WARN RowBasedKeyValueBatch: Calling spill() on RowBasedKeyValueBatch. Will not spill but return 0.\n",
      "25/03/04 09:39:09 WARN RowBasedKeyValueBatch: Calling spill() on RowBasedKeyValueBatch. Will not spill but return 0.\n",
      "                                                                                \r"
     ]
    },
    {
     "name": "stdout",
     "output_type": "stream",
     "text": [
      "Batch 8/201 updated.\n",
      "Processing batch 9/201...\n"
     ]
    },
    {
     "name": "stderr",
     "output_type": "stream",
     "text": [
      "25/03/04 09:42:18 WARN RowBasedKeyValueBatch: Calling spill() on RowBasedKeyValueBatch. Will not spill but return 0.\n",
      "25/03/04 09:42:18 WARN RowBasedKeyValueBatch: Calling spill() on RowBasedKeyValueBatch. Will not spill but return 0.\n",
      "25/03/04 09:42:18 WARN RowBasedKeyValueBatch: Calling spill() on RowBasedKeyValueBatch. Will not spill but return 0.\n",
      "25/03/04 09:42:18 WARN RowBasedKeyValueBatch: Calling spill() on RowBasedKeyValueBatch. Will not spill but return 0.\n",
      "25/03/04 09:42:19 WARN RowBasedKeyValueBatch: Calling spill() on RowBasedKeyValueBatch. Will not spill but return 0.\n",
      "25/03/04 09:42:19 WARN RowBasedKeyValueBatch: Calling spill() on RowBasedKeyValueBatch. Will not spill but return 0.\n",
      "25/03/04 09:42:19 WARN RowBasedKeyValueBatch: Calling spill() on RowBasedKeyValueBatch. Will not spill but return 0.\n",
      "25/03/04 09:42:19 WARN RowBasedKeyValueBatch: Calling spill() on RowBasedKeyValueBatch. Will not spill but return 0.\n",
      "                                                                                \r"
     ]
    },
    {
     "name": "stdout",
     "output_type": "stream",
     "text": [
      "Batch 9/201 updated.\n",
      "Processing batch 10/201...\n"
     ]
    },
    {
     "name": "stderr",
     "output_type": "stream",
     "text": [
      "[Stage 305:===========> (227 + 4) / 267][Stage 306:>              (0 + 0) / 267]\r"
     ]
    },
    {
     "name": "stdout",
     "output_type": "stream",
     "text": [
      "[6058.891s][warning][gc,alloc] Executor task launch worker for task 231.0 in stage 305.0 (TID 10072): Retried waiting for GCLocker too often allocating 1048578 words\n"
     ]
    },
    {
     "name": "stderr",
     "output_type": "stream",
     "text": [
      "25/03/04 09:45:04 ERROR Executor: Exception in task 231.0 in stage 305.0 (TID 10072)\n",
      "java.lang.OutOfMemoryError: Java heap space\n",
      "25/03/04 09:45:04 WARN TaskSetManager: Lost task 231.0 in stage 305.0 (TID 10072) (5e0ed98abed9 executor driver): java.lang.OutOfMemoryError: Java heap space\n",
      "\n",
      "25/03/04 09:45:04 ERROR TaskSetManager: Task 231 in stage 305.0 failed 1 times; aborting job\n",
      "25/03/04 09:45:04 ERROR SparkUncaughtExceptionHandler: Uncaught exception in thread Thread[Executor task launch worker for task 231.0 in stage 305.0 (TID 10072),5,main]\n",
      "java.lang.OutOfMemoryError: Java heap space\n",
      "25/03/04 09:45:04 WARN DiskBlockObjectWriter: Error deleting /tmp/blockmgr-244b373c-a8e3-4302-95fa-49829b358285/15/temp_shuffle_ed1e3a84-2ee4-4891-badc-0569d2bb0869\n",
      "25/03/04 09:45:04 WARN DiskBlockObjectWriter: Error deleting /tmp/blockmgr-244b373c-a8e3-4302-95fa-49829b358285/3f/temp_shuffle_6327d217-3c86-4b4b-9eeb-a525b91abbb9\n",
      "25/03/04 09:45:04 WARN DiskBlockObjectWriter: Error deleting /tmp/blockmgr-244b373c-a8e3-4302-95fa-49829b358285/1f/temp_shuffle_771b330b-fdc3-415f-80d0-bf6cbf95dacf\n",
      "25/03/04 09:45:04 WARN DiskBlockObjectWriter: Error deleting /tmp/blockmgr-244b373c-a8e3-4302-95fa-49829b358285/23/temp_shuffle_2f08e80b-019a-496b-9b16-1fcc366acc4b\n",
      "25/03/04 09:45:04 WARN DiskBlockObjectWriter: Error deleting /tmp/blockmgr-244b373c-a8e3-4302-95fa-49829b358285/20/temp_shuffle_263f73c4-7eec-4f86-88df-6136bc359a99\n",
      "25/03/04 09:45:04 WARN DiskBlockObjectWriter: Error deleting /tmp/blockmgr-244b373c-a8e3-4302-95fa-49829b358285/16/temp_shuffle_be699563-2577-4cef-a285-3d017a1ac2dd\n",
      "25/03/04 09:45:04 WARN DiskBlockObjectWriter: Error deleting /tmp/blockmgr-244b373c-a8e3-4302-95fa-49829b358285/27/temp_shuffle_e80094ec-36ed-4eb8-8baf-332473cc56d9\n",
      "25/03/04 09:45:04 WARN DiskBlockObjectWriter: Error deleting /tmp/blockmgr-244b373c-a8e3-4302-95fa-49829b358285/07/temp_shuffle_9a286f32-abaa-420b-9fce-45450c9e1a60\n",
      "25/03/04 09:45:04 WARN DiskBlockObjectWriter: Error deleting /tmp/blockmgr-244b373c-a8e3-4302-95fa-49829b358285/22/temp_shuffle_efa5b9f5-c46f-425d-a80a-0ec98b7d99a1\n",
      "25/03/04 09:45:04 WARN DiskBlockObjectWriter: Error deleting /tmp/blockmgr-244b373c-a8e3-4302-95fa-49829b358285/3c/temp_shuffle_ac27055f-989a-417a-91b4-88ca627d478f\n",
      "25/03/04 09:45:04 WARN DiskBlockObjectWriter: Error deleting /tmp/blockmgr-244b373c-a8e3-4302-95fa-49829b358285/14/temp_shuffle_2cc24c9c-3f8c-4b9c-b1e9-fa8b9ede7cc0\n",
      "25/03/04 09:45:04 WARN DiskBlockObjectWriter: Error deleting /tmp/blockmgr-244b373c-a8e3-4302-95fa-49829b358285/28/temp_shuffle_1d2e00e4-c1bc-4cd0-a84a-7dd8f6510c7a\n",
      "25/03/04 09:45:04 WARN DiskBlockObjectWriter: Error deleting /tmp/blockmgr-244b373c-a8e3-4302-95fa-49829b358285/2d/temp_shuffle_6c0ba128-3e3a-4acc-b0e9-aa030e96645d\n",
      "25/03/04 09:45:04 WARN TaskSetManager: Lost task 225.0 in stage 305.0 (TID 10066) (5e0ed98abed9 executor driver): TaskKilled (Stage cancelled: Job aborted due to stage failure: Task 231 in stage 305.0 failed 1 times, most recent failure: Lost task 231.0 in stage 305.0 (TID 10072) (5e0ed98abed9 executor driver): java.lang.OutOfMemoryError: Java heap space\n",
      "\n",
      "Driver stacktrace:)\n",
      "25/03/04 09:45:04 WARN DiskBlockObjectWriter: Error deleting /tmp/blockmgr-244b373c-a8e3-4302-95fa-49829b358285/0c/temp_shuffle_6f8752e5-79e3-4a7c-8dc8-aa3a608e4f3c\n",
      "25/03/04 09:45:04 WARN DiskBlockObjectWriter: Error deleting /tmp/blockmgr-244b373c-a8e3-4302-95fa-49829b358285/3f/temp_shuffle_3ee1c335-79a9-4ce7-a86f-53a1da17305e\n",
      "25/03/04 09:45:04 WARN DiskBlockObjectWriter: Error deleting /tmp/blockmgr-244b373c-a8e3-4302-95fa-49829b358285/3b/temp_shuffle_34775e6c-8456-40c8-8177-d6297e7831f1\n",
      "25/03/04 09:45:04 WARN DiskBlockObjectWriter: Error deleting /tmp/blockmgr-244b373c-a8e3-4302-95fa-49829b358285/36/temp_shuffle_4ef8d292-df00-4bce-8dd4-0e06a03ba5f6\n",
      "25/03/04 09:45:04 WARN DiskBlockObjectWriter: Error deleting /tmp/blockmgr-244b373c-a8e3-4302-95fa-49829b358285/3e/temp_shuffle_0a4ea703-33ac-471a-80f6-1cfc84bf7ba0\n",
      "25/03/04 09:45:04 WARN DiskBlockObjectWriter: Error deleting /tmp/blockmgr-244b373c-a8e3-4302-95fa-49829b358285/17/temp_shuffle_d3f519d6-77a8-481b-9eaf-5b79133ed2e5\n",
      "25/03/04 09:45:04 WARN DiskBlockObjectWriter: Error deleting /tmp/blockmgr-244b373c-a8e3-4302-95fa-49829b358285/23/temp_shuffle_a5454fd2-8a7f-49e1-8aff-d915ae218fcf\n",
      "25/03/04 09:45:04 WARN DiskBlockObjectWriter: Error deleting /tmp/blockmgr-244b373c-a8e3-4302-95fa-49829b358285/1f/temp_shuffle_ce2e36bf-b8c6-445b-b43f-5653b8962ff3\n",
      "25/03/04 09:45:04 WARN DiskBlockObjectWriter: Error deleting /tmp/blockmgr-244b373c-a8e3-4302-95fa-49829b358285/3d/temp_shuffle_d83ae1ab-b646-46e1-9635-522044e42145\n",
      "25/03/04 09:45:04 WARN DiskBlockObjectWriter: Error deleting /tmp/blockmgr-244b373c-a8e3-4302-95fa-49829b358285/10/temp_shuffle_5835a3e3-bfa4-4eee-8c3f-1460971aa147\n",
      "25/03/04 09:45:04 WARN DiskBlockObjectWriter: Error deleting /tmp/blockmgr-244b373c-a8e3-4302-95fa-49829b358285/0d/temp_shuffle_568c26f7-6cd9-4388-90f6-8284783e3a1e\n",
      "25/03/04 09:45:04 WARN DiskBlockObjectWriter: Error deleting /tmp/blockmgr-244b373c-a8e3-4302-95fa-49829b358285/0a/temp_shuffle_d40327a9-6d90-4d78-b3ce-db22d146e862\n",
      "25/03/04 09:45:04 WARN DiskBlockObjectWriter: Error deleting /tmp/blockmgr-244b373c-a8e3-4302-95fa-49829b358285/08/temp_shuffle_73e672b7-b125-484a-804f-99186d94363e\n",
      "25/03/04 09:45:04 WARN DiskBlockObjectWriter: Error deleting /tmp/blockmgr-244b373c-a8e3-4302-95fa-49829b358285/0a/temp_shuffle_9b8e33da-314d-43ff-b5a4-7742004ddb4c\n",
      "25/03/04 09:45:04 WARN DiskBlockObjectWriter: Error deleting /tmp/blockmgr-244b373c-a8e3-4302-95fa-49829b358285/11/temp_shuffle_53434f4e-8311-47bd-b762-9aecca69cb01\n",
      "25/03/04 09:45:04 WARN DiskBlockObjectWriter: Error deleting /tmp/blockmgr-244b373c-a8e3-4302-95fa-49829b358285/39/temp_shuffle_d7daa0a7-f215-4d12-88e7-7048a50e831b\n",
      "25/03/04 09:45:04 WARN DiskBlockObjectWriter: Error deleting /tmp/blockmgr-244b373c-a8e3-4302-95fa-49829b358285/1e/temp_shuffle_9db02a47-b592-4cf4-9ea8-cc0a307aedfc\n",
      "25/03/04 09:45:04 WARN DiskBlockObjectWriter: Error deleting /tmp/blockmgr-244b373c-a8e3-4302-95fa-49829b358285/23/temp_shuffle_743232ba-a58e-4d99-9bc3-3368f8afe5c6\n",
      "25/03/04 09:45:04 WARN DiskBlockObjectWriter: Error deleting /tmp/blockmgr-244b373c-a8e3-4302-95fa-49829b358285/0e/temp_shuffle_b7185def-5776-4429-a9ff-75bdb5b3be44\n",
      "25/03/04 09:45:04 WARN DiskBlockObjectWriter: Error deleting /tmp/blockmgr-244b373c-a8e3-4302-95fa-49829b358285/1f/temp_shuffle_831acfe6-31fb-4ae8-8e5e-1adfa1651679\n",
      "25/03/04 09:45:04 WARN DiskBlockObjectWriter: Error deleting /tmp/blockmgr-244b373c-a8e3-4302-95fa-49829b358285/29/temp_shuffle_9308745b-4080-4a1f-b4bb-cf96960d367a\n",
      "25/03/04 09:45:04 WARN DiskBlockObjectWriter: Error deleting /tmp/blockmgr-244b373c-a8e3-4302-95fa-49829b358285/1b/temp_shuffle_6cc9a9d5-3676-49cd-817d-f687cff7439a\n",
      "25/03/04 09:45:04 WARN DiskBlockObjectWriter: Error deleting /tmp/blockmgr-244b373c-a8e3-4302-95fa-49829b358285/11/temp_shuffle_d5c8315d-82c9-4aee-a9dc-0d6a45a6dd5e\n",
      "25/03/04 09:45:04 WARN DiskBlockObjectWriter: Error deleting /tmp/blockmgr-244b373c-a8e3-4302-95fa-49829b358285/28/temp_shuffle_5637fa5c-70b7-461c-9aaa-173bd63fe4a3\n",
      "25/03/04 09:45:04 WARN DiskBlockObjectWriter: Error deleting /tmp/blockmgr-244b373c-a8e3-4302-95fa-49829b358285/1d/temp_shuffle_612abb49-094a-4e6a-a2b8-6bc84edce5cf\n",
      "25/03/04 09:45:04 WARN DiskBlockObjectWriter: Error deleting /tmp/blockmgr-244b373c-a8e3-4302-95fa-49829b358285/34/temp_shuffle_4eb16d8e-fd3f-4a10-bf42-7751555e5de9\n",
      "25/03/04 09:45:04 WARN DiskBlockObjectWriter: Error deleting /tmp/blockmgr-244b373c-a8e3-4302-95fa-49829b358285/31/temp_shuffle_f2103015-4716-4b65-aa9e-dc390389112b\n",
      "25/03/04 09:45:04 WARN DiskBlockObjectWriter: Error deleting /tmp/blockmgr-244b373c-a8e3-4302-95fa-49829b358285/1b/temp_shuffle_87b64ea1-a794-47c4-8422-22fc6f4c3e8c\n",
      "25/03/04 09:45:04 WARN DiskBlockObjectWriter: Error deleting /tmp/blockmgr-244b373c-a8e3-4302-95fa-49829b358285/33/temp_shuffle_00c1f608-6c95-48bc-b685-68b450f656d5\n",
      "25/03/04 09:45:04 WARN DiskBlockObjectWriter: Error deleting /tmp/blockmgr-244b373c-a8e3-4302-95fa-49829b358285/32/temp_shuffle_5ee11694-e777-4387-979e-810d29fc50a4\n",
      "25/03/04 09:45:04 WARN DiskBlockObjectWriter: Error deleting /tmp/blockmgr-244b373c-a8e3-4302-95fa-49829b358285/00/temp_shuffle_492e3c87-5ad9-4125-951d-e0113110ea1e\n",
      "25/03/04 09:45:04 WARN DiskBlockObjectWriter: Error deleting /tmp/blockmgr-244b373c-a8e3-4302-95fa-49829b358285/1b/temp_shuffle_d472695a-a9d5-4edf-a76e-471d30b8318f\n",
      "25/03/04 09:45:04 WARN DiskBlockObjectWriter: Error deleting /tmp/blockmgr-244b373c-a8e3-4302-95fa-49829b358285/0c/temp_shuffle_ead2480a-0b74-4b06-b96a-c12b3f0d195a\n",
      "25/03/04 09:45:04 WARN DiskBlockObjectWriter: Error deleting /tmp/blockmgr-244b373c-a8e3-4302-95fa-49829b358285/2e/temp_shuffle_6fce47cb-3584-489b-8b3e-f9f281690d18\n",
      "25/03/04 09:45:04 WARN DiskBlockObjectWriter: Error deleting /tmp/blockmgr-244b373c-a8e3-4302-95fa-49829b358285/19/temp_shuffle_ca9d3398-9a71-4218-8efd-184a062fe818\n",
      "25/03/04 09:45:04 WARN DiskBlockObjectWriter: Error deleting /tmp/blockmgr-244b373c-a8e3-4302-95fa-49829b358285/3a/temp_shuffle_27c8c174-02d5-417c-b8f2-4c4d464a028d\n",
      "25/03/04 09:45:04 WARN DiskBlockObjectWriter: Error deleting /tmp/blockmgr-244b373c-a8e3-4302-95fa-49829b358285/38/temp_shuffle_11c839b2-feb5-4bb7-8fa7-fd30cffdc54e\n",
      "25/03/04 09:45:04 WARN DiskBlockObjectWriter: Error deleting /tmp/blockmgr-244b373c-a8e3-4302-95fa-49829b358285/35/temp_shuffle_42feb952-f5f5-4c13-bad9-d9106777d625\n",
      "25/03/04 09:45:04 WARN DiskBlockObjectWriter: Error deleting /tmp/blockmgr-244b373c-a8e3-4302-95fa-49829b358285/00/temp_shuffle_4b561cdb-c3df-491a-b2ac-dd56f7d450bd\n",
      "25/03/04 09:45:04 WARN DiskBlockObjectWriter: Error deleting /tmp/blockmgr-244b373c-a8e3-4302-95fa-49829b358285/0b/temp_shuffle_8fdf85da-e579-46d0-af83-f4fbc2dc5803\n",
      "25/03/04 09:45:04 WARN DiskBlockObjectWriter: Error deleting /tmp/blockmgr-244b373c-a8e3-4302-95fa-49829b358285/35/temp_shuffle_234a66e8-220d-49b9-a05a-5856f6d140e4\n",
      "25/03/04 09:45:04 WARN DiskBlockObjectWriter: Error deleting /tmp/blockmgr-244b373c-a8e3-4302-95fa-49829b358285/19/temp_shuffle_6524e643-4ccf-40d0-8377-ff2ddcb00b81\n",
      "25/03/04 09:45:04 WARN DiskBlockObjectWriter: Error deleting /tmp/blockmgr-244b373c-a8e3-4302-95fa-49829b358285/38/temp_shuffle_324bb5f9-21f8-4418-8abb-5ca364f80fde\n",
      "25/03/04 09:45:04 WARN DiskBlockObjectWriter: Error deleting /tmp/blockmgr-244b373c-a8e3-4302-95fa-49829b358285/2b/temp_shuffle_8237f6a6-f9d8-4d60-9170-278c0027c685\n",
      "25/03/04 09:45:04 WARN DiskBlockObjectWriter: Error deleting /tmp/blockmgr-244b373c-a8e3-4302-95fa-49829b358285/3d/temp_shuffle_a88c236f-7b33-4132-8ae2-3c70313975f9\n",
      "25/03/04 09:45:04 WARN DiskBlockObjectWriter: Error deleting /tmp/blockmgr-244b373c-a8e3-4302-95fa-49829b358285/26/temp_shuffle_519566a4-18ce-490f-adc9-6455f06c0f28\n",
      "25/03/04 09:45:04 WARN DiskBlockObjectWriter: Error deleting /tmp/blockmgr-244b373c-a8e3-4302-95fa-49829b358285/26/temp_shuffle_b74c3851-f4c3-48e6-b6b0-e828d8b3a2cc\n",
      "25/03/04 09:45:04 WARN DiskBlockObjectWriter: Error deleting /tmp/blockmgr-244b373c-a8e3-4302-95fa-49829b358285/3c/temp_shuffle_16f9666b-2539-429f-9941-4c8172c95d46\n",
      "25/03/04 09:45:04 WARN DiskBlockObjectWriter: Error deleting /tmp/blockmgr-244b373c-a8e3-4302-95fa-49829b358285/22/temp_shuffle_7100afb2-098b-49d1-a0cf-deb0e768001c\n",
      "25/03/04 09:45:04 WARN DiskBlockObjectWriter: Error deleting /tmp/blockmgr-244b373c-a8e3-4302-95fa-49829b358285/1c/temp_shuffle_19806686-d53b-44f8-a1a2-ae678e32425b\n",
      "25/03/04 09:45:04 WARN DiskBlockObjectWriter: Error deleting /tmp/blockmgr-244b373c-a8e3-4302-95fa-49829b358285/06/temp_shuffle_31af6263-e918-48fd-8f72-30cb2d6212bf\n",
      "25/03/04 09:45:04 WARN DiskBlockObjectWriter: Error deleting /tmp/blockmgr-244b373c-a8e3-4302-95fa-49829b358285/3a/temp_shuffle_f852e01a-5d74-40c0-8a22-2627baa124eb\n",
      "25/03/04 09:45:04 WARN DiskBlockObjectWriter: Error deleting /tmp/blockmgr-244b373c-a8e3-4302-95fa-49829b358285/2a/temp_shuffle_5a4a784a-514b-4680-920e-1f6c6de8dea9\n",
      "25/03/04 09:45:04 WARN DiskBlockObjectWriter: Error deleting /tmp/blockmgr-244b373c-a8e3-4302-95fa-49829b358285/0b/temp_shuffle_02e18c7d-3dcb-4f7f-bafb-985188d267d8\n",
      "25/03/04 09:45:04 WARN DiskBlockObjectWriter: Error deleting /tmp/blockmgr-244b373c-a8e3-4302-95fa-49829b358285/20/temp_shuffle_4cd6a0f1-3e1b-4672-9da0-fa0a919428b1\n",
      "25/03/04 09:45:04 WARN TaskSetManager: Lost task 224.0 in stage 305.0 (TID 10065) (5e0ed98abed9 executor driver): TaskKilled (Stage cancelled: Job aborted due to stage failure: Task 231 in stage 305.0 failed 1 times, most recent failure: Lost task 231.0 in stage 305.0 (TID 10072) (5e0ed98abed9 executor driver): java.lang.OutOfMemoryError: Java heap space\n",
      "\n",
      "Driver stacktrace:)\n",
      "25/03/04 09:45:04 WARN DiskBlockObjectWriter: Error deleting /tmp/blockmgr-244b373c-a8e3-4302-95fa-49829b358285/2f/temp_shuffle_5d7704a7-29b4-4b93-bb39-f2721557fc48\n",
      "25/03/04 09:45:04 WARN DiskBlockObjectWriter: Error deleting /tmp/blockmgr-244b373c-a8e3-4302-95fa-49829b358285/1f/temp_shuffle_7b436cb5-b5ad-44b2-8f19-f2f37c5c96e7\n",
      "25/03/04 09:45:04 WARN DiskBlockObjectWriter: Error deleting /tmp/blockmgr-244b373c-a8e3-4302-95fa-49829b358285/2a/temp_shuffle_313b1f53-5375-4d20-8a1f-1cb955a71359\n",
      "25/03/04 09:45:04 WARN DiskBlockObjectWriter: Error deleting /tmp/blockmgr-244b373c-a8e3-4302-95fa-49829b358285/06/temp_shuffle_a2b6f5f0-2e06-45b7-810d-3ab6b05710c9\n",
      "25/03/04 09:45:04 WARN DiskBlockObjectWriter: Error deleting /tmp/blockmgr-244b373c-a8e3-4302-95fa-49829b358285/11/temp_shuffle_b3fb645d-6001-403c-9c6d-0849460d944a\n",
      "25/03/04 09:45:04 WARN DiskBlockObjectWriter: Error deleting /tmp/blockmgr-244b373c-a8e3-4302-95fa-49829b358285/14/temp_shuffle_b20eca14-5699-4f22-acf2-65ddd3905b44\n",
      "25/03/04 09:45:04 WARN DiskBlockObjectWriter: Error deleting /tmp/blockmgr-244b373c-a8e3-4302-95fa-49829b358285/2f/temp_shuffle_7a8b1b28-25b1-41eb-9d09-b93c3efe9abc\n",
      "25/03/04 09:45:04 WARN DiskBlockObjectWriter: Error deleting /tmp/blockmgr-244b373c-a8e3-4302-95fa-49829b358285/3d/temp_shuffle_c73d835d-ae82-4cfe-9f48-b221329617f3\n",
      "25/03/04 09:45:04 WARN DiskBlockObjectWriter: Error deleting /tmp/blockmgr-244b373c-a8e3-4302-95fa-49829b358285/2c/temp_shuffle_98c51071-65bc-427b-b721-fbc6dd0eba56\n",
      "25/03/04 09:45:04 WARN DiskBlockObjectWriter: Error deleting /tmp/blockmgr-244b373c-a8e3-4302-95fa-49829b358285/16/temp_shuffle_7a7df6ea-4024-4a29-8935-efe6ff365c55\n",
      "25/03/04 09:45:04 WARN DiskBlockObjectWriter: Error deleting /tmp/blockmgr-244b373c-a8e3-4302-95fa-49829b358285/3e/temp_shuffle_693817b8-8a7a-4888-8973-6fc882d41407\n",
      "25/03/04 09:45:04 WARN DiskBlockObjectWriter: Error deleting /tmp/blockmgr-244b373c-a8e3-4302-95fa-49829b358285/28/temp_shuffle_a1047a4a-d663-4aa5-8f20-071e5fca6b99\n",
      "25/03/04 09:45:04 WARN DiskBlockObjectWriter: Error deleting /tmp/blockmgr-244b373c-a8e3-4302-95fa-49829b358285/26/temp_shuffle_d3b38583-dde5-4bb1-98c1-fdd6577147f4\n",
      "25/03/04 09:45:04 WARN DiskBlockObjectWriter: Error deleting /tmp/blockmgr-244b373c-a8e3-4302-95fa-49829b358285/3c/temp_shuffle_b83f80a8-9dad-4529-b4c2-759bda4fb7a8\n",
      "25/03/04 09:45:04 WARN DiskBlockObjectWriter: Error deleting /tmp/blockmgr-244b373c-a8e3-4302-95fa-49829b358285/1f/temp_shuffle_70b44409-3fd2-46cc-9ca1-5bf18399ac97\n",
      "25/03/04 09:45:04 WARN DiskBlockObjectWriter: Error deleting /tmp/blockmgr-244b373c-a8e3-4302-95fa-49829b358285/0e/temp_shuffle_fa2c89f0-870c-4b2e-9555-5068b5b4bb3d\n",
      "25/03/04 09:45:04 WARN DiskBlockObjectWriter: Error deleting /tmp/blockmgr-244b373c-a8e3-4302-95fa-49829b358285/06/temp_shuffle_c143f1f8-8dde-44c8-9419-654705c3d674\n",
      "25/03/04 09:45:04 WARN DiskBlockObjectWriter: Error deleting /tmp/blockmgr-244b373c-a8e3-4302-95fa-49829b358285/11/temp_shuffle_88047589-1e66-4686-8ed4-9c1bf3be4cb4\n",
      "25/03/04 09:45:04 WARN DiskBlockObjectWriter: Error deleting /tmp/blockmgr-244b373c-a8e3-4302-95fa-49829b358285/0d/temp_shuffle_51787102-d31d-4202-9bce-b87acf3c9611\n",
      "25/03/04 09:45:04 WARN DiskBlockObjectWriter: Error deleting /tmp/blockmgr-244b373c-a8e3-4302-95fa-49829b358285/09/temp_shuffle_841d0ae3-aab8-46fb-9077-45b7a4fd0d75\n",
      "25/03/04 09:45:04 WARN DiskBlockObjectWriter: Error deleting /tmp/blockmgr-244b373c-a8e3-4302-95fa-49829b358285/1a/temp_shuffle_5bd65838-5fc2-4c27-a88d-78a0810ed7aa\n",
      "25/03/04 09:45:04 WARN DiskBlockObjectWriter: Error deleting /tmp/blockmgr-244b373c-a8e3-4302-95fa-49829b358285/07/temp_shuffle_66171f1c-087f-431a-b09e-eb40edf0c1e2\n",
      "25/03/04 09:45:04 WARN DiskBlockObjectWriter: Error deleting /tmp/blockmgr-244b373c-a8e3-4302-95fa-49829b358285/35/temp_shuffle_4a4ce7aa-13a0-4104-8950-e8836dc8aad5\n",
      "25/03/04 09:45:04 WARN DiskBlockObjectWriter: Error deleting /tmp/blockmgr-244b373c-a8e3-4302-95fa-49829b358285/3f/temp_shuffle_672ba11d-d7aa-4320-8874-e67be92ca483\n",
      "25/03/04 09:45:04 WARN DiskBlockObjectWriter: Error deleting /tmp/blockmgr-244b373c-a8e3-4302-95fa-49829b358285/04/temp_shuffle_60180497-fedc-462d-b50b-9f7a9d7d632e\n",
      "25/03/04 09:45:04 WARN DiskBlockObjectWriter: Error deleting /tmp/blockmgr-244b373c-a8e3-4302-95fa-49829b358285/2b/temp_shuffle_dc18973d-a686-4692-af9e-4ed79335dfa7\n",
      "25/03/04 09:45:04 WARN DiskBlockObjectWriter: Error deleting /tmp/blockmgr-244b373c-a8e3-4302-95fa-49829b358285/19/temp_shuffle_74dfb126-ee58-4078-8061-d9562bc7fe15\n",
      "25/03/04 09:45:04 WARN DiskBlockObjectWriter: Error deleting /tmp/blockmgr-244b373c-a8e3-4302-95fa-49829b358285/01/temp_shuffle_747a63b7-b16c-4013-913a-8031eb8905bb\n",
      "25/03/04 09:45:04 WARN DiskBlockObjectWriter: Error deleting /tmp/blockmgr-244b373c-a8e3-4302-95fa-49829b358285/00/temp_shuffle_65ee513f-ecac-4952-ab77-113ff7fdc6e0\n",
      "25/03/04 09:45:04 WARN DiskBlockObjectWriter: Error deleting /tmp/blockmgr-244b373c-a8e3-4302-95fa-49829b358285/21/temp_shuffle_30b568db-4dfd-43c4-a1f7-cf21ebeb4577\n",
      "25/03/04 09:45:04 WARN DiskBlockObjectWriter: Error deleting /tmp/blockmgr-244b373c-a8e3-4302-95fa-49829b358285/06/temp_shuffle_41305713-4263-4296-a90d-c3fcae55e777\n",
      "25/03/04 09:45:04 WARN DiskBlockObjectWriter: Error deleting /tmp/blockmgr-244b373c-a8e3-4302-95fa-49829b358285/3e/temp_shuffle_503b7849-731e-4866-90b8-fb756a0d3d5a\n",
      "25/03/04 09:45:04 WARN DiskBlockObjectWriter: Error deleting /tmp/blockmgr-244b373c-a8e3-4302-95fa-49829b358285/3f/temp_shuffle_94c02bd5-dbac-42ae-a07a-688441f8fe2b\n",
      "25/03/04 09:45:04 WARN DiskBlockObjectWriter: Error deleting /tmp/blockmgr-244b373c-a8e3-4302-95fa-49829b358285/22/temp_shuffle_a6a08752-9173-413c-9d2c-a9ae241046e6\n",
      "25/03/04 09:45:04 WARN DiskBlockObjectWriter: Error deleting /tmp/blockmgr-244b373c-a8e3-4302-95fa-49829b358285/37/temp_shuffle_55dfcb6a-11dd-417a-8408-0c031ad8d245\n",
      "25/03/04 09:45:04 WARN DiskBlockObjectWriter: Error deleting /tmp/blockmgr-244b373c-a8e3-4302-95fa-49829b358285/22/temp_shuffle_bd4ec9b7-6ee3-4160-9601-b40ecc9500a1\n",
      "25/03/04 09:45:04 WARN DiskBlockObjectWriter: Error deleting /tmp/blockmgr-244b373c-a8e3-4302-95fa-49829b358285/0b/temp_shuffle_08e07879-8635-407f-81b9-38adb0c84a72\n",
      "25/03/04 09:45:04 WARN DiskBlockObjectWriter: Error deleting /tmp/blockmgr-244b373c-a8e3-4302-95fa-49829b358285/38/temp_shuffle_94cc1437-5c0f-4d34-8e3d-e04de6c929eb\n",
      "25/03/04 09:45:04 WARN DiskBlockObjectWriter: Error deleting /tmp/blockmgr-244b373c-a8e3-4302-95fa-49829b358285/2d/temp_shuffle_59cbc01d-3587-4248-895c-432b3f4140d0\n",
      "25/03/04 09:45:04 WARN DiskBlockObjectWriter: Error deleting /tmp/blockmgr-244b373c-a8e3-4302-95fa-49829b358285/30/temp_shuffle_0dc8276e-dc08-4c40-ab0b-8165d1380502\n",
      "25/03/04 09:45:04 WARN DiskBlockObjectWriter: Error deleting /tmp/blockmgr-244b373c-a8e3-4302-95fa-49829b358285/13/temp_shuffle_9d2b0e47-f641-404b-85c7-155f021ebb4f\n",
      "25/03/04 09:45:04 WARN DiskBlockObjectWriter: Error deleting /tmp/blockmgr-244b373c-a8e3-4302-95fa-49829b358285/15/temp_shuffle_cc90a35e-03ce-4691-b0cc-d5ba91ec44a5\n",
      "25/03/04 09:45:04 WARN DiskBlockObjectWriter: Error deleting /tmp/blockmgr-244b373c-a8e3-4302-95fa-49829b358285/14/temp_shuffle_747c348c-7b60-4a01-b857-2f1bfde6ddcd\n",
      "25/03/04 09:45:04 WARN DiskBlockObjectWriter: Error deleting /tmp/blockmgr-244b373c-a8e3-4302-95fa-49829b358285/03/temp_shuffle_954c4349-76f4-4335-93e0-4fe508113469\n",
      "25/03/04 09:45:04 WARN DiskBlockObjectWriter: Error deleting /tmp/blockmgr-244b373c-a8e3-4302-95fa-49829b358285/1d/temp_shuffle_78de607d-b6fa-403b-ae3d-b413b144bc31\n",
      "25/03/04 09:45:04 WARN DiskBlockObjectWriter: Error deleting /tmp/blockmgr-244b373c-a8e3-4302-95fa-49829b358285/1b/temp_shuffle_85a16f48-5cd1-4d20-b996-50c44b784d8a\n",
      "25/03/04 09:45:04 WARN DiskBlockObjectWriter: Error deleting /tmp/blockmgr-244b373c-a8e3-4302-95fa-49829b358285/11/temp_shuffle_f17a24eb-66ae-416d-a1af-c86b59110dcd\n",
      "25/03/04 09:45:04 WARN DiskBlockObjectWriter: Error deleting /tmp/blockmgr-244b373c-a8e3-4302-95fa-49829b358285/07/temp_shuffle_848b770a-fedc-4e01-8e9f-88b4ee5a2dd9\n",
      "25/03/04 09:45:04 WARN DiskBlockObjectWriter: Error deleting /tmp/blockmgr-244b373c-a8e3-4302-95fa-49829b358285/26/temp_shuffle_76d79ee3-98dd-4375-95b7-9b9956ddf09a\n",
      "25/03/04 09:45:04 WARN DiskBlockObjectWriter: Error deleting /tmp/blockmgr-244b373c-a8e3-4302-95fa-49829b358285/0a/temp_shuffle_c9694fa1-c20e-44ec-8a83-f46b409d375d\n",
      "25/03/04 09:45:04 WARN DiskBlockObjectWriter: Error deleting /tmp/blockmgr-244b373c-a8e3-4302-95fa-49829b358285/2b/temp_shuffle_176df4e4-a3cc-4627-8048-055590c244f5\n",
      "25/03/04 09:45:04 WARN DiskBlockObjectWriter: Error deleting /tmp/blockmgr-244b373c-a8e3-4302-95fa-49829b358285/04/temp_shuffle_02c180f5-f691-4fd2-b80a-f6ea0637339f\n",
      "25/03/04 09:45:04 WARN DiskBlockObjectWriter: Error deleting /tmp/blockmgr-244b373c-a8e3-4302-95fa-49829b358285/1a/temp_shuffle_e4077b36-ef21-4a62-a91f-7fada47f5d28\n",
      "25/03/04 09:45:04 WARN DiskBlockObjectWriter: Error deleting /tmp/blockmgr-244b373c-a8e3-4302-95fa-49829b358285/13/temp_shuffle_70edaac9-752f-4c67-8371-bd305517b4b6\n",
      "25/03/04 09:45:04 WARN DiskBlockObjectWriter: Error deleting /tmp/blockmgr-244b373c-a8e3-4302-95fa-49829b358285/10/temp_shuffle_922a2ce2-f9d2-48da-bb54-308abcdc35a1\n",
      "25/03/04 09:45:04 WARN DiskBlockObjectWriter: Error deleting /tmp/blockmgr-244b373c-a8e3-4302-95fa-49829b358285/0d/temp_shuffle_4776cdcd-22b5-4677-b414-58291d73db7d\n",
      "25/03/04 09:45:04 WARN DiskBlockObjectWriter: Error deleting /tmp/blockmgr-244b373c-a8e3-4302-95fa-49829b358285/23/temp_shuffle_d2999cf6-b99d-4994-be51-d3103e32a9e9\n",
      "25/03/04 09:45:04 WARN DiskBlockObjectWriter: Error deleting /tmp/blockmgr-244b373c-a8e3-4302-95fa-49829b358285/03/temp_shuffle_8faad498-2aec-4ad8-bcec-855ff45c4c45\n",
      "25/03/04 09:45:04 WARN DiskBlockObjectWriter: Error deleting /tmp/blockmgr-244b373c-a8e3-4302-95fa-49829b358285/3f/temp_shuffle_4ca280d0-5d49-4fad-8432-5c198d4e1bcc\n",
      "25/03/04 09:45:04 WARN DiskBlockObjectWriter: Error deleting /tmp/blockmgr-244b373c-a8e3-4302-95fa-49829b358285/0f/temp_shuffle_8f94b3ea-677b-4025-9e2e-e76c9e66616f\n",
      "25/03/04 09:45:04 WARN DiskBlockObjectWriter: Error deleting /tmp/blockmgr-244b373c-a8e3-4302-95fa-49829b358285/2e/temp_shuffle_d1ab5ffe-71a2-400d-ba27-385638982f77\n",
      "25/03/04 09:45:04 WARN DiskBlockObjectWriter: Error deleting /tmp/blockmgr-244b373c-a8e3-4302-95fa-49829b358285/3c/temp_shuffle_bf414f08-349f-4ea9-a982-a9c0f2b3dd38\n",
      "25/03/04 09:45:04 WARN DiskBlockObjectWriter: Error deleting /tmp/blockmgr-244b373c-a8e3-4302-95fa-49829b358285/02/temp_shuffle_f0494473-5122-4143-ac3c-fdf512191553\n",
      "25/03/04 09:45:04 WARN DiskBlockObjectWriter: Error deleting /tmp/blockmgr-244b373c-a8e3-4302-95fa-49829b358285/3d/temp_shuffle_cec36be4-1828-42a8-b7b6-87c93e3eab39\n",
      "25/03/04 09:45:04 WARN DiskBlockObjectWriter: Error deleting /tmp/blockmgr-244b373c-a8e3-4302-95fa-49829b358285/19/temp_shuffle_a1f4f65e-d446-46b7-ac72-62471f501efe\n",
      "25/03/04 09:45:04 WARN DiskBlockObjectWriter: Error deleting /tmp/blockmgr-244b373c-a8e3-4302-95fa-49829b358285/06/temp_shuffle_51d47d2d-8365-4ee1-aa45-c485ecba98a3\n",
      "25/03/04 09:45:04 WARN DiskBlockObjectWriter: Error deleting /tmp/blockmgr-244b373c-a8e3-4302-95fa-49829b358285/14/temp_shuffle_c4baa99c-da93-4aac-91fd-e0f2f132f3ab\n",
      "25/03/04 09:45:04 WARN DiskBlockObjectWriter: Error deleting /tmp/blockmgr-244b373c-a8e3-4302-95fa-49829b358285/14/temp_shuffle_0a0e1fbd-c430-42b0-965c-f4a43e0104fa\n",
      "25/03/04 09:45:04 WARN DiskBlockObjectWriter: Error deleting /tmp/blockmgr-244b373c-a8e3-4302-95fa-49829b358285/2c/temp_shuffle_8907bc5c-ecaa-40f0-a00c-f8aa78c00248\n",
      "25/03/04 09:45:04 WARN DiskBlockObjectWriter: Error deleting /tmp/blockmgr-244b373c-a8e3-4302-95fa-49829b358285/1e/temp_shuffle_978b7479-6c9d-4a00-aaee-91d715137825\n",
      "25/03/04 09:45:04 WARN DiskBlockObjectWriter: Error deleting /tmp/blockmgr-244b373c-a8e3-4302-95fa-49829b358285/31/temp_shuffle_7f46706d-e4e1-47c8-8365-5c907d109a9c\n",
      "25/03/04 09:45:04 WARN DiskBlockObjectWriter: Error deleting /tmp/blockmgr-244b373c-a8e3-4302-95fa-49829b358285/3b/temp_shuffle_5746d022-ad2c-472d-8c51-37d48916bc2a\n",
      "25/03/04 09:45:04 WARN DiskBlockObjectWriter: Error deleting /tmp/blockmgr-244b373c-a8e3-4302-95fa-49829b358285/1a/temp_shuffle_0e1ca720-b757-41a5-928e-104d57b7edd9\n",
      "25/03/04 09:45:04 WARN DiskBlockObjectWriter: Error deleting /tmp/blockmgr-244b373c-a8e3-4302-95fa-49829b358285/30/temp_shuffle_16d9322e-0001-43b4-9a8b-cb5d7ba7b9f5\n",
      "25/03/04 09:45:04 WARN DiskBlockObjectWriter: Error deleting /tmp/blockmgr-244b373c-a8e3-4302-95fa-49829b358285/07/temp_shuffle_607fddb8-c9b4-4498-b592-249d6938834b\n",
      "25/03/04 09:45:04 WARN DiskBlockObjectWriter: Error deleting /tmp/blockmgr-244b373c-a8e3-4302-95fa-49829b358285/1a/temp_shuffle_42c9bb25-6c7e-43f3-803b-5aacc62d264e\n",
      "25/03/04 09:45:04 WARN DiskBlockObjectWriter: Error deleting /tmp/blockmgr-244b373c-a8e3-4302-95fa-49829b358285/0b/temp_shuffle_59cd0884-985d-4b7a-a350-a2e0595ee201\n",
      "25/03/04 09:45:04 WARN DiskBlockObjectWriter: Error deleting /tmp/blockmgr-244b373c-a8e3-4302-95fa-49829b358285/35/temp_shuffle_19617efc-1272-410f-a82f-b1e9d194d933\n",
      "25/03/04 09:45:04 WARN DiskBlockObjectWriter: Error deleting /tmp/blockmgr-244b373c-a8e3-4302-95fa-49829b358285/3d/temp_shuffle_72722534-3dbd-44a8-bef9-debaf4216492\n",
      "25/03/04 09:45:04 WARN DiskBlockObjectWriter: Error deleting /tmp/blockmgr-244b373c-a8e3-4302-95fa-49829b358285/32/temp_shuffle_1f4313ac-755f-4a63-9170-06778bf0cccd\n",
      "25/03/04 09:45:04 WARN DiskBlockObjectWriter: Error deleting /tmp/blockmgr-244b373c-a8e3-4302-95fa-49829b358285/30/temp_shuffle_57ed16a2-ab40-4484-aad8-0efe221217ce\n",
      "25/03/04 09:45:04 WARN DiskBlockObjectWriter: Error deleting /tmp/blockmgr-244b373c-a8e3-4302-95fa-49829b358285/3a/temp_shuffle_60362240-6695-446a-8486-03bb12134df7\n",
      "25/03/04 09:45:04 WARN DiskBlockObjectWriter: Error deleting /tmp/blockmgr-244b373c-a8e3-4302-95fa-49829b358285/00/temp_shuffle_be100443-9a01-435e-87c6-f879e1428187\n",
      "25/03/04 09:45:04 WARN DiskBlockObjectWriter: Error deleting /tmp/blockmgr-244b373c-a8e3-4302-95fa-49829b358285/31/temp_shuffle_3c6cbf7a-c900-4a72-9fa8-04ed6db3af88\n",
      "25/03/04 09:45:04 WARN DiskBlockObjectWriter: Error deleting /tmp/blockmgr-244b373c-a8e3-4302-95fa-49829b358285/31/temp_shuffle_69105ba5-af3b-419e-a837-f64abcdc18fe\n",
      "25/03/04 09:45:04 WARN DiskBlockObjectWriter: Error deleting /tmp/blockmgr-244b373c-a8e3-4302-95fa-49829b358285/05/temp_shuffle_8719578f-d3bb-430f-96e8-f7a5b465b3cc\n",
      "25/03/04 09:45:04 WARN DiskBlockObjectWriter: Error deleting /tmp/blockmgr-244b373c-a8e3-4302-95fa-49829b358285/3a/temp_shuffle_51fdebf0-76fc-4b2f-85e3-8248ff7dd574\n",
      "25/03/04 09:45:04 WARN DiskBlockObjectWriter: Error deleting /tmp/blockmgr-244b373c-a8e3-4302-95fa-49829b358285/25/temp_shuffle_5264f848-8f96-40de-8a92-f05d1ad034da\n",
      "25/03/04 09:45:04 WARN DiskBlockObjectWriter: Error deleting /tmp/blockmgr-244b373c-a8e3-4302-95fa-49829b358285/31/temp_shuffle_b0233eba-890f-4841-bef6-38d8b4cd07b8\n",
      "25/03/04 09:45:04 WARN DiskBlockObjectWriter: Error deleting /tmp/blockmgr-244b373c-a8e3-4302-95fa-49829b358285/0c/temp_shuffle_c69e524b-8f75-49d3-80e8-7b4f4dba837d\n",
      "25/03/04 09:45:04 WARN DiskBlockObjectWriter: Error deleting /tmp/blockmgr-244b373c-a8e3-4302-95fa-49829b358285/10/temp_shuffle_0dca37cd-2231-4ce5-87ac-275b3916f342\n",
      "25/03/04 09:45:04 WARN DiskBlockObjectWriter: Error deleting /tmp/blockmgr-244b373c-a8e3-4302-95fa-49829b358285/04/temp_shuffle_bed43df6-45eb-4f15-845e-32dcf24be767\n",
      "25/03/04 09:45:04 WARN DiskBlockObjectWriter: Error deleting /tmp/blockmgr-244b373c-a8e3-4302-95fa-49829b358285/30/temp_shuffle_cd80c163-c34b-482d-a066-e137dbc07471\n",
      "25/03/04 09:45:04 WARN DiskBlockObjectWriter: Error deleting /tmp/blockmgr-244b373c-a8e3-4302-95fa-49829b358285/08/temp_shuffle_34c01911-3ade-4383-95d3-dac6996e1300\n",
      "25/03/04 09:45:04 WARN DiskBlockObjectWriter: Error deleting /tmp/blockmgr-244b373c-a8e3-4302-95fa-49829b358285/14/temp_shuffle_be873e78-eb7f-4dec-a03f-e934c11090d1\n",
      "25/03/04 09:45:04 WARN DiskBlockObjectWriter: Error deleting /tmp/blockmgr-244b373c-a8e3-4302-95fa-49829b358285/17/temp_shuffle_bff67be8-7f7e-4c7f-89f1-9b7e84e55b67\n",
      "25/03/04 09:45:04 WARN DiskBlockObjectWriter: Error deleting /tmp/blockmgr-244b373c-a8e3-4302-95fa-49829b358285/21/temp_shuffle_73f8332e-b1e3-48ab-be81-d0c965dcd64e\n",
      "25/03/04 09:45:04 WARN DiskBlockObjectWriter: Error deleting /tmp/blockmgr-244b373c-a8e3-4302-95fa-49829b358285/30/temp_shuffle_916ae547-4711-40d2-b5d2-4a30b0021868\n",
      "25/03/04 09:45:04 WARN DiskBlockObjectWriter: Error deleting /tmp/blockmgr-244b373c-a8e3-4302-95fa-49829b358285/0a/temp_shuffle_2011d9a3-403c-4882-bd12-bb026aeb4869\n",
      "25/03/04 09:45:04 WARN DiskBlockObjectWriter: Error deleting /tmp/blockmgr-244b373c-a8e3-4302-95fa-49829b358285/2d/temp_shuffle_0c389e23-492b-47dc-a081-632d01293a3f\n",
      "25/03/04 09:45:04 WARN DiskBlockObjectWriter: Error deleting /tmp/blockmgr-244b373c-a8e3-4302-95fa-49829b358285/1e/temp_shuffle_705c5ca6-0ce6-4834-966b-0274df34e277\n",
      "25/03/04 09:45:04 WARN DiskBlockObjectWriter: Error deleting /tmp/blockmgr-244b373c-a8e3-4302-95fa-49829b358285/04/temp_shuffle_886aa3fa-a37c-40ee-b474-a194f8e00367\n",
      "25/03/04 09:45:04 WARN DiskBlockObjectWriter: Error deleting /tmp/blockmgr-244b373c-a8e3-4302-95fa-49829b358285/33/temp_shuffle_80cd775a-a059-445f-a25a-091d625cfa83\n",
      "25/03/04 09:45:04 WARN DiskBlockObjectWriter: Error deleting /tmp/blockmgr-244b373c-a8e3-4302-95fa-49829b358285/31/temp_shuffle_758a7824-23a7-4714-a02f-66c81995dd0a\n",
      "25/03/04 09:45:04 WARN DiskBlockObjectWriter: Error deleting /tmp/blockmgr-244b373c-a8e3-4302-95fa-49829b358285/32/temp_shuffle_8791253a-fd13-4859-91ba-8f510d6fb943\n",
      "25/03/04 09:45:04 WARN DiskBlockObjectWriter: Error deleting /tmp/blockmgr-244b373c-a8e3-4302-95fa-49829b358285/3f/temp_shuffle_2a739474-92f3-4027-a73c-fbf7d34afcf6\n",
      "25/03/04 09:45:04 WARN DiskBlockObjectWriter: Error deleting /tmp/blockmgr-244b373c-a8e3-4302-95fa-49829b358285/3e/temp_shuffle_a097a6ca-cce5-45c1-8190-33b3786019f4\n",
      "25/03/04 09:45:04 WARN DiskBlockObjectWriter: Error deleting /tmp/blockmgr-244b373c-a8e3-4302-95fa-49829b358285/21/temp_shuffle_fcb68f29-dfab-4862-bc51-3eadf472ba8c\n",
      "25/03/04 09:45:04 WARN DiskBlockObjectWriter: Error deleting /tmp/blockmgr-244b373c-a8e3-4302-95fa-49829b358285/06/temp_shuffle_29942c0b-4dd8-4593-8822-d81d0a747968\n",
      "25/03/04 09:45:04 WARN DiskBlockObjectWriter: Error deleting /tmp/blockmgr-244b373c-a8e3-4302-95fa-49829b358285/03/temp_shuffle_31b941ac-8425-4e01-9089-668ee510f9d2\n",
      "25/03/04 09:45:04 WARN DiskBlockObjectWriter: Error deleting /tmp/blockmgr-244b373c-a8e3-4302-95fa-49829b358285/20/temp_shuffle_b6a45b4a-6274-4ab1-91f4-4d89ef82a42d\n",
      "25/03/04 09:45:04 WARN DiskBlockObjectWriter: Error deleting /tmp/blockmgr-244b373c-a8e3-4302-95fa-49829b358285/04/temp_shuffle_3358848d-c514-4140-8c7c-c31a8fc5a49a\n",
      "25/03/04 09:45:04 WARN DiskBlockObjectWriter: Error deleting /tmp/blockmgr-244b373c-a8e3-4302-95fa-49829b358285/02/temp_shuffle_d68cd2d9-0b07-41cf-83f6-c0b36fd9ee3e\n",
      "25/03/04 09:45:04 WARN DiskBlockObjectWriter: Error deleting /tmp/blockmgr-244b373c-a8e3-4302-95fa-49829b358285/3d/temp_shuffle_a0b97c63-aede-46b3-9fa4-6bc56a385eb9\n",
      "25/03/04 09:45:04 WARN DiskBlockObjectWriter: Error deleting /tmp/blockmgr-244b373c-a8e3-4302-95fa-49829b358285/2b/temp_shuffle_4b1ecd1c-7e62-41bc-a757-6178f20f7af1\n",
      "25/03/04 09:45:04 WARN DiskBlockObjectWriter: Error deleting /tmp/blockmgr-244b373c-a8e3-4302-95fa-49829b358285/1b/temp_shuffle_1804bda0-b86f-488a-86ff-7094d162970d\n",
      "25/03/04 09:45:04 WARN DiskBlockObjectWriter: Error deleting /tmp/blockmgr-244b373c-a8e3-4302-95fa-49829b358285/2b/temp_shuffle_a55ef4d8-acbf-4dbe-9264-bc4c4926d564\n",
      "25/03/04 09:45:04 WARN DiskBlockObjectWriter: Error deleting /tmp/blockmgr-244b373c-a8e3-4302-95fa-49829b358285/33/temp_shuffle_d721af87-82cc-4270-bc56-c46fc3650faf\n",
      "25/03/04 09:45:04 WARN DiskBlockObjectWriter: Error deleting /tmp/blockmgr-244b373c-a8e3-4302-95fa-49829b358285/0d/temp_shuffle_8c94cc91-33e9-4fba-bcb7-3ee2a0fd4c95\n",
      "25/03/04 09:45:04 WARN DiskBlockObjectWriter: Error deleting /tmp/blockmgr-244b373c-a8e3-4302-95fa-49829b358285/17/temp_shuffle_e5b9f54a-9fca-4749-a4d4-0a21d2b43e29\n",
      "25/03/04 09:45:04 WARN DiskBlockObjectWriter: Error deleting /tmp/blockmgr-244b373c-a8e3-4302-95fa-49829b358285/09/temp_shuffle_9865bf5b-c58f-46a8-90e2-6108f8786fd2\n",
      "25/03/04 09:45:04 WARN DiskBlockObjectWriter: Error deleting /tmp/blockmgr-244b373c-a8e3-4302-95fa-49829b358285/0c/temp_shuffle_4764b08d-b528-4b98-9e1c-f4ae553ca94d\n",
      "25/03/04 09:45:04 WARN DiskBlockObjectWriter: Error deleting /tmp/blockmgr-244b373c-a8e3-4302-95fa-49829b358285/0f/temp_shuffle_8104f412-7048-495e-9b8d-05f06c4d0311\n",
      "25/03/04 09:45:04 WARN DiskBlockObjectWriter: Error deleting /tmp/blockmgr-244b373c-a8e3-4302-95fa-49829b358285/06/temp_shuffle_4f8bc775-1f24-453a-ad46-16be3f448e44\n",
      "25/03/04 09:45:04 WARN DiskBlockObjectWriter: Error deleting /tmp/blockmgr-244b373c-a8e3-4302-95fa-49829b358285/28/temp_shuffle_ef6e17b7-1e8f-460d-a47e-6aca65341111\n",
      "25/03/04 09:45:04 WARN DiskBlockObjectWriter: Error deleting /tmp/blockmgr-244b373c-a8e3-4302-95fa-49829b358285/2f/temp_shuffle_5b722561-21dc-4ef1-b2d3-015e4df2645e\n",
      "25/03/04 09:45:04 WARN DiskBlockObjectWriter: Error deleting /tmp/blockmgr-244b373c-a8e3-4302-95fa-49829b358285/03/temp_shuffle_b8cf9ac3-265a-40a2-a41d-2062d57bcdc0\n",
      "25/03/04 09:45:04 WARN DiskBlockObjectWriter: Error deleting /tmp/blockmgr-244b373c-a8e3-4302-95fa-49829b358285/2a/temp_shuffle_9ff58545-4cd2-467c-8ace-1d0156a39953\n",
      "25/03/04 09:45:04 WARN DiskBlockObjectWriter: Error deleting /tmp/blockmgr-244b373c-a8e3-4302-95fa-49829b358285/29/temp_shuffle_38236452-e106-4cc8-8d8f-6cc6770e8c76\n",
      "25/03/04 09:45:04 WARN DiskBlockObjectWriter: Error deleting /tmp/blockmgr-244b373c-a8e3-4302-95fa-49829b358285/00/temp_shuffle_7a987f05-b1ed-45fd-bf03-99fb90cc111f\n",
      "25/03/04 09:45:04 WARN DiskBlockObjectWriter: Error deleting /tmp/blockmgr-244b373c-a8e3-4302-95fa-49829b358285/09/temp_shuffle_131335b7-308a-47b0-a4e2-e107b25bec59\n",
      "25/03/04 09:45:04 WARN TaskSetManager: Lost task 232.0 in stage 305.0 (TID 10073) (5e0ed98abed9 executor driver): TaskKilled (Stage cancelled: Job aborted due to stage failure: Task 231 in stage 305.0 failed 1 times, most recent failure: Lost task 231.0 in stage 305.0 (TID 10072) (5e0ed98abed9 executor driver): java.lang.OutOfMemoryError: Java heap space\n",
      "\n",
      "Driver stacktrace:)\n",
      "25/03/04 09:45:04 WARN TaskSetManager: Lost task 230.0 in stage 305.0 (TID 10071) (5e0ed98abed9 executor driver): TaskKilled (Stage cancelled: Job aborted due to stage failure: Task 231 in stage 305.0 failed 1 times, most recent failure: Lost task 231.0 in stage 305.0 (TID 10072) (5e0ed98abed9 executor driver): java.lang.OutOfMemoryError: Java heap space\n",
      "\n",
      "Driver stacktrace:)\n"
     ]
    },
    {
     "ename": "Py4JJavaError",
     "evalue": "An error occurred while calling o497.append.\n: org.apache.spark.SparkException: Job aborted due to stage failure: Task 231 in stage 305.0 failed 1 times, most recent failure: Lost task 231.0 in stage 305.0 (TID 10072) (5e0ed98abed9 executor driver): java.lang.OutOfMemoryError: Java heap space\n\nDriver stacktrace:\n\tat org.apache.spark.scheduler.DAGScheduler.failJobAndIndependentStages(DAGScheduler.scala:2856)\n\tat org.apache.spark.scheduler.DAGScheduler.$anonfun$abortStage$2(DAGScheduler.scala:2792)\n\tat org.apache.spark.scheduler.DAGScheduler.$anonfun$abortStage$2$adapted(DAGScheduler.scala:2791)\n\tat scala.collection.mutable.ResizableArray.foreach(ResizableArray.scala:62)\n\tat scala.collection.mutable.ResizableArray.foreach$(ResizableArray.scala:55)\n\tat scala.collection.mutable.ArrayBuffer.foreach(ArrayBuffer.scala:49)\n\tat org.apache.spark.scheduler.DAGScheduler.abortStage(DAGScheduler.scala:2791)\n\tat org.apache.spark.scheduler.DAGScheduler.$anonfun$handleTaskSetFailed$1(DAGScheduler.scala:1247)\n\tat org.apache.spark.scheduler.DAGScheduler.$anonfun$handleTaskSetFailed$1$adapted(DAGScheduler.scala:1247)\n\tat scala.Option.foreach(Option.scala:407)\n\tat org.apache.spark.scheduler.DAGScheduler.handleTaskSetFailed(DAGScheduler.scala:1247)\n\tat org.apache.spark.scheduler.DAGSchedulerEventProcessLoop.doOnReceive(DAGScheduler.scala:3060)\n\tat org.apache.spark.scheduler.DAGSchedulerEventProcessLoop.onReceive(DAGScheduler.scala:2994)\n\tat org.apache.spark.scheduler.DAGSchedulerEventProcessLoop.onReceive(DAGScheduler.scala:2983)\n\tat org.apache.spark.util.EventLoop$$anon$1.run(EventLoop.scala:49)\nCaused by: java.lang.OutOfMemoryError: Java heap space\n",
     "output_type": "error",
     "traceback": [
      "\u001b[0;31m---------------------------------------------------------------------------\u001b[0m",
      "\u001b[0;31mPy4JJavaError\u001b[0m                             Traceback (most recent call last)",
      "Cell \u001b[0;32mIn[8], line 45\u001b[0m\n\u001b[1;32m     41\u001b[0m     updated_batch \u001b[38;5;241m=\u001b[39m df\u001b[38;5;241m.\u001b[39malias(\u001b[38;5;124m\"\u001b[39m\u001b[38;5;124msource\u001b[39m\u001b[38;5;124m\"\u001b[39m)\u001b[38;5;241m.\u001b[39mjoin(sampled_df\u001b[38;5;241m.\u001b[39malias(\u001b[38;5;124m\"\u001b[39m\u001b[38;5;124mupdates\u001b[39m\u001b[38;5;124m\"\u001b[39m), \u001b[38;5;124m\"\u001b[39m\u001b[38;5;124mextra_col_0\u001b[39m\u001b[38;5;124m\"\u001b[39m, \u001b[38;5;124m\"\u001b[39m\u001b[38;5;124minner\u001b[39m\u001b[38;5;124m\"\u001b[39m) \\\n\u001b[1;32m     42\u001b[0m         \u001b[38;5;241m.\u001b[39mwithColumn(\u001b[38;5;124m\"\u001b[39m\u001b[38;5;124mextra_col_1\u001b[39m\u001b[38;5;124m\"\u001b[39m, col(\u001b[38;5;124m\"\u001b[39m\u001b[38;5;124mextra_col_1\u001b[39m\u001b[38;5;124m\"\u001b[39m) \u001b[38;5;241m+\u001b[39m \u001b[38;5;241m10\u001b[39m)\n\u001b[1;32m     44\u001b[0m     \u001b[38;5;66;03m# Optimize writing using append mode or merge\u001b[39;00m\n\u001b[0;32m---> 45\u001b[0m     \u001b[43mupdated_batch\u001b[49m\u001b[38;5;241;43m.\u001b[39;49m\u001b[43mrepartition\u001b[49m\u001b[43m(\u001b[49m\u001b[38;5;241;43m100\u001b[39;49m\u001b[43m)\u001b[49m\u001b[38;5;241;43m.\u001b[39;49m\u001b[43mwriteTo\u001b[49m\u001b[43m(\u001b[49m\u001b[38;5;124;43m\"\u001b[39;49m\u001b[38;5;124;43mdemo.nyc.taxis_10M_50COLUMNS\u001b[39;49m\u001b[38;5;124;43m\"\u001b[39;49m\u001b[43m)\u001b[49m\u001b[38;5;241;43m.\u001b[39;49m\u001b[43mappend\u001b[49m\u001b[43m(\u001b[49m\u001b[43m)\u001b[49m\n\u001b[1;32m     47\u001b[0m     \u001b[38;5;28mprint\u001b[39m(\u001b[38;5;124mf\u001b[39m\u001b[38;5;124m\"\u001b[39m\u001b[38;5;124mBatch \u001b[39m\u001b[38;5;132;01m{\u001b[39;00mbatch_num\u001b[38;5;250m \u001b[39m\u001b[38;5;241m+\u001b[39m\u001b[38;5;250m \u001b[39m\u001b[38;5;241m1\u001b[39m\u001b[38;5;132;01m}\u001b[39;00m\u001b[38;5;124m/\u001b[39m\u001b[38;5;132;01m{\u001b[39;00mnum_batches\u001b[38;5;132;01m}\u001b[39;00m\u001b[38;5;124m updated.\u001b[39m\u001b[38;5;124m\"\u001b[39m)\n\u001b[1;32m     49\u001b[0m end \u001b[38;5;241m=\u001b[39m time\u001b[38;5;241m.\u001b[39mtime() \u001b[38;5;241m-\u001b[39m st\n",
      "File \u001b[0;32m/opt/spark/python/pyspark/sql/readwriter.py:2107\u001b[0m, in \u001b[0;36mDataFrameWriterV2.append\u001b[0;34m(self)\u001b[0m\n\u001b[1;32m   2102\u001b[0m \u001b[38;5;129m@since\u001b[39m(\u001b[38;5;241m3.1\u001b[39m)\n\u001b[1;32m   2103\u001b[0m \u001b[38;5;28;01mdef\u001b[39;00m \u001b[38;5;21mappend\u001b[39m(\u001b[38;5;28mself\u001b[39m) \u001b[38;5;241m-\u001b[39m\u001b[38;5;241m>\u001b[39m \u001b[38;5;28;01mNone\u001b[39;00m:\n\u001b[1;32m   2104\u001b[0m \u001b[38;5;250m    \u001b[39m\u001b[38;5;124;03m\"\"\"\u001b[39;00m\n\u001b[1;32m   2105\u001b[0m \u001b[38;5;124;03m    Append the contents of the data frame to the output table.\u001b[39;00m\n\u001b[1;32m   2106\u001b[0m \u001b[38;5;124;03m    \"\"\"\u001b[39;00m\n\u001b[0;32m-> 2107\u001b[0m     \u001b[38;5;28;43mself\u001b[39;49m\u001b[38;5;241;43m.\u001b[39;49m\u001b[43m_jwriter\u001b[49m\u001b[38;5;241;43m.\u001b[39;49m\u001b[43mappend\u001b[49m\u001b[43m(\u001b[49m\u001b[43m)\u001b[49m\n",
      "File \u001b[0;32m/opt/spark/python/lib/py4j-0.10.9.7-src.zip/py4j/java_gateway.py:1322\u001b[0m, in \u001b[0;36mJavaMember.__call__\u001b[0;34m(self, *args)\u001b[0m\n\u001b[1;32m   1316\u001b[0m command \u001b[38;5;241m=\u001b[39m proto\u001b[38;5;241m.\u001b[39mCALL_COMMAND_NAME \u001b[38;5;241m+\u001b[39m\\\n\u001b[1;32m   1317\u001b[0m     \u001b[38;5;28mself\u001b[39m\u001b[38;5;241m.\u001b[39mcommand_header \u001b[38;5;241m+\u001b[39m\\\n\u001b[1;32m   1318\u001b[0m     args_command \u001b[38;5;241m+\u001b[39m\\\n\u001b[1;32m   1319\u001b[0m     proto\u001b[38;5;241m.\u001b[39mEND_COMMAND_PART\n\u001b[1;32m   1321\u001b[0m answer \u001b[38;5;241m=\u001b[39m \u001b[38;5;28mself\u001b[39m\u001b[38;5;241m.\u001b[39mgateway_client\u001b[38;5;241m.\u001b[39msend_command(command)\n\u001b[0;32m-> 1322\u001b[0m return_value \u001b[38;5;241m=\u001b[39m \u001b[43mget_return_value\u001b[49m\u001b[43m(\u001b[49m\n\u001b[1;32m   1323\u001b[0m \u001b[43m    \u001b[49m\u001b[43manswer\u001b[49m\u001b[43m,\u001b[49m\u001b[43m \u001b[49m\u001b[38;5;28;43mself\u001b[39;49m\u001b[38;5;241;43m.\u001b[39;49m\u001b[43mgateway_client\u001b[49m\u001b[43m,\u001b[49m\u001b[43m \u001b[49m\u001b[38;5;28;43mself\u001b[39;49m\u001b[38;5;241;43m.\u001b[39;49m\u001b[43mtarget_id\u001b[49m\u001b[43m,\u001b[49m\u001b[43m \u001b[49m\u001b[38;5;28;43mself\u001b[39;49m\u001b[38;5;241;43m.\u001b[39;49m\u001b[43mname\u001b[49m\u001b[43m)\u001b[49m\n\u001b[1;32m   1325\u001b[0m \u001b[38;5;28;01mfor\u001b[39;00m temp_arg \u001b[38;5;129;01min\u001b[39;00m temp_args:\n\u001b[1;32m   1326\u001b[0m     \u001b[38;5;28;01mif\u001b[39;00m \u001b[38;5;28mhasattr\u001b[39m(temp_arg, \u001b[38;5;124m\"\u001b[39m\u001b[38;5;124m_detach\u001b[39m\u001b[38;5;124m\"\u001b[39m):\n",
      "File \u001b[0;32m/opt/spark/python/pyspark/errors/exceptions/captured.py:179\u001b[0m, in \u001b[0;36mcapture_sql_exception.<locals>.deco\u001b[0;34m(*a, **kw)\u001b[0m\n\u001b[1;32m    177\u001b[0m \u001b[38;5;28;01mdef\u001b[39;00m \u001b[38;5;21mdeco\u001b[39m(\u001b[38;5;241m*\u001b[39ma: Any, \u001b[38;5;241m*\u001b[39m\u001b[38;5;241m*\u001b[39mkw: Any) \u001b[38;5;241m-\u001b[39m\u001b[38;5;241m>\u001b[39m Any:\n\u001b[1;32m    178\u001b[0m     \u001b[38;5;28;01mtry\u001b[39;00m:\n\u001b[0;32m--> 179\u001b[0m         \u001b[38;5;28;01mreturn\u001b[39;00m \u001b[43mf\u001b[49m\u001b[43m(\u001b[49m\u001b[38;5;241;43m*\u001b[39;49m\u001b[43ma\u001b[49m\u001b[43m,\u001b[49m\u001b[43m \u001b[49m\u001b[38;5;241;43m*\u001b[39;49m\u001b[38;5;241;43m*\u001b[39;49m\u001b[43mkw\u001b[49m\u001b[43m)\u001b[49m\n\u001b[1;32m    180\u001b[0m     \u001b[38;5;28;01mexcept\u001b[39;00m Py4JJavaError \u001b[38;5;28;01mas\u001b[39;00m e:\n\u001b[1;32m    181\u001b[0m         converted \u001b[38;5;241m=\u001b[39m convert_exception(e\u001b[38;5;241m.\u001b[39mjava_exception)\n",
      "File \u001b[0;32m/opt/spark/python/lib/py4j-0.10.9.7-src.zip/py4j/protocol.py:326\u001b[0m, in \u001b[0;36mget_return_value\u001b[0;34m(answer, gateway_client, target_id, name)\u001b[0m\n\u001b[1;32m    324\u001b[0m value \u001b[38;5;241m=\u001b[39m OUTPUT_CONVERTER[\u001b[38;5;28mtype\u001b[39m](answer[\u001b[38;5;241m2\u001b[39m:], gateway_client)\n\u001b[1;32m    325\u001b[0m \u001b[38;5;28;01mif\u001b[39;00m answer[\u001b[38;5;241m1\u001b[39m] \u001b[38;5;241m==\u001b[39m REFERENCE_TYPE:\n\u001b[0;32m--> 326\u001b[0m     \u001b[38;5;28;01mraise\u001b[39;00m Py4JJavaError(\n\u001b[1;32m    327\u001b[0m         \u001b[38;5;124m\"\u001b[39m\u001b[38;5;124mAn error occurred while calling \u001b[39m\u001b[38;5;132;01m{0}\u001b[39;00m\u001b[38;5;132;01m{1}\u001b[39;00m\u001b[38;5;132;01m{2}\u001b[39;00m\u001b[38;5;124m.\u001b[39m\u001b[38;5;130;01m\\n\u001b[39;00m\u001b[38;5;124m\"\u001b[39m\u001b[38;5;241m.\u001b[39m\n\u001b[1;32m    328\u001b[0m         \u001b[38;5;28mformat\u001b[39m(target_id, \u001b[38;5;124m\"\u001b[39m\u001b[38;5;124m.\u001b[39m\u001b[38;5;124m\"\u001b[39m, name), value)\n\u001b[1;32m    329\u001b[0m \u001b[38;5;28;01melse\u001b[39;00m:\n\u001b[1;32m    330\u001b[0m     \u001b[38;5;28;01mraise\u001b[39;00m Py4JError(\n\u001b[1;32m    331\u001b[0m         \u001b[38;5;124m\"\u001b[39m\u001b[38;5;124mAn error occurred while calling \u001b[39m\u001b[38;5;132;01m{0}\u001b[39;00m\u001b[38;5;132;01m{1}\u001b[39;00m\u001b[38;5;132;01m{2}\u001b[39;00m\u001b[38;5;124m. Trace:\u001b[39m\u001b[38;5;130;01m\\n\u001b[39;00m\u001b[38;5;132;01m{3}\u001b[39;00m\u001b[38;5;130;01m\\n\u001b[39;00m\u001b[38;5;124m\"\u001b[39m\u001b[38;5;241m.\u001b[39m\n\u001b[1;32m    332\u001b[0m         \u001b[38;5;28mformat\u001b[39m(target_id, \u001b[38;5;124m\"\u001b[39m\u001b[38;5;124m.\u001b[39m\u001b[38;5;124m\"\u001b[39m, name, value))\n",
      "\u001b[0;31mPy4JJavaError\u001b[0m: An error occurred while calling o497.append.\n: org.apache.spark.SparkException: Job aborted due to stage failure: Task 231 in stage 305.0 failed 1 times, most recent failure: Lost task 231.0 in stage 305.0 (TID 10072) (5e0ed98abed9 executor driver): java.lang.OutOfMemoryError: Java heap space\n\nDriver stacktrace:\n\tat org.apache.spark.scheduler.DAGScheduler.failJobAndIndependentStages(DAGScheduler.scala:2856)\n\tat org.apache.spark.scheduler.DAGScheduler.$anonfun$abortStage$2(DAGScheduler.scala:2792)\n\tat org.apache.spark.scheduler.DAGScheduler.$anonfun$abortStage$2$adapted(DAGScheduler.scala:2791)\n\tat scala.collection.mutable.ResizableArray.foreach(ResizableArray.scala:62)\n\tat scala.collection.mutable.ResizableArray.foreach$(ResizableArray.scala:55)\n\tat scala.collection.mutable.ArrayBuffer.foreach(ArrayBuffer.scala:49)\n\tat org.apache.spark.scheduler.DAGScheduler.abortStage(DAGScheduler.scala:2791)\n\tat org.apache.spark.scheduler.DAGScheduler.$anonfun$handleTaskSetFailed$1(DAGScheduler.scala:1247)\n\tat org.apache.spark.scheduler.DAGScheduler.$anonfun$handleTaskSetFailed$1$adapted(DAGScheduler.scala:1247)\n\tat scala.Option.foreach(Option.scala:407)\n\tat org.apache.spark.scheduler.DAGScheduler.handleTaskSetFailed(DAGScheduler.scala:1247)\n\tat org.apache.spark.scheduler.DAGSchedulerEventProcessLoop.doOnReceive(DAGScheduler.scala:3060)\n\tat org.apache.spark.scheduler.DAGSchedulerEventProcessLoop.onReceive(DAGScheduler.scala:2994)\n\tat org.apache.spark.scheduler.DAGSchedulerEventProcessLoop.onReceive(DAGScheduler.scala:2983)\n\tat org.apache.spark.util.EventLoop$$anon$1.run(EventLoop.scala:49)\nCaused by: java.lang.OutOfMemoryError: Java heap space\n"
     ]
    }
   ],
   "source": [
    "import time\n",
    "from pyspark.sql.functions import col, when, rand, expr\n",
    "from pyspark.sql import SparkSession\n",
    "\n",
    "# Initialize Spark session with memory optimizations\n",
    "spark = SparkSession.builder \\\n",
    "    .appName(\"Optimized Iceberg Update\") \\\n",
    "    .config(\"spark.driver.memory\", \"8g\") \\\n",
    "    .config(\"spark.executor.memory\", \"8g\") \\\n",
    "    .config(\"spark.executor.memoryOverhead\", \"2g\") \\\n",
    "    .config(\"spark.sql.shuffle.partitions\", \"200\") \\\n",
    "    .config(\"spark.sql.autoBroadcastJoinThreshold\", \"-1\") \\\n",
    "    .getOrCreate()\n",
    "\n",
    "# Load the Iceberg table\n",
    "df = spark.table(\"demo.nyc.taxis_10M_50COLUMNS\")\n",
    "\n",
    "# Debugging: Print total row count\n",
    "total_rows = df.count()\n",
    "print(f\"Total rows in table: {total_rows}\")\n",
    "\n",
    "# Get update percentage from user\n",
    "update_percentage = float(input(\"Enter update percentage (e.g., 1 for 1%): \").strip()) / 100\n",
    "num_rows = max(1, int(total_rows * update_percentage))  # Ensure at least 1 row is updated\n",
    "\n",
    "# Define batch size\n",
    "batch_size = 500  # Reduced batch size to optimize memory usage\n",
    "num_batches = max(1, (num_rows // batch_size) + (1 if num_rows % batch_size else 0))  # Ensure at least 1 batch\n",
    "\n",
    "print(f\"Updating {num_rows} rows (~{update_percentage*100}%) in {num_batches} batches...\")\n",
    "\n",
    "st = time.time()\n",
    "\n",
    "for batch_num in range(num_batches):\n",
    "    print(f\"Processing batch {batch_num + 1}/{num_batches}...\")\n",
    "\n",
    "    # Select a batch of unique row IDs without collecting to the driver\n",
    "    sampled_df = df.select(\"extra_col_0\").distinct().orderBy(rand()).limit(min(batch_size, num_rows))\n",
    "\n",
    "    # Merge updates instead of overwriting partitions\n",
    "    updated_batch = df.alias(\"source\").join(sampled_df.alias(\"updates\"), \"extra_col_0\", \"inner\") \\\n",
    "        .withColumn(\"extra_col_1\", col(\"extra_col_1\") + 10)\n",
    "\n",
    "    # Optimize writing using append mode or merge\n",
    "    updated_batch.repartition(100).writeTo(\"demo.nyc.taxis_10M_50COLUMNS\").append()\n",
    "\n",
    "    print(f\"Batch {batch_num + 1}/{num_batches} updated.\")\n",
    "\n",
    "end = time.time() - st\n",
    "print(f\"\\nTotal update time for {num_batches} batches: {end:.2f} sec\")\n"
   ]
  },
  {
   "cell_type": "code",
   "execution_count": 9,
   "id": "61463e1a-30d9-4954-be73-f4cf0908c6c1",
   "metadata": {},
   "outputs": [
    {
     "name": "stderr",
     "output_type": "stream",
     "text": [
      "ERROR:root:Exception while sending command.\n",
      "Traceback (most recent call last):\n",
      "  File \"/opt/spark/python/lib/py4j-0.10.9.7-src.zip/py4j/clientserver.py\", line 516, in send_command\n",
      "    raise Py4JNetworkError(\"Answer from Java side is empty\")\n",
      "py4j.protocol.Py4JNetworkError: Answer from Java side is empty\n",
      "\n",
      "During handling of the above exception, another exception occurred:\n",
      "\n",
      "Traceback (most recent call last):\n",
      "  File \"/opt/spark/python/lib/py4j-0.10.9.7-src.zip/py4j/java_gateway.py\", line 1038, in send_command\n",
      "    response = connection.send_command(command)\n",
      "  File \"/opt/spark/python/lib/py4j-0.10.9.7-src.zip/py4j/clientserver.py\", line 539, in send_command\n",
      "    raise Py4JNetworkError(\n",
      "py4j.protocol.Py4JNetworkError: Error while sending or receiving\n"
     ]
    },
    {
     "ename": "Py4JError",
     "evalue": "SparkSession$ does not exist in the JVM",
     "output_type": "error",
     "traceback": [
      "\u001b[0;31m---------------------------------------------------------------------------\u001b[0m",
      "\u001b[0;31mPy4JError\u001b[0m                                 Traceback (most recent call last)",
      "Cell \u001b[0;32mIn[9], line 6\u001b[0m\n\u001b[1;32m      3\u001b[0m \u001b[38;5;28;01mfrom\u001b[39;00m \u001b[38;5;21;01mpyspark\u001b[39;00m\u001b[38;5;21;01m.\u001b[39;00m\u001b[38;5;21;01msql\u001b[39;00m \u001b[38;5;28;01mimport\u001b[39;00m SparkSession\n\u001b[1;32m      5\u001b[0m \u001b[38;5;66;03m# Initialize Spark session with memory optimizations\u001b[39;00m\n\u001b[0;32m----> 6\u001b[0m spark \u001b[38;5;241m=\u001b[39m \u001b[43mSparkSession\u001b[49m\u001b[38;5;241;43m.\u001b[39;49m\u001b[43mbuilder\u001b[49m\u001b[43m \u001b[49m\u001b[43m\\\u001b[49m\n\u001b[1;32m      7\u001b[0m \u001b[43m    \u001b[49m\u001b[38;5;241;43m.\u001b[39;49m\u001b[43mappName\u001b[49m\u001b[43m(\u001b[49m\u001b[38;5;124;43m\"\u001b[39;49m\u001b[38;5;124;43mOptimized Iceberg Update\u001b[39;49m\u001b[38;5;124;43m\"\u001b[39;49m\u001b[43m)\u001b[49m\u001b[43m \u001b[49m\u001b[43m\\\u001b[49m\n\u001b[1;32m      8\u001b[0m \u001b[43m    \u001b[49m\u001b[38;5;241;43m.\u001b[39;49m\u001b[43mconfig\u001b[49m\u001b[43m(\u001b[49m\u001b[38;5;124;43m\"\u001b[39;49m\u001b[38;5;124;43mspark.driver.memory\u001b[39;49m\u001b[38;5;124;43m\"\u001b[39;49m\u001b[43m,\u001b[49m\u001b[43m \u001b[49m\u001b[38;5;124;43m\"\u001b[39;49m\u001b[38;5;124;43m12g\u001b[39;49m\u001b[38;5;124;43m\"\u001b[39;49m\u001b[43m)\u001b[49m\u001b[43m \u001b[49m\u001b[43m\\\u001b[49m\n\u001b[1;32m      9\u001b[0m \u001b[43m    \u001b[49m\u001b[38;5;241;43m.\u001b[39;49m\u001b[43mconfig\u001b[49m\u001b[43m(\u001b[49m\u001b[38;5;124;43m\"\u001b[39;49m\u001b[38;5;124;43mspark.executor.memory\u001b[39;49m\u001b[38;5;124;43m\"\u001b[39;49m\u001b[43m,\u001b[49m\u001b[43m \u001b[49m\u001b[38;5;124;43m\"\u001b[39;49m\u001b[38;5;124;43m12g\u001b[39;49m\u001b[38;5;124;43m\"\u001b[39;49m\u001b[43m)\u001b[49m\u001b[43m \u001b[49m\u001b[43m\\\u001b[49m\n\u001b[1;32m     10\u001b[0m \u001b[43m    \u001b[49m\u001b[38;5;241;43m.\u001b[39;49m\u001b[43mconfig\u001b[49m\u001b[43m(\u001b[49m\u001b[38;5;124;43m\"\u001b[39;49m\u001b[38;5;124;43mspark.executor.memoryOverhead\u001b[39;49m\u001b[38;5;124;43m\"\u001b[39;49m\u001b[43m,\u001b[49m\u001b[43m \u001b[49m\u001b[38;5;124;43m\"\u001b[39;49m\u001b[38;5;124;43m4g\u001b[39;49m\u001b[38;5;124;43m\"\u001b[39;49m\u001b[43m)\u001b[49m\u001b[43m \u001b[49m\u001b[43m\\\u001b[49m\n\u001b[1;32m     11\u001b[0m \u001b[43m    \u001b[49m\u001b[38;5;241;43m.\u001b[39;49m\u001b[43mconfig\u001b[49m\u001b[43m(\u001b[49m\u001b[38;5;124;43m\"\u001b[39;49m\u001b[38;5;124;43mspark.executor.cores\u001b[39;49m\u001b[38;5;124;43m\"\u001b[39;49m\u001b[43m,\u001b[49m\u001b[43m \u001b[49m\u001b[38;5;124;43m\"\u001b[39;49m\u001b[38;5;124;43m4\u001b[39;49m\u001b[38;5;124;43m\"\u001b[39;49m\u001b[43m)\u001b[49m\u001b[43m \u001b[49m\u001b[43m\\\u001b[49m\n\u001b[1;32m     12\u001b[0m \u001b[43m    \u001b[49m\u001b[38;5;241;43m.\u001b[39;49m\u001b[43mconfig\u001b[49m\u001b[43m(\u001b[49m\u001b[38;5;124;43m\"\u001b[39;49m\u001b[38;5;124;43mspark.driver.maxResultSize\u001b[39;49m\u001b[38;5;124;43m\"\u001b[39;49m\u001b[43m,\u001b[49m\u001b[43m \u001b[49m\u001b[38;5;124;43m\"\u001b[39;49m\u001b[38;5;124;43m2g\u001b[39;49m\u001b[38;5;124;43m\"\u001b[39;49m\u001b[43m)\u001b[49m\u001b[43m \u001b[49m\u001b[43m\\\u001b[49m\n\u001b[1;32m     13\u001b[0m \u001b[43m    \u001b[49m\u001b[38;5;241;43m.\u001b[39;49m\u001b[43mconfig\u001b[49m\u001b[43m(\u001b[49m\u001b[38;5;124;43m\"\u001b[39;49m\u001b[38;5;124;43mspark.memory.fraction\u001b[39;49m\u001b[38;5;124;43m\"\u001b[39;49m\u001b[43m,\u001b[49m\u001b[43m \u001b[49m\u001b[38;5;124;43m\"\u001b[39;49m\u001b[38;5;124;43m0.7\u001b[39;49m\u001b[38;5;124;43m\"\u001b[39;49m\u001b[43m)\u001b[49m\u001b[43m \u001b[49m\u001b[43m\\\u001b[49m\n\u001b[1;32m     14\u001b[0m \u001b[43m    \u001b[49m\u001b[38;5;241;43m.\u001b[39;49m\u001b[43mconfig\u001b[49m\u001b[43m(\u001b[49m\u001b[38;5;124;43m\"\u001b[39;49m\u001b[38;5;124;43mspark.sql.shuffle.partitions\u001b[39;49m\u001b[38;5;124;43m\"\u001b[39;49m\u001b[43m,\u001b[49m\u001b[43m \u001b[49m\u001b[38;5;124;43m\"\u001b[39;49m\u001b[38;5;124;43m100\u001b[39;49m\u001b[38;5;124;43m\"\u001b[39;49m\u001b[43m)\u001b[49m\u001b[43m \u001b[49m\u001b[43m\\\u001b[49m\n\u001b[1;32m     15\u001b[0m \u001b[43m    \u001b[49m\u001b[38;5;241;43m.\u001b[39;49m\u001b[43mconfig\u001b[49m\u001b[43m(\u001b[49m\u001b[38;5;124;43m\"\u001b[39;49m\u001b[38;5;124;43mspark.sql.autoBroadcastJoinThreshold\u001b[39;49m\u001b[38;5;124;43m\"\u001b[39;49m\u001b[43m,\u001b[49m\u001b[43m \u001b[49m\u001b[38;5;124;43m\"\u001b[39;49m\u001b[38;5;124;43m50MB\u001b[39;49m\u001b[38;5;124;43m\"\u001b[39;49m\u001b[43m)\u001b[49m\u001b[43m \u001b[49m\u001b[43m\\\u001b[49m\n\u001b[1;32m     16\u001b[0m \u001b[43m    \u001b[49m\u001b[38;5;241;43m.\u001b[39;49m\u001b[43mgetOrCreate\u001b[49m\u001b[43m(\u001b[49m\u001b[43m)\u001b[49m\n\u001b[1;32m     18\u001b[0m \u001b[38;5;66;03m# Load the Iceberg table\u001b[39;00m\n\u001b[1;32m     19\u001b[0m df \u001b[38;5;241m=\u001b[39m spark\u001b[38;5;241m.\u001b[39mtable(\u001b[38;5;124m\"\u001b[39m\u001b[38;5;124mdemo.nyc.taxis_10M_50COLUMNS\u001b[39m\u001b[38;5;124m\"\u001b[39m)\n",
      "File \u001b[0;32m/opt/spark/python/pyspark/sql/session.py:503\u001b[0m, in \u001b[0;36mSparkSession.Builder.getOrCreate\u001b[0;34m(self)\u001b[0m\n\u001b[1;32m    500\u001b[0m     session \u001b[38;5;241m=\u001b[39m SparkSession(sc, options\u001b[38;5;241m=\u001b[39m\u001b[38;5;28mself\u001b[39m\u001b[38;5;241m.\u001b[39m_options)\n\u001b[1;32m    501\u001b[0m \u001b[38;5;28;01melse\u001b[39;00m:\n\u001b[1;32m    502\u001b[0m     \u001b[38;5;28mgetattr\u001b[39m(\n\u001b[0;32m--> 503\u001b[0m         \u001b[38;5;28;43mgetattr\u001b[39;49m\u001b[43m(\u001b[49m\u001b[43msession\u001b[49m\u001b[38;5;241;43m.\u001b[39;49m\u001b[43m_jvm\u001b[49m\u001b[43m,\u001b[49m\u001b[43m \u001b[49m\u001b[38;5;124;43m\"\u001b[39;49m\u001b[38;5;124;43mSparkSession$\u001b[39;49m\u001b[38;5;124;43m\"\u001b[39;49m\u001b[43m)\u001b[49m, \u001b[38;5;124m\"\u001b[39m\u001b[38;5;124mMODULE$\u001b[39m\u001b[38;5;124m\"\u001b[39m\n\u001b[1;32m    504\u001b[0m     )\u001b[38;5;241m.\u001b[39mapplyModifiableSettings(session\u001b[38;5;241m.\u001b[39m_jsparkSession, \u001b[38;5;28mself\u001b[39m\u001b[38;5;241m.\u001b[39m_options)\n\u001b[1;32m    505\u001b[0m \u001b[38;5;28;01mreturn\u001b[39;00m session\n",
      "File \u001b[0;32m/opt/spark/python/lib/py4j-0.10.9.7-src.zip/py4j/java_gateway.py:1725\u001b[0m, in \u001b[0;36mJVMView.__getattr__\u001b[0;34m(self, name)\u001b[0m\n\u001b[1;32m   1722\u001b[0m _, error_message \u001b[38;5;241m=\u001b[39m get_error_message(answer)\n\u001b[1;32m   1723\u001b[0m message \u001b[38;5;241m=\u001b[39m compute_exception_message(\n\u001b[1;32m   1724\u001b[0m     \u001b[38;5;124m\"\u001b[39m\u001b[38;5;132;01m{0}\u001b[39;00m\u001b[38;5;124m does not exist in the JVM\u001b[39m\u001b[38;5;124m\"\u001b[39m\u001b[38;5;241m.\u001b[39mformat(name), error_message)\n\u001b[0;32m-> 1725\u001b[0m \u001b[38;5;28;01mraise\u001b[39;00m Py4JError(message)\n",
      "\u001b[0;31mPy4JError\u001b[0m: SparkSession$ does not exist in the JVM"
     ]
    },
    {
     "name": "stderr",
     "output_type": "stream",
     "text": [
      "ERROR:root:Exception while sending command.\n",
      "Traceback (most recent call last):\n",
      "  File \"/opt/spark/python/lib/py4j-0.10.9.7-src.zip/py4j/clientserver.py\", line 516, in send_command\n",
      "    raise Py4JNetworkError(\"Answer from Java side is empty\")\n",
      "py4j.protocol.Py4JNetworkError: Answer from Java side is empty\n",
      "\n",
      "During handling of the above exception, another exception occurred:\n",
      "\n",
      "Traceback (most recent call last):\n",
      "  File \"/opt/spark/python/lib/py4j-0.10.9.7-src.zip/py4j/java_gateway.py\", line 1038, in send_command\n",
      "    response = connection.send_command(command)\n",
      "  File \"/opt/spark/python/lib/py4j-0.10.9.7-src.zip/py4j/clientserver.py\", line 539, in send_command\n",
      "    raise Py4JNetworkError(\n",
      "py4j.protocol.Py4JNetworkError: Error while sending or receiving\n"
     ]
    }
   ],
   "source": [
    "import time\n",
    "from pyspark.sql.functions import expr, rand\n",
    "from pyspark.sql import SparkSession\n",
    "\n",
    "# Initialize Spark session with memory optimizations\n",
    "spark = SparkSession.builder \\\n",
    "    .appName(\"Optimized Iceberg Update\") \\\n",
    "    .config(\"spark.driver.memory\", \"12g\") \\\n",
    "    .config(\"spark.executor.memory\", \"12g\") \\\n",
    "    .config(\"spark.executor.memoryOverhead\", \"4g\") \\\n",
    "    .config(\"spark.executor.cores\", \"4\") \\\n",
    "    .config(\"spark.driver.maxResultSize\", \"2g\") \\\n",
    "    .config(\"spark.memory.fraction\", \"0.7\") \\\n",
    "    .config(\"spark.sql.shuffle.partitions\", \"100\") \\\n",
    "    .config(\"spark.sql.autoBroadcastJoinThreshold\", \"50MB\") \\\n",
    "    .getOrCreate()\n",
    "\n",
    "# Load the Iceberg table\n",
    "df = spark.table(\"demo.nyc.taxis_10M_50COLUMNS\")\n",
    "\n",
    "# Debugging: Print total row count\n",
    "total_rows = df.count()\n",
    "print(f\"Total rows in table: {total_rows}\")\n",
    "\n",
    "# Get update percentage from user\n",
    "update_percentage = float(input(\"Enter update percentage (e.g., 1 for 1%): \").strip()) / 100\n",
    "num_rows = max(1, int(total_rows * update_percentage))  # Ensure at least 1 row is updated\n",
    "\n",
    "# Define batch size dynamically\n",
    "batch_size = min(500, num_rows // 10)  # Adjust batch size based on total updates\n",
    "num_batches = max(1, (num_rows // batch_size) + (1 if num_rows % batch_size else 0))  # Ensure at least 1 batch\n",
    "\n",
    "print(f\"Updating {num_rows} rows (~{update_percentage*100}%) in {num_batches} batches...\")\n",
    "\n",
    "st = time.time()\n",
    "\n",
    "for batch_num in range(num_batches):\n",
    "    print(f\"Processing batch {batch_num + 1}/{num_batches}...\")\n",
    "    \n",
    "    # Select a batch of unique row IDs without collecting to the driver\n",
    "    sampled_df = df.select(\"extra_col_0\").distinct().orderBy(rand()).limit(min(batch_size, num_rows))\n",
    "    \n",
    "    # Use MERGE INTO for efficient updates\n",
    "    spark.sql(f'''\n",
    "        MERGE INTO demo.nyc.taxis_10M_50COLUMNS AS source\n",
    "        USING (SELECT extra_col_0 FROM sampled_df) AS updates\n",
    "        ON source.extra_col_0 = updates.extra_col_0\n",
    "        WHEN MATCHED THEN\n",
    "        UPDATE SET source.extra_col_1 = source.extra_col_1 + 10\n",
    "    ''')\n",
    "\n",
    "    print(f\"Batch {batch_num + 1}/{num_batches} updated.\")\n",
    "\n",
    "end = time.time() - st\n",
    "print(f\"\\nTotal update time for {num_batches} batches: {end:.2f} sec\")\n"
   ]
  },
  {
   "cell_type": "code",
   "execution_count": null,
   "id": "254a762b-ac7a-4493-b64c-f4d7ba5fd7dd",
   "metadata": {},
   "outputs": [],
   "source": []
  }
 ],
 "metadata": {
  "kernelspec": {
   "display_name": "Python 3 (ipykernel)",
   "language": "python",
   "name": "python3"
  },
  "language_info": {
   "codemirror_mode": {
    "name": "ipython",
    "version": 3
   },
   "file_extension": ".py",
   "mimetype": "text/x-python",
   "name": "python",
   "nbconvert_exporter": "python",
   "pygments_lexer": "ipython3",
   "version": "3.9.18"
  }
 },
 "nbformat": 4,
 "nbformat_minor": 5
}
