{
 "cells": [
  {
   "cell_type": "code",
   "execution_count": 1,
   "id": "fae4deab-63e0-4d23-b8ec-0c5bfda89978",
   "metadata": {},
   "outputs": [
    {
     "name": "stderr",
     "output_type": "stream",
     "text": [
      "25/03/03 07:47:56 WARN SparkSession: Using an existing Spark session; only runtime SQL configurations will take effect.\n"
     ]
    }
   ],
   "source": [
    "from pyspark.sql import SparkSession\n",
    "spark = SparkSession.builder.appName(\"records\").getOrCreate()"
   ]
  },
  {
   "cell_type": "code",
   "execution_count": 13,
   "id": "cd037161-60f7-4abd-a50d-ac82dba52a20",
   "metadata": {},
   "outputs": [
    {
     "name": "stdout",
     "output_type": "stream",
     "text": [
      "+---------+--------------------+-----------+\n",
      "|namespace|           tableName|isTemporary|\n",
      "+---------+--------------------+-----------+\n",
      "|      nyc|           taxis_100|      false|\n",
      "|      nyc|     taxis_100M_time|      false|\n",
      "|      nyc|taxis_1000_50COLUMNS|      false|\n",
      "|      nyc|            taxis_1B|      false|\n",
      "|      nyc|taxis_100_50COLUM...|      false|\n",
      "|      nyc|taxis_100000_50CO...|      false|\n",
      "|      nyc|            taxis_1L|      false|\n",
      "|      nyc|          taxis_1000|      false|\n",
      "|      nyc|            taxis_10|      false|\n",
      "|      nyc|   taxis_1L_5COLUMNS|      false|\n",
      "|      nyc|         taxis_10000|      false|\n",
      "|      nyc|            taxis_1M|      false|\n",
      "|      nyc|          taxis_1L_5|      false|\n",
      "|      nyc|          taxis_10_M|      false|\n",
      "|      nyc|taxis_1000_50COLU...|      false|\n",
      "|      nyc|  taxis_10_50COLUMNS|      false|\n",
      "|      nyc|           taxis_10K|      false|\n",
      "|      nyc|            taxis_1K|      false|\n",
      "|      nyc|           taxis_10L|      false|\n",
      "|      nyc|        taxis_5_100M|      false|\n",
      "+---------+--------------------+-----------+\n",
      "only showing top 20 rows\n",
      "\n"
     ]
    }
   ],
   "source": [
    "# Switch to the 'nyc' database\n",
    "spark.sql(\"USE nyc\")\n",
    "\n",
    "# List all tables in the 'nyc' database\n",
    "spark.sql(\"SHOW TABLES\").show()"
   ]
  },
  {
   "cell_type": "code",
   "execution_count": 25,
   "id": "eb57cc93-16bd-4c24-9212-c227e99ae9d0",
   "metadata": {},
   "outputs": [
    {
     "name": "stdout",
     "output_type": "stream",
     "text": [
      "+------------+---------+-------+\n",
      "|col_name    |data_type|comment|\n",
      "+------------+---------+-------+\n",
      "|extra_col_0 |string   |NULL   |\n",
      "|extra_col_1 |int      |NULL   |\n",
      "|extra_col_2 |string   |NULL   |\n",
      "|extra_col_3 |date     |NULL   |\n",
      "|extra_col_4 |string   |NULL   |\n",
      "|extra_col_5 |int      |NULL   |\n",
      "|extra_col_6 |string   |NULL   |\n",
      "|extra_col_7 |date     |NULL   |\n",
      "|extra_col_8 |string   |NULL   |\n",
      "|extra_col_9 |int      |NULL   |\n",
      "|extra_col_10|string   |NULL   |\n",
      "|extra_col_11|date     |NULL   |\n",
      "|extra_col_12|string   |NULL   |\n",
      "|extra_col_13|int      |NULL   |\n",
      "|extra_col_14|string   |NULL   |\n",
      "|extra_col_15|date     |NULL   |\n",
      "|extra_col_16|string   |NULL   |\n",
      "|extra_col_17|int      |NULL   |\n",
      "|extra_col_18|string   |NULL   |\n",
      "|extra_col_19|date     |NULL   |\n",
      "+------------+---------+-------+\n",
      "only showing top 20 rows\n",
      "\n"
     ]
    }
   ],
   "source": [
    "# Use Spark SQL to describe the table and see its columns\n",
    "spark.sql(\"DESCRIBE nyc.taxis_10M_50COLUMNS\").show(truncate=False)\n"
   ]
  },
  {
   "cell_type": "code",
   "execution_count": 2,
   "id": "5ca87b7f-d04c-4eb6-a8d8-db27d2705f97",
   "metadata": {},
   "outputs": [
    {
     "name": "stderr",
     "output_type": "stream",
     "text": [
      "25/03/03 07:48:12 WARN HiveConf: HiveConf of name hive.stats.jdbc.timeout does not exist\n",
      "25/03/03 07:48:12 WARN HiveConf: HiveConf of name hive.stats.retries.wait does not exist\n",
      "25/03/03 07:48:16 WARN ObjectStore: Version information not found in metastore. hive.metastore.schema.verification is not enabled so recording the schema version 2.3.0\n",
      "25/03/03 07:48:16 WARN ObjectStore: setMetaStoreSchemaVersion called but recording version is disabled: version = 2.3.0, comment = Set by MetaStore UNKNOWN@172.18.0.6\n",
      "25/03/03 07:48:16 WARN ObjectStore: Failed to get database global_temp, returning NoSuchObjectException\n",
      "25/03/03 07:48:20 WARN SparkStringUtils: Truncated the string representation of a plan since it was too large. This behavior can be adjusted by setting 'spark.sql.debug.maxToStringFields'.\n",
      "                                                                                \r"
     ]
    },
    {
     "name": "stdout",
     "output_type": "stream",
     "text": [
      "+-----------+-----------+---------------+-----------+-----------+-----------+---------------+-----------+-----------+-----------+---------------+------------+------------+------------+---------------+------------+------------+------------+---------------+------------+------------+------------+---------------+------------+------------+------------+---------------+------------+------------+------------+---------------+------------+------------+------------+---------------+------------+------------+------------+---------------+------------+------------+------------+---------------+------------+------------+------------+---------------+------------+------------+------------+\n",
      "|extra_col_0|extra_col_1|extra_col_2    |extra_col_3|extra_col_4|extra_col_5|extra_col_6    |extra_col_7|extra_col_8|extra_col_9|extra_col_10   |extra_col_11|extra_col_12|extra_col_13|extra_col_14   |extra_col_15|extra_col_16|extra_col_17|extra_col_18   |extra_col_19|extra_col_20|extra_col_21|extra_col_22   |extra_col_23|extra_col_24|extra_col_25|extra_col_26   |extra_col_27|extra_col_28|extra_col_29|extra_col_30   |extra_col_31|extra_col_32|extra_col_33|extra_col_34   |extra_col_35|extra_col_36|extra_col_37|extra_col_38   |extra_col_39|extra_col_40|extra_col_41|extra_col_42   |extra_col_43|extra_col_44|extra_col_45|extra_col_46   |extra_col_47|extra_col_48|extra_col_49|\n",
      "+-----------+-----------+---------------+-----------+-----------+-----------+---------------+-----------+-----------+-----------+---------------+------------+------------+------------+---------------+------------+------------+------------+---------------+------------+------------+------------+---------------+------------+------------+------------+---------------+------------+------------+------------+---------------+------------+------------+------------+---------------+------------+------------+------------+---------------+------------+------------+------------+---------------+------------+------------+------------+---------------+------------+------------+------------+\n",
      "|APVEGXVIGK |957        |XUWCZQRAGYJRUCA|2017-03-29 |HWOILLSGEY |8577       |QLFKTDLWMEONSGM|2017-12-26 |IRBNZXLBVS |3437       |OHZLLTNVGJVJMFU|2015-07-04  |KTJTJOYTBZ  |8428        |BTTLTSPCAZCNFCH|2024-04-18  |HTKDZLHIWO  |6627        |LENKWHGDFXQZZQN|2020-05-22  |VJJRHJDMTF  |1700        |STLEINPIJRLPKKK|2017-08-04  |SPJOSHZSOP  |274         |DSRESHHXZSXTLWM|2024-01-11  |EYFAIVVBDW  |9165        |IZLDMKWIHMXTAVK|2019-09-25  |BKUNWDNWPP  |5303        |ASOIGBUHPMXMIVR|2019-09-12  |OLMEPSNFKO  |6556        |ULUTPVUWVHTZWHH|2021-03-23  |FHOLVWKPCL  |8388        |TODDFKTGFSQSBGW|2019-07-22  |AVUZJGCTMX  |3404        |VBSHABZSSFAWLZR|2018-02-22  |GKQGYJGTOG  |7318        |\n",
      "|IOHKGFICQD |3816       |NMEJNLKPFQVTTPG|2020-01-11 |KQMGZWRJPH |3989       |GBCSFDQBZQCFOZB|2023-09-18 |IAKUAIKGUC |3492       |EVOBDTRALBJLPLG|2023-07-18  |RHERBUERBD  |817         |OECLUWVJEIMRDXM|2023-03-07  |TGYDFNCCQJ  |4385        |OEUATNRGTMUUBFN|2017-08-18  |OPLYEHTBFA  |9507        |VQJAVYRJLRXRJCF|2021-11-01  |MQQZYOUIVW  |2215        |YVMTLQDSJLAMMLC|2019-03-03  |GPUUQCQCFF  |5179        |LQTHJGQRKKFUWET|2016-09-14  |BOPLUSPPSD  |680         |XHKWGNBWMKARHPF|2022-06-15  |GICTNUCJIO  |2148        |GHXVYXEHECVHRVU|2015-04-03  |PBMPVHBIGC  |8617        |UBJODVMOSOBHOQO|2017-10-17  |SJMRENHNUP  |9418        |YLOKFZIGKLVTIFW|2017-03-19  |NFASZKMKNU  |9388        |\n",
      "|PNOAHWXGFE |5556       |BMUNICLFTEZJBZX|2025-02-07 |KXXUEKSVHF |5492       |VLHPKMPHMHIVRVX|2016-03-25 |LDACINZCCG |556        |NZZWVICIWBZVPSL|2018-02-03  |QJJIZCPMXK  |2906        |LUFPCFQAIPKJMAB|2021-01-30  |UEVBLQQNBB  |7678        |PWDSSWRQACJYXMU|2023-11-03  |KYZWBKYOWD  |5581        |LRINWKTQDGWUVXJ|2021-06-01  |RKDPEBDWMN  |460         |AEAVZIACRECPEVD|2022-09-29  |QHRBOUAIQX  |9334        |PZQLYEXYVXSRZIU|2023-10-28  |MRFJTKKDVC  |2816        |CKBHPDYHOAOSLJZ|2019-07-28  |CTIRTPVEAW  |4837        |MUQFHOEVEJWPDJC|2019-01-13  |TDIICJNCPB  |6613        |DYRCIIABLEWTTPA|2020-06-17  |OYXNWODQUD  |1977        |HVTAREKHVKODVJC|2019-05-08  |IEVMMLUXPK  |3387        |\n",
      "|FYCCGQOSJN |9756       |URSOMILFQHGDUWV|2016-05-10 |PUREDVKZLJ |8444       |AKMVZVNJRAFIUTR|2022-03-16 |VZRTASRKHF |169        |JLMQBLTBEBPYOTQ|2023-10-15  |QROOARYFZY  |4433        |QOFIUPQOGYHNAJJ|2015-08-25  |POGXPMUYYG  |9549        |ZIOOQVEFFJKSUXF|2020-12-17  |EBZVDICITG  |699         |NADLOEZOPIWLEEI|2017-12-28  |FMGANGEDMV  |6287        |QFNTPAVBSQFYFRF|2016-03-27  |DOBJHWSUPE  |7101        |ZRVOUMMRVEMSFZD|2015-07-15  |JIVVITMXFE  |5205        |HOKFZVLAPIHATRF|2024-09-10  |BJMHDGYWXG  |6734        |GKCQFUGHFACCLXX|2015-07-07  |LPWKAKEFZO  |1549        |GLOWSHIKTOUKTTC|2017-10-31  |HYSHAYUYWN  |3810        |YEPHINRUNYHXRKH|2024-06-08  |GBOCQYQLSQ  |6303        |\n",
      "|XIJXEAYSXZ |4762       |ETNRNDZFIYFCLYJ|2018-02-24 |ANGOUKUMIG |7534       |CLGVZHDSRZLCDEL|2019-10-02 |HUAICOFUUD |7460       |KMQPULSBQNIAVHE|2015-02-28  |IJDGEJQGAI  |7323        |YVXIRHBLSQMELTB|2021-10-28  |LQEOBZHVHJ  |5808        |GOCUNTQOHLEXGSW|2023-11-09  |LRPHRQWMVS  |1844        |DZGIZRFWEVFQHEY|2015-10-25  |SADDJYZKOI  |9374        |OKNVCBJLGHMGEXZ|2019-10-26  |NZZGVPAXZI  |4989        |FRXBDDKVLXWZXAA|2021-01-16  |NFKQWIECGP  |8522        |VLMJZOXFZYUEPUI|2021-12-06  |EBEBNJZKDR  |6899        |RMSIVUIWSMKLXQR|2022-02-09  |REBRVNNTIW  |134         |UVQKDJZBUCXJVAK|2016-11-21  |PSSCQKWPWL  |1293        |BKPLLXXQARVPHHO|2022-04-02  |LVORTJYLQZ  |2776        |\n",
      "|UICHLFIKUI |9798       |NJDUTIRNLRCUFON|2015-10-13 |KZJHMEPKEH |9807       |JVPFKOKUMCTHMPT|2017-05-04 |HXIMIOMKSU |2306       |RNMLZBRZKZMOTXW|2024-03-08  |TSGOINIOPU  |4541        |BSNJCMHFIMGBGLA|2016-02-02  |UQFEOVWWZI  |4586        |YQCESKUVPRMZKUW|2019-01-16  |HBCDUMBXFO  |5274        |PDBQRVGDBUHUWNX|2023-03-20  |XDOFBJZVRO  |3140        |HROGDCQLBGWRAXR|2020-08-12  |FBNWUVEJVY  |3377        |JUZAHJYGVCDLVHH|2023-11-22  |QYBDYQASPN  |9861        |CMERHOFWEGYPEEY|2023-01-16  |ONPQUTBNLM  |6580        |ZHXTLFIKAHDFTZC|2021-08-15  |KVLWPTEJTA  |2553        |VDYWRHDFHPAHJIG|2024-11-23  |YTCFUYQAYN  |518         |WGGILAPMRBCSBIJ|2015-06-17  |DFICYUNOPA  |1544        |\n",
      "|GUQKYCBQRS |3809       |YLCYSQKKRJDZDJM|2022-07-08 |QXRILUJZEF |9721       |ULBPZKMKNBVXKXV|2017-07-28 |XOOCQUULUR |1120       |SVODJCGDCRYPYAK|2017-07-24  |RGQPWWVGLT  |6409        |LSXFHJAHEDRVPAL|2015-10-02  |IAAQWUNLMV  |8665        |LXPHCVIOFDSAHVJ|2019-04-13  |YVIOONCMII  |4259        |RGIEHGZLUTGRUBY|2019-12-20  |LERDZMSMCK  |603         |HAOKAZMHXXETJIJ|2021-06-03  |PONSSIFEKS  |1622        |WFHDRECVUDBSQQQ|2019-11-29  |TEZKMRGLNH  |682         |RMBHUAEBTEGHHVY|2019-02-24  |AHZTBLIRXN  |7998        |EVJVBXUDOIKYJUZ|2025-01-27  |TJOLEUIGCP  |4945        |FPACPFDGQHFZPGZ|2024-07-10  |PVLUWWIFLR  |4923        |KASGSPGWRDONQHA|2021-08-26  |LZXFJOHIVK  |3427        |\n",
      "|KKRWUJWAVT |1871       |DNZKSBOUXAPDPUQ|2019-08-29 |FBMBIXKSZX |280        |XKCJQBHWAPIINSJ|2015-11-24 |UWIWZIBOAC |2753       |QTPXKZZJDLLMMKJ|2022-06-03  |BOPZUUXAHB  |6799        |SBRGNGMYKVULSET|2018-12-09  |WNIFMRAXII  |4563        |GGBQWHGCZQYNFSU|2016-05-22  |OEUOWGJPTD  |145         |LFKDSVJTRXNUOCR|2022-12-26  |YPPGYCHNQU  |7717        |RSCTDYBRBEOVPES|2023-07-14  |BARPBDNCUL  |6886        |BEJBWXEEBIETSTT|2017-12-23  |BSLZLTTUDM  |7433        |XOIGASFMCWYPJIC|2022-12-11  |SGSIVEEFGG  |4536        |CHQYTIAVGLBAUSG|2016-10-15  |ZSZDTJIZUN  |6349        |LUEIBBWBBDIXIFF|2024-10-15  |WSJFLBQIAT  |2208        |JEEHCHPYTJZPSMJ|2017-11-29  |HLABNCHMQY  |2731        |\n",
      "|ISBRPZGFWJ |5843       |ETISWYTWSLMWYIC|2020-02-06 |ZNFLLNCZYM |2695       |PUXBWLASYMUUFUF|2022-07-12 |PXPTRAZXJG |4900       |PLVRQNUOSADYJFQ|2017-05-15  |IWJUFOGFZA  |9487        |PPITYLMWFDWFIGV|2024-02-08  |CLLPVESDJU  |6608        |JBJKQJMDORCAVUZ|2022-09-01  |HVTXAOWZHO  |6886        |FTHPBKUSBVSDIZQ|2018-12-29  |AZTEHTFCOK  |2229        |PFBPHOVNHFTLTQD|2015-04-18  |BRROYVJAZZ  |1320        |PJWRVZEQRLHHIBH|2020-10-14  |OJPXNWQHNY  |6732        |LYDOZZBKMAOHGNB|2016-09-26  |OTNJCOYVIU  |9260        |GEEYHMILBRWEFMR|2018-11-01  |FWCWWQGCIL  |3016        |LVREILAJCLILBYC|2018-09-14  |TWJZEOZMES  |1858        |JKVSHFUHLIVRBGH|2019-07-28  |JHEOBUCUHZ  |5599        |\n",
      "|KFHZJIVFAU |5814       |LVAELMMWVAGMFOH|2023-12-20 |DKSABLGLFB |5824       |EMZDPAVINGYWEGJ|2022-09-03 |CLGAZOPCJG |9240       |AXBBMYHFGZUODKZ|2019-03-05  |HTFNBHTWAG  |2418        |IQEJPUTXJYZKAIW|2018-06-08  |WIVFXYBSNH  |3319        |NRKVQDDHIYNATPO|2020-03-13  |DXMERHEHES  |8330        |KNFLETQROAAPSAF|2021-09-14  |GPQRGRLWQU  |378         |WVKRCGIPIBRDCTA|2016-05-24  |LJBPSMABGC  |1761        |ZOUBZZYEROICSAS|2021-02-16  |VQUCUYYKYT  |7039        |YOXTZEOGQXMYSMY|2022-07-23  |UXBTHRSHMW  |4250        |FTYRUTWYZZKCFJS|2021-07-01  |XWXKOALQBC  |3333        |AWPACKQRXWVCVXG|2018-07-31  |KXDGBTISWS  |3639        |EFGYBGNQRSJCABW|2024-09-15  |PXXKLUASPY  |8241        |\n",
      "+-----------+-----------+---------------+-----------+-----------+-----------+---------------+-----------+-----------+-----------+---------------+------------+------------+------------+---------------+------------+------------+------------+---------------+------------+------------+------------+---------------+------------+------------+------------+---------------+------------+------------+------------+---------------+------------+------------+------------+---------------+------------+------------+------------+---------------+------------+------------+------------+---------------+------------+------------+------------+---------------+------------+------------+------------+\n",
      "\n"
     ]
    }
   ],
   "source": [
    "spark.sql(\"SELECT * FROM nyc.taxis_10M_50COLUMNS LIMIT 10\").show(truncate=False)"
   ]
  },
  {
   "cell_type": "code",
   "execution_count": 7,
   "id": "0fc1fd11-9b00-41ff-85bb-91485955a9da",
   "metadata": {},
   "outputs": [
    {
     "name": "stdout",
     "output_type": "stream",
     "text": [
      "+-----------+-----------+---------------+-----------+-----------+-----------+---------------+-----------+-----------+-----------+---------------+------------+------------+------------+---------------+------------+------------+------------+---------------+------------+------------+------------+---------------+------------+------------+------------+---------------+------------+------------+------------+---------------+------------+------------+------------+---------------+------------+------------+------------+---------------+------------+------------+------------+---------------+------------+------------+------------+---------------+------------+------------+------------+\n",
      "|extra_col_0|extra_col_1|extra_col_2    |extra_col_3|extra_col_4|extra_col_5|extra_col_6    |extra_col_7|extra_col_8|extra_col_9|extra_col_10   |extra_col_11|extra_col_12|extra_col_13|extra_col_14   |extra_col_15|extra_col_16|extra_col_17|extra_col_18   |extra_col_19|extra_col_20|extra_col_21|extra_col_22   |extra_col_23|extra_col_24|extra_col_25|extra_col_26   |extra_col_27|extra_col_28|extra_col_29|extra_col_30   |extra_col_31|extra_col_32|extra_col_33|extra_col_34   |extra_col_35|extra_col_36|extra_col_37|extra_col_38   |extra_col_39|extra_col_40|extra_col_41|extra_col_42   |extra_col_43|extra_col_44|extra_col_45|extra_col_46   |extra_col_47|extra_col_48|extra_col_49|\n",
      "+-----------+-----------+---------------+-----------+-----------+-----------+---------------+-----------+-----------+-----------+---------------+------------+------------+------------+---------------+------------+------------+------------+---------------+------------+------------+------------+---------------+------------+------------+------------+---------------+------------+------------+------------+---------------+------------+------------+------------+---------------+------------+------------+------------+---------------+------------+------------+------------+---------------+------------+------------+------------+---------------+------------+------------+------------+\n",
      "|CRVJYYFPRY |3405       |VHHGQHQDNMLMIPS|2017-07-08 |EHZCMVTYTR |6011       |PZDNHBTEJHUIFER|2017-03-19 |MPTVSDKRWI |7538       |QSZXRCZQDMMERBV|2017-02-01  |NUWRTQHZVV  |8265        |HYQFXWKEJQGWIIO|2020-07-18  |BDQMDEAWWT  |6151        |FZLOSWRWFGPGJPY|2022-05-03  |JLDHZUWJZF  |7415        |VQPNVOEYZEHPAAO|2015-08-08  |KAKFZOAYII  |1381        |HBGHKXMXOYDDHTP|2020-08-22  |OVLPLOSMES  |5376        |QHMUTENGRMPYXJM|2019-05-15  |SZEVCAXDGQ  |3266        |NBREANDKYAJEQIL|2020-04-12  |ZYBZQERESV  |8834        |OANCJRHRNWTIZCP|2016-10-20  |TUZMJVVYHP  |4471        |XEXDVCTDMUJNSKU|2023-01-23  |TTJFJKQBFA  |8014        |MLZIXNJYRIVRWAI|2019-02-04  |QEABXWFKMP  |2650        |\n",
      "|ZEVLBWPGQJ |6080       |SUOPKZFESSIWDIK|2024-11-04 |EOEXFTCYQY |1005       |SFLWNPFPESYQWMS|2015-03-16 |TQBNMXCXBG |7449       |WHPUWPNIHFDDZWL|2016-05-21  |OZOHEUGTJJ  |156         |DLIVXKMLTUVTNVB|2017-07-20  |TWZJUTWMCT  |1198        |ARDJCYAOBGABCPQ|2019-06-13  |RFNIRMFACI  |4400        |QMHNATZVXWENFEI|2024-10-19  |YGRMLPRUVU  |7722        |LBJTHRNQUAUXERA|2016-04-05  |OGOQUILPBV  |3728        |YGYPJOMHKCLXCJU|2023-08-19  |MAQBDKWESA  |4934        |RJYNEDEPGGMFNIQ|2019-04-06  |SMADYJNTCL  |9976        |CSXDQLXHSISZZBG|2020-01-13  |ZWPGPLRLLD  |7943        |CZMLTVPUYYFEQNZ|2024-01-05  |UCDGFSACQY  |4087        |YBGGQELRIQJYBCG|2024-06-14  |JSYEADUWSP  |298         |\n",
      "|ESTOMZIZJS |7655       |XTMQERCZSOJXIEQ|2020-02-26 |PSGSMRGEFC |185        |IKSWPIPJTFRCAPM|2022-01-29 |PIRPFLNTSV |5045       |CSKIFKPNFVMPFAO|2021-03-20  |XVAVGZDMKO  |8084        |CCAKAQWSCTLGUCY|2017-03-03  |BOAZBTOCUF  |6811        |LYHIKSZPZCBRNSJ|2016-07-13  |RVBCOZAMDE  |8822        |PXSKFCLZZQRRTKW|2016-10-05  |FLUCNFNMFE  |2266        |VOWZICJEVPDKMWO|2017-12-06  |USCBGILZUI  |5251        |WLOKHDJWXSZSITE|2015-07-05  |BBGZRONGRG  |8938        |HKTKAXXJIBTCBUE|2017-05-13  |RXTIBGTUNY  |6989        |UNYUUQPBTYEYKMV|2020-01-14  |JVOPTTYSYG  |6315        |CMCDAVDVYBBOMDN|2022-07-17  |DGCGFFSJIS  |4781        |SPXFPARBAZTHRDH|2019-10-07  |QKXERJXMAU  |1327        |\n",
      "|MNEFJUDFRU |2319       |UABZVIIKRDPBEVB|2016-01-08 |JFUPERNUAD |817        |NGPPXDHEIDNZYEP|2023-07-25 |KSRLXACVJP |772        |MRMSLMPOQDSIREV|2017-05-28  |SPIGXYAMKO  |5005        |NWBCYYFPVKRDRYU|2019-07-24  |HSSVEINPMN  |4513        |VXGXXQHCUXZMRUI|2016-09-22  |NXLMRFXRVJ  |2489        |BGHMBRUEHQVNTPE|2021-07-08  |INHDTTUATX  |1271        |EORXHVEAEPWNFJH|2018-12-21  |HSIYBSXWRW  |1519        |FDTAFBHYHOVCLFQ|2020-02-03  |AOWWWMDZEV  |5531        |ATEVUXMXPRZEOVE|2022-05-10  |PHALBHWQZD  |8957        |KCZYBAVQDYAHEKZ|2024-11-12  |YZLBICSNBH  |1813        |HCGNFIGJTDRHTUU|2022-02-16  |XMPTHRPGPA  |9616        |XAIFPRUHIZFHREA|2017-12-31  |YEPNWISIUC  |290         |\n",
      "|QZICPJYGYS |3172       |FPVZIQDURFYAICG|2020-02-27 |LAGCOCZDZU |8085       |HCUWSFXFQEWTJYT|2018-11-04 |QBWHBOIZDO |6572       |JFHHLULQOYJGMIU|2019-04-29  |AIIUFEQUEO  |5838        |LBZCFDANBFLWNDB|2019-10-25  |XDNVCSJTDS  |9865        |YMOIJBPFAYOPUYV|2019-08-31  |NIRBVUZUQM  |6312        |QWENGXAZEFBBACL|2024-06-06  |CTGOHEJXZF  |3457        |VSBJZIYPROBEWIQ|2020-06-26  |PKMSUTCONU  |212         |VFXKMFQXWOVOGQS|2018-07-12  |FQUNKMRBVA  |905         |HMQNZPGRTGHGXCK|2016-09-30  |BDLXUVNNLJ  |8503        |BPYOHSTVOMNBQWC|2016-05-15  |WLJYUCDGIM  |8852        |ANSVCKXHNNGGSSJ|2016-03-07  |LMKCPGIIHE  |9367        |HRPWFVKLDAWWZBN|2018-09-18  |DQQAYCSOKN  |8600        |\n",
      "|SEATAXWGIO |1762       |HNMMWGBNTWTNKRA|2023-07-31 |XIRJAIOAGJ |6748       |WRBEBOGRSNZFNJL|2020-12-10 |ZFRZGXUZZX |8322       |DAOGZISJPCXNSKV|2018-02-26  |MKKGLUXUJC  |3882        |CGYYIMXXEWEIFKN|2019-03-11  |GVPQYWZGTR  |9203        |BZROEMGIPGBCULU|2015-09-19  |NSNJKTCQSH  |8950        |DBTWMXPVLXYGVEZ|2020-09-20  |UXBJIXFULV  |8805        |WDGAGNBYNGKOCDX|2022-12-26  |KPRFZBHBQS  |3396        |ORIBSCCFSHCAICW|2016-05-21  |LAUHNGPNWY  |8719        |PHVIUTIWQEPIQWQ|2023-10-17  |UZQMOAQTZO  |4728        |MOIPFSBXOOXBUEW|2020-10-13  |ZBZBJVYZQK  |135         |KHLWROGDACAPYQB|2019-05-27  |STCLPYXYMQ  |7427        |RXRUEEBUNRFIGZR|2023-04-29  |TUGKKSLEWY  |7473        |\n",
      "|FDQKGJNHQV |8611       |AODVESKGNLHNBII|2016-12-09 |RETPGRVXGA |7994       |DPCEHFUHPCOZRXA|2023-03-04 |GLMGEZZQSQ |3614       |YLCBYGMRAYLKXPI|2019-03-06  |UVBJFWHQIO  |5241        |BNAPFATSKQFCZKG|2025-02-19  |GOQLRKBIFI  |7388        |GBXVNUKEDOQWJXX|2024-10-10  |YCPKSGOCBR  |4584        |IEMECLIZLLAGONB|2015-08-19  |QXOHYPCJWP  |6027        |OPBDPKJXCRMKAHQ|2019-05-29  |PAZYCHQXEX  |1211        |KJMUGOXASXNLDYL|2023-09-24  |BATYVQTGSX  |6250        |VKACEMAVWEVRCXZ|2023-01-21  |PDRFWXHSWD  |8260        |UAGBNDPWJFPKITG|2024-07-23  |DLSMKPLEHS  |5960        |DKWZNLYUFYHHBBI|2020-09-08  |GDMHOSTFEC  |8409        |YFJDUQGBIWVTZZU|2023-02-05  |GXCFDICRJI  |9023        |\n",
      "|SHYLFLCXUN |8691       |PVLUCIJDGGIPZLH|2017-07-30 |GUYGMFXXYP |7327       |LQSBBIOVZHJTRIN|2024-11-22 |GMDNJYPOMJ |4050       |GEUNUOCBUWHQANT|2023-09-29  |NQCZUFPHWU  |815         |UVETRMLFAHPWYDS|2021-11-20  |PEYCTFQNTC  |9721        |BFDEYOIYUUOWRWW|2017-06-19  |PRKUVPMQGU  |7763        |QCVDTSYQNYLPVHO|2017-05-26  |FGZHPXEPDK  |842         |HEFFDQNFKBENAML|2020-07-07  |CXZMGKEVUK  |9926        |OZKZKMFWMFTMTWC|2020-09-12  |FHGKEZDGXQ  |4744        |HADFVZSCYJUISJM|2021-03-10  |YIMYULDZKX  |812         |EYJERBUZFOUMRMY|2015-08-27  |RMSEHMNKXK  |6121        |MKNSZABMOLBCQYO|2022-01-22  |RZRICVJABR  |5231        |GRGHBKZUJQKOKEO|2017-12-23  |ZQXNBNGYKG  |3712        |\n",
      "|JMSZWNEWYO |7634       |HDSCITKVZBZUASD|2024-12-25 |LWZKBTYPBK |7654       |OKURSCZLNSTOJAT|2024-10-07 |VBRCEIQTEW |3938       |KTQMVTLDLTVZRSA|2019-12-25  |JOSLHMXESN  |5561        |XUALXESBZMRIGFR|2019-08-22  |RQEJQGUXFN  |4859        |JMCQBJIOIIBUJRT|2022-10-21  |YOLQVZNCON  |1381        |CSESTEMFHTQTZUV|2018-05-29  |MHTXSJUIDX  |5371        |KVBOVFOUNMKBYOB|2018-08-21  |ZZJXQIOYJK  |2472        |HIEAPRZZMAULJXE|2024-01-23  |GFHKCOOILT  |7840        |FDGXEBUUVQCLLQD|2023-08-23  |CWELYAZEMP  |4155        |EUCCOMRDTDUDMPN|2024-04-17  |TFUYCRCWLP  |7130        |XDEOOGYURWSOSDS|2021-04-28  |GASSQLSKKY  |3080        |MAEHYLKOEFJTQSN|2020-02-07  |GHBQZAHGEZ  |7908        |\n",
      "|MHDNKBFBPZ |4004       |VZBUSMZSYNGWYXN|2018-04-24 |RPGFRHYFGA |6193       |HGIWGYUGJBVOWWB|2017-03-15 |ZMJZHLDSAP |7491       |LRTFLCEJQMCYJLE|2022-03-29  |LASUBDATIG  |8038        |GDRYHVCZNROJVWK|2023-03-13  |MSXIIFWYNK  |1088        |FENDBZFAXAACEKF|2022-01-28  |AUNUYCQQUV  |4069        |SJDJSFLVNBMKCBC|2018-01-08  |NKZKSFGBHF  |842         |GRJGTUKNFAHWXYQ|2020-11-23  |WGCNYAHMOY  |3553        |ZRIWAGPZQQLPWTD|2016-03-18  |UNOOMJQOFL  |9623        |LUNKGTRLJKBWLPN|2021-02-16  |LMQWBZQUMF  |8195        |RSPPSLRSYJBNVWW|2015-08-31  |KIHKWXWFVW  |4662        |XKZTDGYXEOEALRN|2022-01-04  |JFKTNRATQF  |1385        |CKTXGUJMUFNLBVN|2021-06-11  |GEGVTNSPMS  |5136        |\n",
      "+-----------+-----------+---------------+-----------+-----------+-----------+---------------+-----------+-----------+-----------+---------------+------------+------------+------------+---------------+------------+------------+------------+---------------+------------+------------+------------+---------------+------------+------------+------------+---------------+------------+------------+------------+---------------+------------+------------+------------+---------------+------------+------------+------------+---------------+------------+------------+------------+---------------+------------+------------+------------+---------------+------------+------------+------------+\n",
      "\n",
      "Time taken for the operation: 0.5980069637298584 seconds\n"
     ]
    }
   ],
   "source": [
    "# import time\n",
    "\n",
    "# # Start time\n",
    "# start_time = time.time()\n",
    "\n",
    "# # Run the Spark SQL query\n",
    "# spark.sql(\"SELECT * FROM nyc.taxis_100M_50COLUMNS LIMIT 10\").show(truncate=False)\n",
    "\n",
    "# # End time\n",
    "# end_time = time.time()\n",
    "\n",
    "# # Calculate the duration\n",
    "# execution_time = end_time - start_time\n",
    "\n",
    "# # Print the time taken\n",
    "# print(f\"Time taken for the operation: {execution_time} seconds\")\n"
   ]
  },
  {
   "cell_type": "code",
   "execution_count": 8,
   "id": "c898ebca-b6c5-40d5-8ba8-90070d6dc3c4",
   "metadata": {},
   "outputs": [
    {
     "name": "stdout",
     "output_type": "stream",
     "text": [
      "+----------+----------+\n",
      "|start_date|end_date  |\n",
      "+----------+----------+\n",
      "|2015-03-09|2025-02-22|\n",
      "+----------+----------+\n",
      "\n",
      "Time taken for the operation: 1.1512253284454346 seconds\n"
     ]
    }
   ],
   "source": [
    "# import time\n",
    "\n",
    "# # Start time\n",
    "# start_time = time.time()\n",
    "\n",
    "# # Query to get the first (start) and last (end) dates\n",
    "# query = \"\"\"\n",
    "# SELECT MIN(extra_col_3) AS start_date, MAX(extra_col_3) AS end_date\n",
    "# FROM nyc.taxis_1000_50COLUMNS\n",
    "# \"\"\"\n",
    "\n",
    "# # Execute the query\n",
    "# result = spark.sql(query)\n",
    "\n",
    "# # Show the result\n",
    "# result.show(truncate=False)\n",
    "\n",
    "# # End time\n",
    "# end_time = time.time()\n",
    "\n",
    "# # Calculate the duration\n",
    "# execution_time = end_time - start_time\n",
    "\n",
    "# # Print the time taken\n",
    "# print(f\"Time taken for the operation: {execution_time} seconds\")\n"
   ]
  },
  {
   "cell_type": "code",
   "execution_count": 17,
   "id": "1495a719-90c9-4c30-8baa-99b781a4602b",
   "metadata": {},
   "outputs": [
    {
     "name": "stdout",
     "output_type": "stream",
     "text": [
      "+-------------+\n",
      "|total_records|\n",
      "+-------------+\n",
      "|     10000000|\n",
      "+-------------+\n",
      "\n"
     ]
    }
   ],
   "source": [
    "spark.sql(\"SELECT COUNT(*) AS total_records FROM demo.nyc.taxis_10M_50COLUMNS;\").show()"
   ]
  },
  {
   "cell_type": "code",
   "execution_count": 15,
   "id": "b73e8d8a-0847-4891-99eb-0d948e1174b8",
   "metadata": {},
   "outputs": [
    {
     "data": {
      "text/plain": [
       "DataFrame[]"
      ]
     },
     "execution_count": 15,
     "metadata": {},
     "output_type": "execute_result"
    }
   ],
   "source": [
    "spark.sql(\"DROP TABLE IF EXISTS demo.nyc.taxis_10M_50COLUMNS\")\n"
   ]
  },
  {
   "cell_type": "code",
   "execution_count": null,
   "id": "9f373cde-a1e6-489a-8f16-e405ba9261f3",
   "metadata": {},
   "outputs": [],
   "source": [
    "# from pyspark.sql import SparkSession\n",
    "# import random\n",
    "# from datetime import datetime, timedelta\n",
    "# import time\n",
    "\n",
    "# # Define table name\n",
    "# table_name = \"demo.nyc.taxis_1K_50COLUMNS\"  # Change this to your actual table\n",
    "\n",
    "# # Step 1: Get total records before update\n",
    "# start_time = time.time()\n",
    "# total_records_before = spark.sql(f\"SELECT COUNT(*) FROM {table_name}\").collect()[0][0]\n",
    "# print(f\"Total records before update: {total_records_before}\")\n",
    "\n",
    "# # Step 2: Ask user input for update percentage\n",
    "# update_percentage = float(input(\"Enter percentage of records to update: \"))\n",
    "\n",
    "# # Step 3: Calculate records to update\n",
    "# num_records_to_update = max(1, int((update_percentage / 100) * total_records_before))\n",
    "# print(f\"Updating {num_records_to_update} records.\")\n",
    "\n",
    "# # Step 4: Get table schema (cached once)\n",
    "# schema_df = spark.sql(f\"DESCRIBE {table_name}\").collect()\n",
    "# schema_dict = {row[\"col_name\"]: row[\"data_type\"] for row in schema_df if not row[\"col_name\"].startswith(\"#\")}\n",
    "# columns = list(schema_dict.keys())\n",
    "\n",
    "# # Step 5: Function to generate random values with correct data types for update\n",
    "# def generate_random_value(data_type):\n",
    "#     if \"int\" in data_type:\n",
    "#         return random.randint(1, 10000)  # INT values\n",
    "#     elif \"string\" in data_type:\n",
    "#         return f\"Random_{random.randint(100, 999)}\"  # STRING values\n",
    "#     elif \"date\" in data_type:\n",
    "#         return (datetime.today() - timedelta(days=random.randint(0, 365))).strftime('%Y-%m-%d')  # DATE values\n",
    "#     else:\n",
    "#         return \"NULL\"\n",
    "\n",
    "# # Step 6: Update existing records in bulk\n",
    "# update_queries = []\n",
    "# for _ in range(num_records_to_update):\n",
    "#     # Pick a random record to update (you can add specific conditions if needed)\n",
    "#     random_id = random.randint(1, total_records_before)  # Assuming there's a primary key to target\n",
    "#     update_clause = \", \".join([f\"{col_name} = '{generate_random_value(schema_dict[col_name])}'\" for col_name in columns])\n",
    "#     update_queries.append(f\"UPDATE {table_name} SET {update_clause} WHERE <primary_key_column> = {random_id}\")  # Replace <primary_key_column> with actual primary key column\n",
    "\n",
    "# # Step 7: Execute the update queries\n",
    "# for query in update_queries:\n",
    "#     spark.sql(query)\n",
    "\n",
    "# # Step 8: Get total records after update (if needed, to verify)\n",
    "# # total_records_after = spark.sql(f\"SELECT COUNT(*) FROM {table_name}\").collect()[0][0]\n",
    "\n",
    "# # Step 9: Print final output\n",
    "# end_time = time.time()\n",
    "# # print(f\"Total records after update: {total_records_after}\")\n",
    "# print(f\"✅ Successfully updated {num_records_to_update} records!\")\n",
    "# print(f\"⏳ Total time taken for update: {round(end_time - start_time, 2)} seconds.\")\n"
   ]
  },
  {
   "cell_type": "code",
   "execution_count": 4,
   "id": "ae1d660f-aba3-4dbc-b673-85e1ac640710",
   "metadata": {},
   "outputs": [
    {
     "name": "stdout",
     "output_type": "stream",
     "text": [
      "Total records before insert: 10000000\n"
     ]
    },
    {
     "name": "stdin",
     "output_type": "stream",
     "text": [
      "Enter percentage of records to insert:  vv\n"
     ]
    },
    {
     "ename": "ValueError",
     "evalue": "could not convert string to float: 'vv'",
     "output_type": "error",
     "traceback": [
      "\u001b[0;31m---------------------------------------------------------------------------\u001b[0m",
      "\u001b[0;31mValueError\u001b[0m                                Traceback (most recent call last)",
      "Cell \u001b[0;32mIn[4], line 15\u001b[0m\n\u001b[1;32m     12\u001b[0m \u001b[38;5;28mprint\u001b[39m(\u001b[38;5;124mf\u001b[39m\u001b[38;5;124m\"\u001b[39m\u001b[38;5;124mTotal records before insert: \u001b[39m\u001b[38;5;132;01m{\u001b[39;00mtotal_records_before\u001b[38;5;132;01m}\u001b[39;00m\u001b[38;5;124m\"\u001b[39m)\n\u001b[1;32m     14\u001b[0m \u001b[38;5;66;03m# Step 2: Ask user input for insert percentage\u001b[39;00m\n\u001b[0;32m---> 15\u001b[0m insert_percentage \u001b[38;5;241m=\u001b[39m \u001b[38;5;28;43mfloat\u001b[39;49m\u001b[43m(\u001b[49m\u001b[38;5;28;43minput\u001b[39;49m\u001b[43m(\u001b[49m\u001b[38;5;124;43m\"\u001b[39;49m\u001b[38;5;124;43mEnter percentage of records to insert: \u001b[39;49m\u001b[38;5;124;43m\"\u001b[39;49m\u001b[43m)\u001b[49m\u001b[43m)\u001b[49m\n\u001b[1;32m     17\u001b[0m \u001b[38;5;66;03m# Step 3: Calculate records to insert\u001b[39;00m\n\u001b[1;32m     18\u001b[0m num_records \u001b[38;5;241m=\u001b[39m \u001b[38;5;28mmax\u001b[39m(\u001b[38;5;241m1\u001b[39m, \u001b[38;5;28mint\u001b[39m((insert_percentage \u001b[38;5;241m/\u001b[39m \u001b[38;5;241m100\u001b[39m) \u001b[38;5;241m*\u001b[39m total_records_before))\n",
      "\u001b[0;31mValueError\u001b[0m: could not convert string to float: 'vv'"
     ]
    }
   ],
   "source": [
    "from pyspark.sql import SparkSession\n",
    "import random\n",
    "from datetime import datetime, timedelta\n",
    "import time\n",
    "\n",
    "# Define table name\n",
    "table_name = \"demo.nyc.taxis_10M_50COLUMNS\"  # Change this to your actual table\n",
    "\n",
    "# Step 1: Get total records before insert\n",
    "start_time = time.time()\n",
    "total_records_before = spark.sql(f\"SELECT COUNT(*) FROM {table_name}\").collect()[0][0]\n",
    "print(f\"Total records before insert: {total_records_before}\")\n",
    "\n",
    "# Step 2: Ask user input for insert percentage\n",
    "insert_percentage = float(input(\"Enter percentage of records to insert: \"))\n",
    "\n",
    "# Step 3: Calculate records to insert\n",
    "num_records = max(1, int((insert_percentage / 100) * total_records_before))\n",
    "print(f\"Inserting {num_records} new records.\")\n",
    "\n",
    "# Step 4: Get table schema (cached once)\n",
    "schema_df = spark.sql(f\"DESCRIBE {table_name}\").collect()\n",
    "schema_dict = {row[\"col_name\"]: row[\"data_type\"] for row in schema_df if not row[\"col_name\"].startswith(\"#\")}\n",
    "columns = list(schema_dict.keys())\n",
    "\n",
    "# Step 5: Function to generate random values with correct data types\n",
    "def generate_random_value(data_type):\n",
    "    if \"int\" in data_type:\n",
    "        return str(random.randint(1, 10000))  # INT values\n",
    "    elif \"string\" in data_type:\n",
    "        return f\"'Random_{random.randint(100, 999)}'\"  # STRING values\n",
    "    elif \"date\" in data_type:\n",
    "        return f\"CAST('{(datetime.today() - timedelta(days=random.randint(0, 365))).strftime('%Y-%m-%d')}' AS DATE)\"  # DATE values\n",
    "    else:\n",
    "        return \"NULL\"\n",
    "\n",
    "# Step 6: Insert new records in bulk\n",
    "insert_values = []\n",
    "for _ in range(num_records):\n",
    "    values = [generate_random_value(schema_dict[col_name]) for col_name in columns]\n",
    "    insert_values.append(f\"({', '.join(values)})\")\n",
    "\n",
    "insert_query = f\"INSERT INTO {table_name} VALUES {', '.join(insert_values)}\"\n",
    "spark.sql(insert_query)\n",
    "\n",
    "# Step 7: Get total records after insert\n",
    "#total_records_after = spark.sql(f\"SELECT COUNT(*) FROM {table_name}\").collect()[0][0]\n",
    "\n",
    "# Step 8: Print final output\n",
    "end_time = time.time()\n",
    "#print(f\"Total records after insert: {total_records_after}\")\n",
    "print(f\"✅ Successfully inserted {num_records} new records!\")\n",
    "print(f\"⏳ Total time taken: {round(end_time - start_time, 2)} seconds.\")\n"
   ]
  },
  {
   "cell_type": "code",
   "execution_count": null,
   "id": "2d82ebde-6e12-4276-a1ad-046a95133f1e",
   "metadata": {},
   "outputs": [
    {
     "name": "stdout",
     "output_type": "stream",
     "text": [
      "Total records before update: 10000000\n"
     ]
    },
    {
     "name": "stdin",
     "output_type": "stream",
     "text": [
      "Enter percentage of records to update:  1\n"
     ]
    },
    {
     "name": "stdout",
     "output_type": "stream",
     "text": [
      "Updating 100000 records.\n"
     ]
    },
    {
     "name": "stderr",
     "output_type": "stream",
     "text": [
      "[Stage 2692:>                                                       (0 + 1) / 1]\r"
     ]
    }
   ],
   "source": [
    "from pyspark.sql import SparkSession\n",
    "import time\n",
    "from datetime import datetime\n",
    "\n",
    "# Define table name\n",
    "table_name = \"demo.nyc.taxis_10M_50COLUMNS\"  # Change this to your actual table\n",
    "\n",
    "# Step 1: Get total records before update\n",
    "start_time = time.time()\n",
    "total_records_before = spark.sql(f\"SELECT COUNT(*) FROM {table_name}\").collect()[0][0]\n",
    "print(f\"Total records before update: {total_records_before}\")\n",
    "\n",
    "# Step 2: Ask user input for update percentage (in terms of the total records)\n",
    "update_percentage = float(input(\"Enter percentage of records to update: \"))\n",
    "\n",
    "# Step 3: Calculate records to update\n",
    "num_records_to_update = max(1, int((update_percentage / 100) * total_records_before))\n",
    "print(f\"Updating {num_records_to_update} records.\")\n",
    "\n",
    "# Step 4: Get table schema (cached once)\n",
    "schema_df = spark.sql(f\"DESCRIBE {table_name}\").collect()\n",
    "schema_dict = {row[\"col_name\"]: row[\"data_type\"] for row in schema_df if not row[\"col_name\"].startswith(\"#\")}\n",
    "columns = list(schema_dict.keys())\n",
    "\n",
    "# Step 5: Update records in smaller batches\n",
    "batch_size = 1000  # Set the batch size for updates\n",
    "\n",
    "# Retrieve the IDs of the records to be updated (You could use any criteria to select records)\n",
    "# Here, we will just update a subset of records using a column (e.g., `extra_col_0`) as the identifier\n",
    "ids_to_update = spark.sql(f\"SELECT extra_col_0 FROM {table_name} LIMIT {num_records_to_update}\").collect()\n",
    "\n",
    "# Start the batch update process\n",
    "for batch_start in range(0, num_records_to_update, batch_size):\n",
    "    batch_end = min(batch_start + batch_size, num_records_to_update)\n",
    "    batch_ids = [row['extra_col_0'] for row in ids_to_update[batch_start:batch_end]]  # Get the IDs for the current batch\n",
    "\n",
    "    # Construct the SQL query for the batch update\n",
    "    update_queries = []\n",
    "    for id_value in batch_ids:\n",
    "        # Modify columns directly with business logic or static updates\n",
    "        update_values = []\n",
    "        update_values.append(f\"extra_col_1 = extra_col_1 + 1\")  # Example: Increment `extra_col_1`\n",
    "        update_values.append(f\"extra_col_2 = 'Updated'\")        # Example: Update `extra_col_2` to 'Updated'\n",
    "        update_values.append(f\"extra_col_3 = CAST('{datetime.today().strftime('%Y-%m-%d')}' AS DATE)\")  # Update `extra_col_3` to today's date\n",
    "        \n",
    "        # Construct the UPDATE query for this record\n",
    "        update_query = f\"UPDATE {table_name} SET {', '.join(update_values)} WHERE extra_col_0 = '{id_value}'\"\n",
    "        update_queries.append(update_query)\n",
    "\n",
    "    # Execute the batch update queries\n",
    "    for query in update_queries:\n",
    "        spark.sql(query)\n",
    "\n",
    "    print(f\"✅ Batch {batch_start // batch_size + 1} of {((num_records_to_update - 1) // batch_size) + 1} updated.\")\n",
    "\n",
    "# Step 7: Get total records after update (in case any changes were made to the dataset itself)\n",
    "total_records_after = spark.sql(f\"SELECT COUNT(*) FROM {table_name}\").collect()[0][0]\n",
    "\n",
    "# Step 8: Print final output\n",
    "end_time = time.time()\n",
    "print(f\"✅ Successfully updated {num_records_to_update} records!\")\n",
    "print(f\"Total records after update: {total_records_after}\")\n",
    "print(f\"⏳ Total time taken: {round(end_time - start_time, 2)} seconds.\")\n"
   ]
  },
  {
   "cell_type": "code",
   "execution_count": 12,
   "id": "4c0db77a-10a4-4e72-acd3-7537d169b112",
   "metadata": {},
   "outputs": [
    {
     "name": "stdout",
     "output_type": "stream",
     "text": [
      "+------------+---------+-------+\n",
      "|    col_name|data_type|comment|\n",
      "+------------+---------+-------+\n",
      "| extra_col_0|   string|   NULL|\n",
      "| extra_col_1|      int|   NULL|\n",
      "| extra_col_2|   string|   NULL|\n",
      "| extra_col_3|     date|   NULL|\n",
      "| extra_col_4|   string|   NULL|\n",
      "| extra_col_5|      int|   NULL|\n",
      "| extra_col_6|   string|   NULL|\n",
      "| extra_col_7|     date|   NULL|\n",
      "| extra_col_8|   string|   NULL|\n",
      "| extra_col_9|      int|   NULL|\n",
      "|extra_col_10|   string|   NULL|\n",
      "|extra_col_11|     date|   NULL|\n",
      "|extra_col_12|   string|   NULL|\n",
      "|extra_col_13|      int|   NULL|\n",
      "|extra_col_14|   string|   NULL|\n",
      "|extra_col_15|     date|   NULL|\n",
      "|extra_col_16|   string|   NULL|\n",
      "|extra_col_17|      int|   NULL|\n",
      "|extra_col_18|   string|   NULL|\n",
      "|extra_col_19|     date|   NULL|\n",
      "+------------+---------+-------+\n",
      "only showing top 20 rows\n",
      "\n"
     ]
    }
   ],
   "source": [
    "spark.sql(f\"DESCRIBE {table_name}\").show()\n"
   ]
  },
  {
   "cell_type": "code",
   "execution_count": null,
   "id": "4b813151-b0af-495b-a868-a8bdb597ab52",
   "metadata": {},
   "outputs": [],
   "source": []
  }
 ],
 "metadata": {
  "kernelspec": {
   "display_name": "Python 3 (ipykernel)",
   "language": "python",
   "name": "python3"
  },
  "language_info": {
   "codemirror_mode": {
    "name": "ipython",
    "version": 3
   },
   "file_extension": ".py",
   "mimetype": "text/x-python",
   "name": "python",
   "nbconvert_exporter": "python",
   "pygments_lexer": "ipython3",
   "version": "3.9.18"
  }
 },
 "nbformat": 4,
 "nbformat_minor": 5
}
