{
 "cells": [
  {
   "cell_type": "code",
   "execution_count": 6,
   "id": "83e01ed5-a0d6-4603-9b3b-0863e2d14b23",
   "metadata": {
    "scrolled": true
   },
   "outputs": [
    {
     "name": "stdout",
     "output_type": "stream",
     "text": [
      "Requirement already satisfied: tqdm in /usr/local/lib/python3.9/site-packages (4.67.1)\n",
      "Requirement already satisfied: pandas in /usr/local/lib/python3.9/site-packages (2.2.1)\n",
      "Requirement already satisfied: xlsxwriter in /usr/local/lib/python3.9/site-packages (3.2.2)\n",
      "Requirement already satisfied: tzdata>=2022.7 in /usr/local/lib/python3.9/site-packages (from pandas) (2024.1)\n",
      "Requirement already satisfied: pytz>=2020.1 in /usr/local/lib/python3.9/site-packages (from pandas) (2024.1)\n",
      "Requirement already satisfied: python-dateutil>=2.8.2 in /usr/local/lib/python3.9/site-packages (from pandas) (2.9.0.post0)\n",
      "Requirement already satisfied: numpy<2,>=1.22.4 in /usr/local/lib/python3.9/site-packages (from pandas) (1.26.4)\n",
      "Requirement already satisfied: six>=1.5 in /usr/local/lib/python3.9/site-packages (from python-dateutil>=2.8.2->pandas) (1.16.0)\n",
      "\u001b[33mWARNING: Running pip as the 'root' user can result in broken permissions and conflicting behaviour with the system package manager. It is recommended to use a virtual environment instead: https://pip.pypa.io/warnings/venv\u001b[0m\u001b[33m\n",
      "\u001b[0m\n",
      "\u001b[1m[\u001b[0m\u001b[34;49mnotice\u001b[0m\u001b[1;39;49m]\u001b[0m\u001b[39;49m A new release of pip is available: \u001b[0m\u001b[31;49m23.0.1\u001b[0m\u001b[39;49m -> \u001b[0m\u001b[32;49m25.0.1\u001b[0m\n",
      "\u001b[1m[\u001b[0m\u001b[34;49mnotice\u001b[0m\u001b[1;39;49m]\u001b[0m\u001b[39;49m To update, run: \u001b[0m\u001b[32;49mpip install --upgrade pip\u001b[0m\n"
     ]
    }
   ],
   "source": [
    "!pip install tqdm pandas xlsxwriter"
   ]
  },
  {
   "cell_type": "code",
   "execution_count": 11,
   "id": "50ba707a-66b0-44a6-bd9f-365bef8a4db3",
   "metadata": {
    "scrolled": true
   },
   "outputs": [
    {
     "name": "stdin",
     "output_type": "stream",
     "text": [
      "Enter number_of_records:  100000000\n",
      "File extension (parquet or csv):  parquet\n"
     ]
    },
    {
     "name": "stderr",
     "output_type": "stream",
     "text": [
      "Generating and saving records: 100%|██████████| 100/100 [10:10<00:00,  6.10s/it]\n"
     ]
    }
   ],
   "source": [
    "import random\n",
    "import string\n",
    "import pandas as pd\n",
    "import os, time\n",
    "from tqdm import tqdm\n",
    "import pyarrow.parquet as pq\n",
    "import pyarrow as pa\n",
    "\n",
    "# Define the schema as a list of column names\n",
    "columns = [\"vendor_id\", \"trip_id\", \"trip_distance\", \"fare_amount\", \"store_and_fwd_flag\"]\n",
    "\n",
    "def generate_random_string(length=1):\n",
    "    \"\"\"Generate a random uppercase string of the given length.\"\"\"\n",
    "    return ''.join(random.choice(string.ascii_uppercase) for _ in range(length))\n",
    "\n",
    "def generate_records_chunk(n):\n",
    "    \"\"\"Generate a chunk of records as a list of tuples.\"\"\"\n",
    "    return [\n",
    "        (\n",
    "            random.randint(1, 100),  # vendor_id\n",
    "            random.randint(1, 1000000),  # trip_id\n",
    "            round(random.uniform(0.5, 50.0), 2),  # trip_distance\n",
    "            round(random.uniform(5.0, 500.0), 2),  # fare_amount\n",
    "            generate_random_string()  # store_and_fwd_flag\n",
    "        )\n",
    "        for _ in range(n)\n",
    "    ]\n",
    "\n",
    "def save_records_to_file(df, extn, file_path, append=False):\n",
    "    \"\"\"Save the records to the given file (CSV or Parquet) efficiently.\"\"\"\n",
    "    if extn.lower().strip() == \"parquet\":\n",
    "        # For Parquet, we cannot append directly like CSV.\n",
    "        # For the first chunk, create the file. For subsequent chunks, we append data.\n",
    "        if append:\n",
    "            try:\n",
    "                # Reading the existing Parquet file to append data\n",
    "                existing_df = pd.read_parquet(file_path)\n",
    "                combined_df = pd.concat([existing_df, df], ignore_index=True)\n",
    "                combined_df.to_parquet(file_path, index=False, engine='pyarrow')\n",
    "            except Exception:\n",
    "                # If the file doesn't exist, we create it from scratch\n",
    "                df.to_parquet(file_path, index=False, engine='pyarrow')\n",
    "        else:\n",
    "            df.to_parquet(file_path, index=False, engine='pyarrow')\n",
    "            \n",
    "    elif extn.lower().strip() == \"csv\":\n",
    "        # For CSV, write in append mode but ensure the header is written only for the first chunk\n",
    "        mode = 'a' if append else 'w'\n",
    "        header = not append  # Write the header only for the first chunk\n",
    "        df.to_csv(file_path, index=False, mode=mode, header=header)\n",
    "\n",
    "def main(n, extn):\n",
    "    \"\"\"Main function to generate records and save them in the specified format.\"\"\"\n",
    "    MILLION_RECORDS = 1000000\n",
    "    records_per_chunk = MILLION_RECORDS  # Customize chunk size if necessary\n",
    "    \n",
    "    # Create output directory if not exists\n",
    "    output_dir = f'../input_data/{extn}'\n",
    "    os.makedirs(output_dir, exist_ok=True)\n",
    "\n",
    "    # File name template with placeholders for chunk number and extension\n",
    "    file_path_template = os.path.join(output_dir, \"records_{}_part_{}_{}.{}\")\n",
    "\n",
    "    total_chunks = (n + MILLION_RECORDS - 1) // MILLION_RECORDS  # Calculate total chunks\n",
    "\n",
    "    for chunk_idx in tqdm(range(total_chunks), desc=\"Generating and saving records\"):\n",
    "        start_idx = chunk_idx * MILLION_RECORDS\n",
    "        chunk_size = min(MILLION_RECORDS, n - start_idx)\n",
    "        \n",
    "        # Generate the chunk of records\n",
    "        records = generate_records_chunk(chunk_size)\n",
    "        df = pd.DataFrame(records, columns=columns)\n",
    "        \n",
    "        # Construct the file path for the current chunk\n",
    "        file_path = file_path_template.format(df.shape[0], chunk_idx + 1, time.time(), extn)\n",
    "        \n",
    "        # Write to file\n",
    "        append = (chunk_idx > 0)  # Append to the file if not the first chunk\n",
    "        save_records_to_file(df, extn, file_path, append)\n",
    "        del df\n",
    "\n",
    "# Execution starts here\n",
    "if __name__ == \"__main__\":\n",
    "    number_of_records = int(input(\"Enter number_of_records: \"))\n",
    "    extension = input(\"File extension (parquet or csv): \")\n",
    "\n",
    "    if extension.lower().strip() not in [\"parquet\", \"csv\"]:\n",
    "        msg = \"Extension should be either 'parquet' or 'csv'\"\n",
    "        print(msg)\n",
    "        raise Exception(msg)\n",
    "\n",
    "    main(number_of_records, extension)"
   ]
  },
  {
   "cell_type": "code",
   "execution_count": 8,
   "id": "3af56bc3-fde4-43de-85c1-3af660603363",
   "metadata": {},
   "outputs": [],
   "source": [
    "# 3599920\n",
    "# 3627882\n",
    "# 2979431\n",
    "# 2463931\n",
    "# 3214369"
   ]
  },
  {
   "cell_type": "code",
   "execution_count": null,
   "id": "e049eabc-b962-4f91-a839-06c11be265b6",
   "metadata": {},
   "outputs": [],
   "source": []
  }
 ],
 "metadata": {
  "kernelspec": {
   "display_name": "Python 3 (ipykernel)",
   "language": "python",
   "name": "python3"
  },
  "language_info": {
   "codemirror_mode": {
    "name": "ipython",
    "version": 3
   },
   "file_extension": ".py",
   "mimetype": "text/x-python",
   "name": "python",
   "nbconvert_exporter": "python",
   "pygments_lexer": "ipython3",
   "version": "3.9.18"
  }
 },
 "nbformat": 4,
 "nbformat_minor": 5
}
